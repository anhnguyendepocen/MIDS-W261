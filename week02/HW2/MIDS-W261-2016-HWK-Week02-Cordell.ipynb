{
 "cells": [
  {
   "cell_type": "markdown",
   "metadata": {},
   "source": [
    "# MIDS W261 Spring 2016 Homework Week 2\n",
    "\n",
    "Ron Cordell<br />\n",
    "W261-4<br />\n",
    "ron.cordell@ischool.berkeley.edu<br />\n",
    "January 26, 2016"
   ]
  },
  {
   "cell_type": "markdown",
   "metadata": {},
   "source": [
    "## HW2.0. "
   ]
  },
  {
   "cell_type": "markdown",
   "metadata": {},
   "source": [
    "### What is a race condition in the context of parallel computation? Give an example."
   ]
  },
  {
   "cell_type": "markdown",
   "metadata": {},
   "source": [
    "A race condition in parallel computing can happen when more than one instance of a procedure attempts to modify a shared object. For example, suppose there are two instances of a process that number with its square, and that both instances operate on the same number. There is nothing to control the actual timing of execution of these instances. If one instance of the process performs its work after the other instance then the answer will be the number raised to the 4th power and not the square. If both instances get the number, compute the square, one instance will write the number before the other, and the second one will overwrite the first. In this case, however, we get the correct answer. The problem is that we don't know deterministically which case will happen."
   ]
  },
  {
   "cell_type": "markdown",
   "metadata": {},
   "source": [
    "### What is MapReduce?"
   ]
  },
  {
   "cell_type": "markdown",
   "metadata": {},
   "source": [
    "MapReduce is a two-stage functional programming recipe for processing large data sets.\n",
    "\n",
    "- The first stage performs a computation over all inputs, called a 'map' from Lisp terminology\n",
    "- The second stage aggregates the intermediate output from the first stage, called a 'reduce'\n",
    "\n",
    "While seemingly simple, map reduce can be applied to a huge number of problems and can be used in multiple map-reduce stages for more complex scenarios. When a map function can be applied very simply using commutative and associative types of operations it lends to supporting embarrasingly parallel scenarios. While MapReduce has been around in functional programming languages like Lisp since the 1960's, it's modern use has come to the forefront as a result of a combination of commidity priced hardware compute and storage nodes and the [Google paper](http://static.googleusercontent.com/media/research.google.com/en//archive/mapreduce-osdi04.pdf)."
   ]
  },
  {
   "cell_type": "markdown",
   "metadata": {},
   "source": [
    "### How does it differ from Hadoop?"
   ]
  },
  {
   "cell_type": "markdown",
   "metadata": {},
   "source": [
    "Hadoop provides a framework in which to execute map-reduce and relieves the programmer of certain tasks while providing additional functionality. For example, Hadoop gathers and sorts the `(key,value)` pairs output by the mapper stage and routes them to the appropriate reducer, ensuring that each reducer has a complete set values for the keys given. This intermediate sort and route is part of the Hadoop Shuffle, which is the backbone of Hadoop."
   ]
  },
  {
   "cell_type": "markdown",
   "metadata": {},
   "source": [
    "### Which programming paradigm is Hadoop based on? Explain and give a simple example in code and show the code running."
   ]
  },
  {
   "cell_type": "markdown",
   "metadata": {},
   "source": [
    "Hadoop is based upon the map-reduce programming paradigm which is designed to allow parallel distributed processing of large sets of data by mapping/transforming them to sets of tuples then combining and reducing/aggregating them to smaller sets of tuples. The map and reduce steps are written by the user. \n",
    "\n",
    "What follows is a simple example of a map reduce application. The map and reduce steps are written in Python while the execution of the steps is executed by bash shell commands. This mapper and reducer count the number of occurances of a specified word in a text file."
   ]
  },
  {
   "cell_type": "markdown",
   "metadata": {},
   "source": [
    "#### MapReduce Simple Example\n",
    "\n",
    "What follows is a simple example of a map reduce application. The map and reduce steps are written in Python while the execution of the steps is executed by bash shell commands. This mapper and reducer count the number of occurances of a specified word in a text file.\n",
    "\n",
    "#### MapReduce Example - Map\n",
    "\n",
    "This map step reads a file from the local disk line by line, then breaks each line down to individual words.\n",
    "It then compares each word, ignoring case, to the specified search word and accumulates a count for that line. When all the lines have been examined the mapper writes the count to a file."
   ]
  },
  {
   "cell_type": "code",
   "execution_count": 20,
   "metadata": {
    "collapsed": false
   },
   "outputs": [
    {
     "name": "stdout",
     "output_type": "stream",
     "text": [
      "Overwriting mapper.py\n"
     ]
    }
   ],
   "source": [
    "%%writefile mapper.py\n",
    "#!/usr/bin/python\n",
    "import sys\n",
    "import re\n",
    "count = 0\n",
    "WORD_RE = re.compile(r\"[\\w']+\")\n",
    "\n",
    "\n",
    "# the word to find is the first argument\n",
    "findword = sys.argv[1].lower()\n",
    "\n",
    "# the file to scan is the second argument\n",
    "filename = sys.argv[2]\n",
    "\n",
    "# open the file, read it line by line\n",
    "with open (filename, \"r\") as myfile:\n",
    "    for line in myfile.readlines():\n",
    "        \n",
    "        # process each word in the line by filtering out non-words and if it matches\n",
    "        # the search word, incrementing the word count\n",
    "        for word in WORD_RE.findall(line):\n",
    "            # make this a case-insensitve search\n",
    "            if word.lower() == findword:\n",
    "                count += 1\n",
    "            \n",
    "# now that we've counted this line, write out the count\n",
    "with open ('{0}.intermediateCount'.format(filename),'w') as outfile:\n",
    "    outfile.write('{0}\\n'.format(count))"
   ]
  },
  {
   "cell_type": "code",
   "execution_count": 21,
   "metadata": {
    "collapsed": true
   },
   "outputs": [],
   "source": [
    "# Set the appropriate execution mode on the file so we can execute it\n",
    "!chmod a+x mapper.py"
   ]
  },
  {
   "cell_type": "markdown",
   "metadata": {},
   "source": [
    "#### MapReduce Example - Reduce\n",
    "\n",
    "The reduce step takes as input series of counts and accumulates them into a single count. The reducer recieves its input on STDIN and writes its output to STDOUT."
   ]
  },
  {
   "cell_type": "code",
   "execution_count": 22,
   "metadata": {
    "collapsed": false
   },
   "outputs": [
    {
     "name": "stdout",
     "output_type": "stream",
     "text": [
      "Overwriting reducer.py\n"
     ]
    }
   ],
   "source": [
    "%%writefile reducer.py\n",
    "#!/usr/bin/python\n",
    "import sys\n",
    "sum = 0\n",
    "for line in sys.stdin:\n",
    "    try:\n",
    "        sum += int(line)\n",
    "    except:\n",
    "        pass\n",
    "sys.stdout.write('{0}'.format(sum))"
   ]
  },
  {
   "cell_type": "code",
   "execution_count": 23,
   "metadata": {
    "collapsed": true
   },
   "outputs": [],
   "source": [
    "# Set the appropriate execution mode on the file so we can execute it\n",
    "!chmod a+x reducer.py"
   ]
  },
  {
   "cell_type": "markdown",
   "metadata": {},
   "source": [
    "#### MapReduce Example - Putting it together\n",
    "\n",
    "The following bash shell script takes the file to scan and breaks it into separate sub-files, each containing a chunk of the original file. It then invokes several instances of the mapper.py program, one for each chunk, and supplies one of the chunked files. The bash script waits for all mappers to finish and then It then takes the output files from each of the mapper.py programs and steams them one after the other to the reducer.py program.\n",
    "\n",
    "The output of the MapReduce is the number of times a word has occurred in the file:\n",
    "\n",
    "     found [59] [COPYRIGHT] in the file [LICENSE.txt]"
   ]
  },
  {
   "cell_type": "code",
   "execution_count": 24,
   "metadata": {
    "collapsed": false
   },
   "outputs": [
    {
     "name": "stdout",
     "output_type": "stream",
     "text": [
      "Overwriting pGrepCount.sh\n"
     ]
    }
   ],
   "source": [
    "%%writefile pGrepCount.sh\n",
    "ORIGINAL_FILE=$1\n",
    "FIND_WORD=$2\n",
    "BLOCK_SIZE=$3\n",
    "CHUNK_FILE_PREFIX=$ORIGINAL_FILE.split\n",
    "SORTED_CHUNK_FILES=$CHUNK_FILE_PREFIX*.sorted\n",
    "usage()\n",
    "{\n",
    "    echo Parallel grep\n",
    "    echo usage: pGrepCount filename word chuncksize\n",
    "    echo greps file file1 in $ORIGINAL_FILE and counts the number of lines\n",
    "    echo Note: file1 will be split in chunks up to $ BLOCK_SIZE chunks each\n",
    "    echo $FIND_WORD each chunk will be grepCounted in parallel\n",
    "}\n",
    "#Splitting $ORIGINAL_FILE INTO CHUNKS\n",
    "split -b $BLOCK_SIZE $ORIGINAL_FILE $CHUNK_FILE_PREFIX\n",
    "#DISTRIBUTE\n",
    "for file in $CHUNK_FILE_PREFIX*\n",
    "do\n",
    "    #grep -i $FIND_WORD $file|wc -l >$file.intermediateCount &\n",
    "    ./mapper.py $FIND_WORD $file >$file.intermediateCount &\n",
    "done\n",
    "wait\n",
    "#MERGEING INTERMEDIATE COUNT CAN TAKE THE FIRST COLUMN AND TOTAL...\n",
    "#numOfInstances=$(cat *.intermediateCount | cut -f 1 | paste -sd+ - |bc)\n",
    "numOfInstances=$(cat *.intermediateCount | ./reducer.py)\n",
    "echo \"found [$numOfInstances] [$FIND_WORD] in the file [$ORIGINAL_FILE]\""
   ]
  },
  {
   "cell_type": "code",
   "execution_count": 25,
   "metadata": {
    "collapsed": false
   },
   "outputs": [
    {
     "name": "stdout",
     "output_type": "stream",
     "text": [
      "found [59] [COPYRIGHT] in the file [LICENSE.txt]\r\n"
     ]
    }
   ],
   "source": [
    "# set the permissions on the bash script so it can execute\n",
    "!chmod a+x pGrepCount.sh\n",
    "\n",
    "# execute the MapReduce example and output the result. We will look for the word 'assistance'\n",
    "# the '4K' tells the bash script to break the original file down into chunks of no more than\n",
    "# 4K bytes in size\n",
    "!./pGrepCount.sh LICENSE.txt COPYRIGHT 4k\n"
   ]
  },
  {
   "cell_type": "markdown",
   "metadata": {},
   "source": [
    "## HW2.1. Sort in Hadoop MapReduce\n",
    "\n",
    "#### Given as input: Records of the form `<integer, “NA”>`, where integer is any integer, and “NA” is just the empty string.  Output: sorted key value pairs of the form `<integer, “NA”>` in decreasing order.  What happens if you have multiple reducers? Do you need additional steps? Explain."
   ]
  },
  {
   "cell_type": "markdown",
   "metadata": {},
   "source": [
    "If you have multiple reducers each one will have a locally sorted set of records but won't be able to coordinate with the other reducers to produce a complete sorted list. However, it is possible to customize a partitioner to partition the keys across reducers such that reducer 1 has the lowest key values, reducer 2 has the next lowest, and so on. Then the output of the reducers can be easily merged based on the number of the reducer. Technically this is an additional step. Another way to deal with multiple reducers is to have an additional step of taking the output of each of the reducers and sorting that into a single output."
   ]
  },
  {
   "cell_type": "markdown",
   "metadata": {},
   "source": [
    "#### Write code to generate N  random records of the form `<integer, “NA”>`. Let N = 10,000. Write the python Hadoop streaming map-reduce job to perform this sort. Display the top 10 biggest numbers. Display the 10 smallest numbers"
   ]
  },
  {
   "cell_type": "markdown",
   "metadata": {},
   "source": [
    "### HW 2.1 - Record Generator\n",
    "\n",
    "The `recordgneratory.py` accepts an argument to indicate the number of records to generate. Records are generated by selecting a random integer in the range of 1 to the maximum integer value allowed. That integer is appended with the string \",NA\" and written to the output file as a record."
   ]
  },
  {
   "cell_type": "code",
   "execution_count": 46,
   "metadata": {
    "collapsed": false
   },
   "outputs": [
    {
     "name": "stdout",
     "output_type": "stream",
     "text": [
      "Overwriting recordgenerator.py\n"
     ]
    }
   ],
   "source": [
    "%%writefile recordgenerator.py\n",
    "#!/usr/bin/python\n",
    "import random\n",
    "import sys\n",
    "\n",
    "# get number of records to generate\n",
    "num_records = int(sys.argv[1])\n",
    "\n",
    "# generator function to create random integers in the range of 1 to sys.maxint\n",
    "def gen(n):\n",
    "    count = 0\n",
    "    while count < n:\n",
    "        yield (random.randint(1, sys.maxint))\n",
    "        count += 1\n",
    "        \n",
    "# Generate a set of num_record key,value pairs with integer keys generated by the generator\n",
    "# and write them to an output file in the form of \"integer,NA\"\n",
    "for i in gen(num_records):\n",
    "    sys.stdout.write('{0},{1}\\n'.format(i,\"NA\"))"
   ]
  },
  {
   "cell_type": "code",
   "execution_count": 41,
   "metadata": {
    "collapsed": true
   },
   "outputs": [],
   "source": [
    "# Set the execution permissions of the Python script\n",
    "!chmod a+x recordgenerator.py"
   ]
  },
  {
   "cell_type": "markdown",
   "metadata": {},
   "source": [
    "### HW 2.1 - Map\n",
    "\n",
    "For each line that is read from STDIN we expect a string in the form of:\n",
    "\n",
    "     key,value\n",
    "\n",
    "Write each `key, value` pair to STDOUT as `key<tab>value`"
   ]
  },
  {
   "cell_type": "code",
   "execution_count": 30,
   "metadata": {
    "collapsed": false
   },
   "outputs": [
    {
     "name": "stdout",
     "output_type": "stream",
     "text": [
      "Overwriting mapper.py\n"
     ]
    }
   ],
   "source": [
    "%%writefile mapper.py\n",
    "#!/usr/bin/python\n",
    "import sys\n",
    "\n",
    "# each record comes via STDIN one record at a time\n",
    "for record in sys.stdin:\n",
    "    # clean whitespace and split at the comma\n",
    "    k,v = record.strip().split(',')\n",
    "    # write to STDOUT as key <tab> value\n",
    "    print '{0}\\t{1}'.format(k,v)"
   ]
  },
  {
   "cell_type": "code",
   "execution_count": 31,
   "metadata": {
    "collapsed": true
   },
   "outputs": [],
   "source": [
    "# Set the execution permissions of the Python script\n",
    "!chmod a+x mapper.py"
   ]
  },
  {
   "cell_type": "markdown",
   "metadata": {},
   "source": [
    "### HW 2.1 - Reduce\n",
    "\n",
    "For each `key<tab>value` read from STDIN write back out to STDOUT. The output is sorted because the input is already sorted for us by the record key, thanks to Hadoop."
   ]
  },
  {
   "cell_type": "code",
   "execution_count": 51,
   "metadata": {
    "collapsed": false
   },
   "outputs": [
    {
     "name": "stdout",
     "output_type": "stream",
     "text": [
      "Overwriting reducer.py\n"
     ]
    }
   ],
   "source": [
    "%%writefile reducer.py\n",
    "#!/usr/bin/python\n",
    "import sys\n",
    "\n",
    "# read each key,value pair from STDIN and write back out to STDOUT\n",
    "# we can do this because the keys are sorted for us by Hadoop\n",
    "for pair in sys.stdin:\n",
    "    k,v = pair.strip().split('\\t')\n",
    "    print '{0}\\t{1}'.format(k,v)"
   ]
  },
  {
   "cell_type": "code",
   "execution_count": 52,
   "metadata": {
    "collapsed": true
   },
   "outputs": [],
   "source": [
    "# Set the execution permissions of the Python script\n",
    "!chmod a+x reducer.py"
   ]
  },
  {
   "cell_type": "markdown",
   "metadata": {},
   "source": [
    "### HW 2.1 - Test Code\n",
    "\n",
    "Test the mapper and reducer by piping a small test set to the mapper, sort the output of the mapper based on the integer value (key), pipe the result to the reducer, then filter for the top 10 values."
   ]
  },
  {
   "cell_type": "code",
   "execution_count": 57,
   "metadata": {
    "collapsed": false
   },
   "outputs": [
    {
     "name": "stdout",
     "output_type": "stream",
     "text": [
      "8470506191635231078\tNA\r\n",
      "8026439827727903483\tNA\r\n",
      "7914562750245791116\tNA\r\n",
      "7866281371022919675\tNA\r\n",
      "7640348753853655778\tNA\r\n",
      "6499377995366904625\tNA\r\n",
      "5277692479661556743\tNA\r\n",
      "4708012296169908311\tNA\r\n",
      "4590245591349809339\tNA\r\n",
      "4346827061492181849\tNA\r\n"
     ]
    }
   ],
   "source": [
    "!./recordgenerator.py 20 | ./mapper.py | sort -nr -k1,1 | ./reducer.py | head"
   ]
  },
  {
   "cell_type": "markdown",
   "metadata": {},
   "source": [
    "### HW 2.1 - Running in Hadoop"
   ]
  },
  {
   "cell_type": "markdown",
   "metadata": {},
   "source": [
    "#### Start Yarn and HDFS"
   ]
  },
  {
   "cell_type": "code",
   "execution_count": 58,
   "metadata": {
    "collapsed": false
   },
   "outputs": [
    {
     "name": "stdout",
     "output_type": "stream",
     "text": [
      "starting yarn daemons\n",
      "starting resourcemanager, logging to /usr/local/Cellar/hadoop/2.7.1/libexec/logs/yarn-rcordell-resourcemanager-Rons-iMac-Retina.local.out\n",
      "localhost: no such identity: /Users/rcordell/.ssh/id_dsa: No such file or directory\n",
      "localhost: Saving password to keychain failed\n",
      "localhost: Identity added: /Users/rcordell/.ssh/id_rsa ((null))\n",
      "localhost: starting nodemanager, logging to /usr/local/Cellar/hadoop/2.7.1/libexec/logs/yarn-rcordell-nodemanager-Rons-iMac-Retina.local.out\n",
      "Starting namenodes on [localhost]\n",
      "localhost: starting namenode, logging to /usr/local/Cellar/hadoop/2.7.1/libexec/logs/hadoop-rcordell-namenode-Rons-iMac-Retina.local.out\n",
      "localhost: starting datanode, logging to /usr/local/Cellar/hadoop/2.7.1/libexec/logs/hadoop-rcordell-datanode-Rons-iMac-Retina.local.out\n",
      "Starting secondary namenodes [0.0.0.0]\n",
      "0.0.0.0: starting secondarynamenode, logging to /usr/local/Cellar/hadoop/2.7.1/libexec/logs/hadoop-rcordell-secondarynamenode-Rons-iMac-Retina.local.out\n"
     ]
    }
   ],
   "source": [
    "!/usr/local/Cellar/hadoop/2.7.1/sbin/start-yarn.sh\n",
    "!/usr/local/Cellar/hadoop/2.7.1/sbin/start-dfs.sh"
   ]
  },
  {
   "cell_type": "markdown",
   "metadata": {},
   "source": [
    "#### Create an HDFS folder"
   ]
  },
  {
   "cell_type": "code",
   "execution_count": 59,
   "metadata": {
    "collapsed": false
   },
   "outputs": [],
   "source": [
    "!hdfs dfs -mkdir -p /user/rcordell"
   ]
  },
  {
   "cell_type": "markdown",
   "metadata": {},
   "source": [
    "#### Generate and upload record file containing 10000 records to HDFS"
   ]
  },
  {
   "cell_type": "code",
   "execution_count": 60,
   "metadata": {
    "collapsed": false
   },
   "outputs": [],
   "source": [
    "!./recordgenerator.py 10000 > records.txt\n",
    "!hdfs dfs -put records.txt /user/rcordell"
   ]
  },
  {
   "cell_type": "markdown",
   "metadata": {},
   "source": [
    "#### Hadoop Streaming Submission"
   ]
  },
  {
   "cell_type": "markdown",
   "metadata": {},
   "source": [
    "     hadoop jar hadoopstreamingjarfile \\\n",
    "          -D stream.num.map.output.key.fields=n \\\n",
    "          -mapper mapperfile \\\n",
    "          -reducer reducerfile \\\n",
    "          -input inputfile \\\n",
    "          -output outputfile"
   ]
  },
  {
   "cell_type": "markdown",
   "metadata": {},
   "source": [
    "Submit our MapReduce to Hadoop using Hadoop Streaming. Besides specifying the mapper, reducer, input file and output location, we also specify to use the KeyFieldBasedComparator and set the keycomparator options. This allows us to specify that the sorting will be done on the key field and to treat the key as a numeric value and to reverse sort (descending)."
   ]
  },
  {
   "cell_type": "code",
   "execution_count": 67,
   "metadata": {
    "collapsed": false
   },
   "outputs": [],
   "source": [
    "!hadoop jar /usr/local/Cellar/hadoop/2.7.1/libexec/share/hadoop/tools/lib/hadoop-streaming-2.7.1.jar \\\n",
    "    -D mapreduce.job.output.key.comparator.class=org.apache.hadoop.mapred.lib.KeyFieldBasedComparator \\\n",
    "    -D mapreduce.partition.keycomparator.options=-nr \\\n",
    "    -mapper mapper.py \\\n",
    "    -reducer reducer.py \\\n",
    "    -input records.txt \\\n",
    "    -output recordsOutput"
   ]
  },
  {
   "cell_type": "markdown",
   "metadata": {},
   "source": [
    "#### First 10 Items\n",
    "\n",
    "The sorted records output of the MapReduce is on the HDFS file system in a file called `part-00000`. Let's look at the top 10 lines in the file, which should be the highest numbered records."
   ]
  },
  {
   "cell_type": "code",
   "execution_count": 68,
   "metadata": {
    "collapsed": false
   },
   "outputs": [
    {
     "name": "stdout",
     "output_type": "stream",
     "text": [
      "9223149662631926773\tNA\r\n",
      "9222462994771806812\tNA\r\n",
      "9221376548595256568\tNA\r\n",
      "9221200099560410483\tNA\r\n",
      "9216651204641081164\tNA\r\n",
      "9216610805780812765\tNA\r\n",
      "9215182420885073012\tNA\r\n",
      "9214763879526561081\tNA\r\n",
      "9214470163579875161\tNA\r\n",
      "9212397989479861727\tNA\r\n",
      "cat: Unable to write to output stream.\r\n"
     ]
    }
   ],
   "source": [
    "!hdfs dfs -cat /user/rcordell/recordsOutput/part-00000 | head"
   ]
  },
  {
   "cell_type": "markdown",
   "metadata": {},
   "source": [
    "#### Last 10 Items\n",
    "\n",
    "Now let's look at the last 10 items in the file, which should be the lowest record ids."
   ]
  },
  {
   "cell_type": "code",
   "execution_count": 69,
   "metadata": {
    "collapsed": false
   },
   "outputs": [
    {
     "name": "stdout",
     "output_type": "stream",
     "text": [
      "9242791484899512\tNA\r\n",
      "8658217614831616\tNA\r\n",
      "7790490907682806\tNA\r\n",
      "7435515921714919\tNA\r\n",
      "4424418503692755\tNA\r\n",
      "4258466038084507\tNA\r\n",
      "3781763814522545\tNA\r\n",
      "3693207216031204\tNA\r\n",
      "2915017580505790\tNA\r\n",
      "1594448856056738\tNA\r\n"
     ]
    }
   ],
   "source": [
    "!hdfs dfs -cat /user/rcordell/recordsOutput/part-00000 | tail"
   ]
  },
  {
   "cell_type": "markdown",
   "metadata": {},
   "source": [
    "#### Clean up HDFS output"
   ]
  },
  {
   "cell_type": "code",
   "execution_count": 70,
   "metadata": {
    "collapsed": false
   },
   "outputs": [
    {
     "name": "stdout",
     "output_type": "stream",
     "text": [
      "Deleted /user/rcordell/recordsOutput\r\n"
     ]
    }
   ],
   "source": [
    "!hdfs dfs -rm -r /user/rcordell/recordsOutput"
   ]
  },
  {
   "cell_type": "code",
   "execution_count": 71,
   "metadata": {
    "collapsed": false
   },
   "outputs": [
    {
     "name": "stdout",
     "output_type": "stream",
     "text": [
      "Deleted /user/rcordell/records.txt\r\n"
     ]
    }
   ],
   "source": [
    "!hdfs dfs -rm /user/rcordell/records.txt"
   ]
  },
  {
   "cell_type": "markdown",
   "metadata": {},
   "source": [
    "#### Stop Yarn and HDFS"
   ]
  },
  {
   "cell_type": "code",
   "execution_count": null,
   "metadata": {
    "collapsed": false
   },
   "outputs": [],
   "source": [
    "!/usr/local/Cellar/hadoop/2.7.1/sbin/stop-yarn.sh\n",
    "!/usr/local/Cellar/hadoop/2.7.1/sbin/stop-dfs.sh"
   ]
  },
  {
   "cell_type": "markdown",
   "metadata": {},
   "source": [
    "## HW2.2.  WORDCOUNT\n",
    "\n",
    "Using the Enron data from HW1 and Hadoop MapReduce streaming, write the mapper/reducer job that  will determine the word count (number of occurrences) of each white-space delimitted token (assume spaces, fullstops, comma as delimiters). Examine the word “assistance” and report its word count results.\n",
    " \n",
    "CROSSCHECK: \n",
    "    >grep assistance enronemail_1h.txt|cut -d$'\\t' -f4| grep assistance|wc -l    \n",
    "     8    \n",
    "\n",
    "#NOTE  \"assistance\" occurs on 8 lines but how many times does the token occur? 10 times! This is the number we are looking for!"
   ]
  },
  {
   "cell_type": "markdown",
   "metadata": {},
   "source": [
    "### Map"
   ]
  },
  {
   "cell_type": "code",
   "execution_count": 11,
   "metadata": {
    "collapsed": false
   },
   "outputs": [
    {
     "name": "stdout",
     "output_type": "stream",
     "text": [
      "Overwriting mapper.py\n"
     ]
    }
   ],
   "source": [
    "%%writefile mapper.py\n",
    "#!/usr/bin/python\n",
    "## mapper.py\n",
    "## Author: Ron Cordell\n",
    "## Description: mapper code for HW2.2\n",
    "## Given a file and list of words, read lines and count occurrences of words\n",
    "## Output a key, value => (id, class, token, term_flag) = count\n",
    "\n",
    "import sys\n",
    "import re\n",
    "\n",
    "## Lines in the file have 4 fields:\n",
    "## ID \\t SPAM \\t SUBJECT \\t CONTENT \\n\n",
    "WORD_RE = re.compile(r\"[\\w']+\")\n",
    "\n",
    "# extract words to count from first positional argument\n",
    "wordlist = sys.argv[1].split()\n",
    "\n",
    "for line in sys.stdin:\n",
    "    fields = line.split('\\t')      \n",
    "    if len(fields) > 3:\n",
    "        # we are interested in subject and body but need to be resilient for missing fields\n",
    "        text = '{0} {1}'.format(fields[2],fields[3])\n",
    "    elif len(fields) > 2:\n",
    "        text = fields[2]\n",
    "    # extract only words from the combined subject and body text\n",
    "    for word in WORD_RE.findall(text):\n",
    "        if word.lower() in wordlist:\n",
    "            print('{0}\\t{1}'.format(word.lower(), 1))"
   ]
  },
  {
   "cell_type": "code",
   "execution_count": 12,
   "metadata": {
    "collapsed": true
   },
   "outputs": [],
   "source": [
    "# Set the execution permissions of the Python script\n",
    "!chmod a+x mapper.py"
   ]
  },
  {
   "cell_type": "markdown",
   "metadata": {},
   "source": [
    "### Reduce"
   ]
  },
  {
   "cell_type": "code",
   "execution_count": 13,
   "metadata": {
    "collapsed": false
   },
   "outputs": [
    {
     "name": "stdout",
     "output_type": "stream",
     "text": [
      "Overwriting reducer.py\n"
     ]
    }
   ],
   "source": [
    "%%writefile reducer.py\n",
    "#!/usr/bin/python\n",
    "## reducer.py\n",
    "## Author: Ron Cordell\n",
    "## Description: reducer code for HW2.2\n",
    "## given a list of key,value pairs for word, count, aggregate and output the list\n",
    "from operator import itemgetter\n",
    "import sys\n",
    "\n",
    "current_word = None\n",
    "current_count = 0\n",
    "word = None\n",
    "\n",
    "# input comes from STDIN\n",
    "for line in sys.stdin:\n",
    "    # remove leading and trailing whitespace\n",
    "    line = line.strip()\n",
    "\n",
    "    # parse the input we got from mapper.py\n",
    "    word, count = line.split('\\t', 1)\n",
    "\n",
    "    # convert count (currently a string) to int\n",
    "    try:\n",
    "        count = int(count)\n",
    "    except ValueError:\n",
    "        # count was not a number, so silently\n",
    "        # ignore/discard this line\n",
    "        continue\n",
    "\n",
    "    # this IF-switch only works because Hadoop sorts map output\n",
    "    # by key (here: word) before it is passed to the reducer\n",
    "    if current_word == word:\n",
    "        current_count += count\n",
    "    else:\n",
    "        if current_word:\n",
    "            # write result to STDOUT\n",
    "            print '%s\\t%s' % (current_word, current_count)\n",
    "        current_count = count\n",
    "        current_word = word\n",
    "\n",
    "# do not forget to output the last word if needed!\n",
    "if current_word == word:\n",
    "    print '%s\\t%s' % (current_word, current_count)"
   ]
  },
  {
   "cell_type": "code",
   "execution_count": 14,
   "metadata": {
    "collapsed": true
   },
   "outputs": [],
   "source": [
    "# Set the execution permissions of the Python script\n",
    "!chmod a+x reducer.py"
   ]
  },
  {
   "cell_type": "markdown",
   "metadata": {},
   "source": [
    "### Test"
   ]
  },
  {
   "cell_type": "code",
   "execution_count": 15,
   "metadata": {
    "collapsed": false
   },
   "outputs": [
    {
     "name": "stdout",
     "output_type": "stream",
     "text": [
      "assistance\t10\r\n"
     ]
    }
   ],
   "source": [
    "!cat enronemail_1h.txt | ./mapper.py \"assistance\" | ./reducer.py"
   ]
  },
  {
   "cell_type": "markdown",
   "metadata": {},
   "source": [
    "## Running in Hadoop\n",
    "\n",
    "### Start YARN and HDFS"
   ]
  },
  {
   "cell_type": "code",
   "execution_count": null,
   "metadata": {
    "collapsed": false
   },
   "outputs": [],
   "source": [
    "!/usr/local/Cellar/hadoop/2.7.1/sbin/start-yarn.sh\n",
    "!/usr/local/Cellar/hadoop/2.7.1/sbin/start-dfs.sh"
   ]
  },
  {
   "cell_type": "markdown",
   "metadata": {},
   "source": [
    "### Create HDFS Folder"
   ]
  },
  {
   "cell_type": "code",
   "execution_count": 5,
   "metadata": {
    "collapsed": false
   },
   "outputs": [],
   "source": [
    "!hdfs dfs -mkdir -p /user/rcordell"
   ]
  },
  {
   "cell_type": "markdown",
   "metadata": {},
   "source": [
    "### Copy Enron email file to HDFS"
   ]
  },
  {
   "cell_type": "code",
   "execution_count": 22,
   "metadata": {
    "collapsed": false
   },
   "outputs": [],
   "source": [
    "!hdfs dfs -put enronemail_1h.txt /user/rcordell"
   ]
  },
  {
   "cell_type": "markdown",
   "metadata": {},
   "source": [
    "### Run Hadoop Job"
   ]
  },
  {
   "cell_type": "code",
   "execution_count": 23,
   "metadata": {
    "collapsed": false
   },
   "outputs": [],
   "source": [
    "!hadoop jar /usr/local/Cellar/hadoop/2.7.1/libexec/share/hadoop/tools/lib/hadoop-streaming-2.7.1.jar -D mapreduce.job.output.key.comparator.class=org.apache.hadoop.mapred.lib.KeyFieldBasedComparator -D mapreduce.partition.keycomparator.options=-nr -mapper \"mapper.py 'assistance'\" -reducer reducer.py -input enronemail_1h.txt -output countsOutput"
   ]
  },
  {
   "cell_type": "markdown",
   "metadata": {},
   "source": [
    "### Show output"
   ]
  },
  {
   "cell_type": "code",
   "execution_count": 24,
   "metadata": {
    "collapsed": false
   },
   "outputs": [
    {
     "name": "stdout",
     "output_type": "stream",
     "text": [
      "assistance\t10\r\n"
     ]
    }
   ],
   "source": [
    "!hdfs dfs -cat /user/rcordell/countsOutput/part-00000"
   ]
  },
  {
   "cell_type": "markdown",
   "metadata": {},
   "source": [
    "### Clean up HDFS"
   ]
  },
  {
   "cell_type": "code",
   "execution_count": 25,
   "metadata": {
    "collapsed": false
   },
   "outputs": [
    {
     "name": "stdout",
     "output_type": "stream",
     "text": [
      "Deleted /user/rcordell/countsOutput\r\n"
     ]
    }
   ],
   "source": [
    "!hdfs dfs -rm -r /user/rcordell/countsOutput"
   ]
  },
  {
   "cell_type": "markdown",
   "metadata": {},
   "source": [
    "### Stop YARN and HDFS"
   ]
  },
  {
   "cell_type": "code",
   "execution_count": null,
   "metadata": {
    "collapsed": false,
    "scrolled": true
   },
   "outputs": [],
   "source": [
    "!/usr/local/Cellar/hadoop/2.7.1/sbin/stop-yarn.sh\n",
    "!/usr/local/Cellar/hadoop/2.7.1/sbin/stop-dfs.sh"
   ]
  },
  {
   "cell_type": "markdown",
   "metadata": {},
   "source": [
    "## HW2.2.1  \n",
    "\n",
    "Using Hadoop MapReduce and your wordcount job (from HW2.2) determine the top-10 occurring tokens (most frequent tokens)"
   ]
  },
  {
   "cell_type": "markdown",
   "metadata": {},
   "source": [
    "### Map\n",
    "\n",
    "We need to generalize the mapper..."
   ]
  },
  {
   "cell_type": "code",
   "execution_count": 26,
   "metadata": {
    "collapsed": false
   },
   "outputs": [
    {
     "name": "stdout",
     "output_type": "stream",
     "text": [
      "Overwriting mapper.py\n"
     ]
    }
   ],
   "source": [
    "%%writefile mapper.py\n",
    "#!/usr/bin/python\n",
    "## mapper.py\n",
    "## Author: Ron Cordell\n",
    "## Description: mapper code for HW2.2\n",
    "## Given a file and list of words, read lines and count occurrences of words\n",
    "## Output a key, value => (id, class, token, term_flag) = count\n",
    "\n",
    "import sys\n",
    "import re\n",
    "\n",
    "## Lines in the file have 4 fields:\n",
    "## ID \\t SPAM \\t SUBJECT \\t CONTENT \\n\n",
    "WORD_RE = re.compile(r\"[\\w']+\")\n",
    "\n",
    "wordlist = []\n",
    "\n",
    "# extract words to count from first positional argument\n",
    "if len(sys.argv) > 1:\n",
    "    wordlist = sys.argv[1].split()    \n",
    "\n",
    "for line in sys.stdin:\n",
    "    fields = line.split('\\t')      \n",
    "    if len(fields) > 3:\n",
    "        # we are interested in subject and body but need to be resilient for missing fields\n",
    "        text = '{0} {1}'.format(fields[2],fields[3])\n",
    "    elif len(fields) > 2:\n",
    "        text = fields[2]\n",
    "    # extract only words from the combined subject and body text\n",
    "    # if a wordlist parameter was supplied, count only those words\n",
    "    for word in WORD_RE.findall(text):\n",
    "        if len(wordlist) > 0:\n",
    "            if word.lower() in wordlist:\n",
    "                print('{0}\\t{1}'.format(word.lower(), 1))\n",
    "        else:\n",
    "            # otherwise count all words\n",
    "            print('{0}\\t{1}'.format(word.lower(), 1))"
   ]
  },
  {
   "cell_type": "code",
   "execution_count": 27,
   "metadata": {
    "collapsed": true
   },
   "outputs": [],
   "source": [
    "# Set the execution permissions of the Python script\n",
    "!chmod a+x mapper.py"
   ]
  },
  {
   "cell_type": "code",
   "execution_count": 28,
   "metadata": {
    "collapsed": false
   },
   "outputs": [
    {
     "name": "stdout",
     "output_type": "stream",
     "text": [
      "Overwriting reducer.py\n"
     ]
    }
   ],
   "source": [
    "%%writefile reducer.py\n",
    "#!/usr/bin/python\n",
    "## reducer.py\n",
    "## Author: Ron Cordell\n",
    "## Description: reducer code for HW2.2\n",
    "## given a list of key,value pairs for word, count, aggregate and output the list\n",
    "from operator import itemgetter\n",
    "import sys\n",
    "\n",
    "current_word = None\n",
    "current_count = 0\n",
    "word = None\n",
    "all_words = []\n",
    "\n",
    "# input comes from STDIN\n",
    "for line in sys.stdin:\n",
    "    # remove leading and trailing whitespace\n",
    "    line = line.strip()\n",
    "\n",
    "    # parse the input we got from mapper.py\n",
    "    word, count = line.split('\\t', 1)\n",
    "\n",
    "    # convert count (currently a string) to int\n",
    "    try:\n",
    "        count = int(count)\n",
    "    except ValueError:\n",
    "        # count was not a number, so silently\n",
    "        # ignore/discard this line\n",
    "        continue\n",
    "\n",
    "    # this IF-switch only works because Hadoop sorts map output\n",
    "    # by key (here: word) before it is passed to the reducer\n",
    "    if current_word == word:\n",
    "        current_count += count\n",
    "    else:\n",
    "        if current_word:\n",
    "            # append result to list\n",
    "            all_words.append((current_word, current_count))\n",
    "        current_count = count\n",
    "        current_word = word\n",
    "\n",
    "# do not forget to output the last word if needed!\n",
    "if current_word == word:\n",
    "    all_words.append((current_word, current_count))\n",
    "    \n",
    "# sort the list by value\n",
    "sorted_words = sorted(all_words, key=lambda pair: pair[1], reverse=True)\n",
    "\n",
    "# write out the top 10\n",
    "for i,word in enumerate(sorted_words):\n",
    "    print '{0}\\t{1}'.format(word[0],word[1])\n",
    "    if i >= 10:\n",
    "        break"
   ]
  },
  {
   "cell_type": "code",
   "execution_count": 29,
   "metadata": {
    "collapsed": true
   },
   "outputs": [],
   "source": [
    "# Set the execution permissions of the Python script\n",
    "!chmod a+x reducer.py"
   ]
  },
  {
   "cell_type": "markdown",
   "metadata": {},
   "source": [
    "### Test"
   ]
  },
  {
   "cell_type": "code",
   "execution_count": 30,
   "metadata": {
    "collapsed": false
   },
   "outputs": [
    {
     "name": "stdout",
     "output_type": "stream",
     "text": [
      "the\t1247\r\n",
      "to\t963\r\n",
      "and\t668\r\n",
      "of\t566\r\n",
      "a\t542\r\n",
      "you\t432\r\n",
      "in\t417\r\n",
      "your\t394\r\n",
      "ect\t382\r\n",
      "for\t373\r\n",
      "on\t271\r\n"
     ]
    }
   ],
   "source": [
    "!cat enronemail_1h.txt | ./mapper.py | sort -r -k1,1 | ./reducer.py"
   ]
  },
  {
   "cell_type": "markdown",
   "metadata": {},
   "source": [
    "## Running in Hadoop\n",
    "\n",
    "### Start YARN and HDFS"
   ]
  },
  {
   "cell_type": "code",
   "execution_count": null,
   "metadata": {
    "collapsed": false,
    "scrolled": true
   },
   "outputs": [],
   "source": [
    "!/usr/local/Cellar/hadoop/2.7.1/sbin/start-yarn.sh\n",
    "!/usr/local/Cellar/hadoop/2.7.1/sbin/start-dfs.sh"
   ]
  },
  {
   "cell_type": "markdown",
   "metadata": {},
   "source": [
    "### Create HDFS Folder"
   ]
  },
  {
   "cell_type": "code",
   "execution_count": null,
   "metadata": {
    "collapsed": false
   },
   "outputs": [],
   "source": [
    "!hdfs dfs -mkdir -p /user/rcordell"
   ]
  },
  {
   "cell_type": "markdown",
   "metadata": {},
   "source": [
    "### Copy Enron email file to HDFS"
   ]
  },
  {
   "cell_type": "code",
   "execution_count": null,
   "metadata": {
    "collapsed": false
   },
   "outputs": [],
   "source": [
    "!hdfs dfs -put enronemail_1h.txt /user/rcordell"
   ]
  },
  {
   "cell_type": "markdown",
   "metadata": {},
   "source": [
    "### Run Hadoop Job"
   ]
  },
  {
   "cell_type": "code",
   "execution_count": 31,
   "metadata": {
    "collapsed": false
   },
   "outputs": [],
   "source": [
    "!hadoop jar /usr/local/Cellar/hadoop/2.7.1/libexec/share/hadoop/tools/lib/hadoop-streaming-2.7.1.jar -mapper mapper.py -reducer reducer.py -input enronemail_1h.txt -output countsOutput"
   ]
  },
  {
   "cell_type": "markdown",
   "metadata": {},
   "source": [
    "### Top 10 Word Counts"
   ]
  },
  {
   "cell_type": "code",
   "execution_count": 32,
   "metadata": {
    "collapsed": false
   },
   "outputs": [
    {
     "name": "stdout",
     "output_type": "stream",
     "text": [
      "the\t1247\r\n",
      "to\t963\r\n",
      "and\t668\r\n",
      "of\t566\r\n",
      "a\t542\r\n",
      "you\t432\r\n",
      "in\t417\r\n",
      "your\t394\r\n",
      "ect\t382\r\n",
      "for\t373\r\n",
      "on\t271\r\n"
     ]
    }
   ],
   "source": [
    "!hdfs dfs -cat /user/rcordell/countsOutput/part-00000"
   ]
  },
  {
   "cell_type": "markdown",
   "metadata": {},
   "source": [
    "### Clean up HDFS"
   ]
  },
  {
   "cell_type": "code",
   "execution_count": 33,
   "metadata": {
    "collapsed": false
   },
   "outputs": [
    {
     "name": "stdout",
     "output_type": "stream",
     "text": [
      "Deleted /user/rcordell/countsOutput\r\n"
     ]
    }
   ],
   "source": [
    "!hdfs dfs -rm -r /user/rcordell/countsOutput"
   ]
  },
  {
   "cell_type": "markdown",
   "metadata": {},
   "source": [
    "### Stop YARN and HDFS"
   ]
  },
  {
   "cell_type": "code",
   "execution_count": null,
   "metadata": {
    "collapsed": false
   },
   "outputs": [],
   "source": [
    "!/usr/local/Cellar/hadoop/2.7.1/sbin/stop-yarn.sh\n",
    "!/usr/local/Cellar/hadoop/2.7.1/sbin/stop-dfs.sh"
   ]
  },
  {
   "cell_type": "markdown",
   "metadata": {},
   "source": [
    "## HW2.3. Multinomial NAIVE BAYES with NO Smoothing\n",
    "\n",
    "Using the Enron data from HW1 and Hadoop MapReduce, write  a mapper/reducer job(s) that\n",
    "   will both learn  Naive Bayes classifier and classify the Enron email messages using the learnt Naive Bayes classifier. Use all white-space delimitted tokens as independent input variables (assume spaces, fullstops, commas as delimiters). Note: for multinomial Naive Bayes, the Pr(X=“assistance”|Y=SPAM) is calculated as follows:\n",
    "\n",
    "   the number of times “assistance” occurs in SPAM labeled documents / the number of words in documents labeled SPAM \n",
    "\n",
    "   E.g.,   “assistance” occurs 5 times in all of the documents Labeled SPAM, and the length in terms of the number of words in all documents labeled as SPAM (when concatenated) is 1,000. Then Pr(X=“assistance”|Y=SPAM) = 5/1000. Note this is a multinomial estimation of the class conditional for a Naive Bayes Classifier. No smoothing is needed in this HW. Multiplying lots of probabilities, which are between 0 and 1, can result in floating-point underflow. Since log(xy) = log(x) + log(y), it is better to perform all computations by summing logs of probabilities rather than multiplying probabilities. Please pay attention to probabilites that are zero! They will need special attention. Count up how many times you need to process a zero probabilty for each class and report. \n",
    "\n",
    "   Report the performance of your learnt classifier in terms of misclassifcation error rate of your multinomial Naive Bayes Classifier. Plot a histogram of the log posterior probabilities (i.e., log(Pr(Class|Doc))) for each class over the training set. Summarize what you see. \n",
    "\n",
    "   Error Rate = misclassification rate with respect to a provided set (say training set in this case). It is more formally defined here:\n",
    "\n",
    "Let DF represent the evalution set in the following:\n",
    "Err(Model, DF) = |{(X, c(X)) ∈ DF : c(X) != Model(x)}|   / |DF|\n",
    "\n",
    "Where || denotes set cardinality; c(X) denotes the class of the tuple X in DF; and Model(X) denotes the class inferred by the Model “Model”\n",
    "\n",
    "\n",
    "\n"
   ]
  },
  {
   "cell_type": "markdown",
   "metadata": {},
   "source": [
    "### Map Stage 1 - Term Mapper"
   ]
  },
  {
   "cell_type": "code",
   "execution_count": 34,
   "metadata": {
    "collapsed": false
   },
   "outputs": [
    {
     "name": "stdout",
     "output_type": "stream",
     "text": [
      "Overwriting term_mapper.py\n"
     ]
    }
   ],
   "source": [
    "%%writefile term_mapper.py\n",
    "#!/usr/bin/python\n",
    "## mapper.py\n",
    "## Author: Ron Cordell\n",
    "## Description: mapper code for HW2.3\n",
    "## Given input on STDIN read lines and count occurrences of words\n",
    "## Output a key, value => (token, email id, class, term_flag) = count\n",
    "\n",
    "import sys\n",
    "import re\n",
    "\n",
    "## Lines in the file have 4 fields:\n",
    "## ID \\t SPAM \\t SUBJECT \\t CONTENT \\n\n",
    "WORD_RE = re.compile(r\"[\\w']+\")\n",
    "\n",
    "all_words = False\n",
    "## Words in the word list are space delimited\n",
    "## If there are no parameters or the first parameter is '*' \n",
    "## then use all tokens as vocabulary terms\n",
    "if len(sys.argv) > 1:\n",
    "    wordlist = sys.argv[1].lower().split(' ')\n",
    "    if wordlist[0] == '*':\n",
    "        all_words = True\n",
    "else:\n",
    "    all_words = True\n",
    "\n",
    "for line in sys.stdin:\n",
    "    try:\n",
    "        email_id, label, subject, body = line.split('\\t')\n",
    "    except ValueError:\n",
    "        email_id, label, body = line.split('\\t')\n",
    "    \n",
    "    # extract only words from the combined subject and body text\n",
    "    for token in WORD_RE.findall(subject + ' ' + body):\n",
    "        term = '0'\n",
    "        if all_words:\n",
    "            term = '1'\n",
    "        elif token.lower() in wordlist:\n",
    "            term = '1'\n",
    "        print('{0}\\t{1}\\t{2}\\t{3}\\t{4}'.format(token, email_id, label, term, 1))"
   ]
  },
  {
   "cell_type": "code",
   "execution_count": 35,
   "metadata": {
    "collapsed": true
   },
   "outputs": [],
   "source": [
    "# Set the execution permissions of the Python script\n",
    "!chmod a+x term_mapper.py"
   ]
  },
  {
   "cell_type": "markdown",
   "metadata": {},
   "source": [
    "### Reduce Stage 1 - Term Probabilities"
   ]
  },
  {
   "cell_type": "code",
   "execution_count": 36,
   "metadata": {
    "collapsed": false
   },
   "outputs": [
    {
     "name": "stdout",
     "output_type": "stream",
     "text": [
      "Overwriting probability_reducer.py\n"
     ]
    }
   ],
   "source": [
    "%%writefile probability_reducer.py\n",
    "#!/usr/bin/python\n",
    "## reducer.py\n",
    "## Author: Ron Cordell\n",
    "## Description: reducer code for HW1.4\n",
    "## given a list of intermediate word count files, compute NB classification\n",
    "import sys\n",
    "counts = {}\n",
    "term_counts = {}\n",
    "spam_doc_ids = []\n",
    "ham_doc_ids = []\n",
    "spam_doc_word_count = 0.0\n",
    "ham_doc_word_count = 0.0\n",
    "spam_term_count = 0.0\n",
    "ham_term_count = 0.0\n",
    "terms = 0.0\n",
    "current_key = None\n",
    "current_count = 0\n",
    "\n",
    "# STDIN consists of single lines of: token <tab> id <tab> class <tab> term_flag <tab> count\n",
    "# Assume that the proper parameters have been set such that Hadoop knows to treat the first 4 fields\n",
    "# as the key so that they are properly sorted when they reach the reducer\n",
    "# See http://blog.cloudera.com/blog/2013/01/a-guide-to-python-frameworks-for-hadoop/ for an example\n",
    "\n",
    "def accumulate_key(key , _count, spam_doc_word_count, ham_doc_word_count, term_counts, counts):\n",
    "    # accumulate the key, values in a dictionary\n",
    "    _token = key[0]\n",
    "    _id = key[1]\n",
    "    _label = key[2]\n",
    "    _term = key[3]\n",
    "    \n",
    "    if key in counts:\n",
    "        counts[key] += _count\n",
    "    else:\n",
    "        counts[key] = _count\n",
    "\n",
    "    # accumulate into ham and spam dictionaries also\n",
    "    if _label == '1':\n",
    "        spam_doc_word_count += _count\n",
    "        if _id not in spam_doc_ids:\n",
    "            spam_doc_ids.append(_id)\n",
    "        if _term == '1':\n",
    "            if _token in term_counts:\n",
    "                term_counts[_token]['spam_count'] += _count\n",
    "            else:\n",
    "                term_counts[_token] = {'spam_count' : _count,\n",
    "                                     'ham_count' : 0.0,\n",
    "                                      'prob_ham'  : 0.0,\n",
    "                                      'prob_spam' : 0.0} \n",
    "    else:                \n",
    "        ham_doc_word_count += _count\n",
    "        if _id not in ham_doc_ids:\n",
    "            ham_doc_ids.append(_id)\n",
    "        if _term == '1':\n",
    "            if _token in term_counts:\n",
    "                term_counts[_token]['ham_count'] += _count\n",
    "            else:\n",
    "                term_counts[_token] = {'spam_count' : _count,\n",
    "                                     'ham_count' : 0.0,\n",
    "                                      'prob_ham'  : 0.0,\n",
    "                                      'prob_spam' : 0.0}\n",
    "    return spam_doc_word_count, ham_doc_word_count\n",
    "\n",
    "# process the STDIN stream\n",
    "for line in sys.stdin:\n",
    "    token, email_id, label, term, token_count = line.split('\\t')\n",
    "\n",
    "    if term == '0':\n",
    "        vocab_word = False\n",
    "    else:\n",
    "        vocab_word = True\n",
    "\n",
    "    # this IF-switch only works because Hadoop sorts map output\n",
    "    # by key before it is passed to the reducer\n",
    "    if current_key == (token, email_id, label, term):\n",
    "        current_count += int(token_count)\n",
    "    else:\n",
    "        if current_key:\n",
    "            spam_doc_word_count, ham_doc_word_count = accumulate_key(current_key, \n",
    "                                                                     float(current_count), \n",
    "                                                                     spam_doc_word_count, \n",
    "                                                                     ham_doc_word_count, \n",
    "                                                                     term_counts, counts)\n",
    "            \n",
    "        current_count = int(token_count)\n",
    "        current_key = (token, email_id, label, term)\n",
    "\n",
    "# add the last key, value that we've received\n",
    "if current_key == (token, email_id, label, term):\n",
    "    spam_doc_word_count, ham_doc_word_count = accumulate_key(current_key, \n",
    "                                                             float(current_count), \n",
    "                                                             spam_doc_word_count, \n",
    "                                                             ham_doc_word_count, \n",
    "                                                             term_counts, counts)      \n",
    "                       \n",
    "# now we should have consolidated the intermediate counts and we can compute the rest\n",
    "\n",
    "# count the number of terms\n",
    "term_count = len(term_counts.keys()) * 1.0\n",
    "# compute the prior\n",
    "prior = (len(spam_doc_ids)*1.0)/(1.0*(len(spam_doc_ids) + len(ham_doc_ids)))\n",
    "\n",
    "# calculate the P(term|class) for each term\n",
    "for term in term_counts:\n",
    "    term_counts[term]['prob_ham'] = (term_counts[term]['ham_count'])/(ham_doc_word_count + term_count)\n",
    "    term_counts[term]['prob_spam'] = (term_counts[term]['spam_count'])/(spam_doc_word_count + term_count)\n",
    "    \n",
    "    # output term <tab> probability_ham <tab> ham_count <tab> probability_spam <tab> spam_count <tab> prior\n",
    "    print '{0}\\t{1}\\t{2}\\t{3}\\t{4}\\t{5}'.format(term, term_counts[term]['prob_ham'], \n",
    "                                           term_counts[term]['ham_count'],\n",
    "                                           term_counts[term]['prob_spam'], \n",
    "                                           term_counts[term]['spam_count'], \n",
    "                                           prior)"
   ]
  },
  {
   "cell_type": "code",
   "execution_count": 37,
   "metadata": {
    "collapsed": true
   },
   "outputs": [],
   "source": [
    "# Set the execution permissions of the Python script\n",
    "!chmod a+x probability_reducer.py"
   ]
  },
  {
   "cell_type": "markdown",
   "metadata": {},
   "source": [
    "### Test Stage 1 Map Reduce"
   ]
  },
  {
   "cell_type": "code",
   "execution_count": 38,
   "metadata": {
    "collapsed": false
   },
   "outputs": [],
   "source": [
    "!cat enronemail_1h.txt | ./term_mapper.py | sort -r -k1,1 | ./probability_reducer.py > term_probabilities.txt"
   ]
  },
  {
   "cell_type": "markdown",
   "metadata": {},
   "source": [
    "### Map Stage 2 - Email Word Counter"
   ]
  },
  {
   "cell_type": "code",
   "execution_count": 39,
   "metadata": {
    "collapsed": false
   },
   "outputs": [
    {
     "name": "stdout",
     "output_type": "stream",
     "text": [
      "Overwriting email_mapper.py\n"
     ]
    }
   ],
   "source": [
    "%%writefile email_mapper.py\n",
    "#!/usr/bin/python\n",
    "## mapper.py\n",
    "## Author: Ron Cordell\n",
    "## Description: mapper code for HW2.3\n",
    "## Given input on STDIN read lines and count occurrences of words\n",
    "## Output a key, value => (token, email id, class, term_flag) = count\n",
    "\n",
    "import sys\n",
    "import re\n",
    "\n",
    "prior = 0.0\n",
    "terms = {}\n",
    "# open the file with the term probabilities\n",
    "with open('term_probabilities.txt','r') as termfile:\n",
    "    for line in termfile.readlines():\n",
    "        term, ham_prob, ham_count, spam_prob, spam_count, prior = line.strip().split('\\t')\n",
    "        terms[term] = {'ham_prob'  : float(ham_prob),  'ham_count'  : float(ham_count),\n",
    "                       'spam_prob' : float(spam_prob), 'spam_count' : float(spam_count)}\n",
    "        prior = float(prior)\n",
    "\n",
    "## Lines in the file have 4 fields:\n",
    "## ID \\t SPAM \\t SUBJECT \\t CONTENT \\n\n",
    "WORD_RE = re.compile(r\"[\\w']+\")\n",
    "\n",
    "for line in sys.stdin:\n",
    "    tokens = {}\n",
    "    try:\n",
    "        email_id, label, subject, body = line.split('\\t')\n",
    "    except ValueError:\n",
    "        email_id, label, body = line.split('\\t')\n",
    "    \n",
    "    # extract only words from the combined subject and body text\n",
    "    for token in WORD_RE.findall(subject + ' ' + body):\n",
    "        if token.lower() in terms:\n",
    "            if token.lower() in tokens:\n",
    "                tokens[token.lower()]['count'] += 1\n",
    "            else:\n",
    "                tokens[token.lower()] = {'count' : 1}\n",
    "                \n",
    "    # emit the accumulated terms for the email\n",
    "    if len(tokens) > 0:\n",
    "        for token in tokens:\n",
    "            print('{0}\\t{1}\\t{2}\\t{3}\\t{4}\\t{5}\\t{6}'.format(email_id, label, token,\n",
    "                                                terms[token]['ham_prob'],\n",
    "                                                terms[token]['spam_prob'],\n",
    "                                                prior,\n",
    "                                                tokens[token]['count']))\n",
    "    else:\n",
    "        # if an email has no vocabulary terms then emit a single record indicating a zero count\n",
    "        print('{0}\\t{1}\\t{2}\\t{3}\\t{4}\\t{5}\\t{6}'.format(email_id, label, '*',\n",
    "                                            0.0,\n",
    "                                            0.0,\n",
    "                                            prior,\n",
    "                                            0))"
   ]
  },
  {
   "cell_type": "code",
   "execution_count": 40,
   "metadata": {
    "collapsed": true
   },
   "outputs": [],
   "source": [
    "# Set the execution permissions of the Python script\n",
    "!chmod a+x email_mapper.py"
   ]
  },
  {
   "cell_type": "markdown",
   "metadata": {},
   "source": [
    "### Reduce Stage 2 - Email Classifier"
   ]
  },
  {
   "cell_type": "code",
   "execution_count": 41,
   "metadata": {
    "collapsed": false
   },
   "outputs": [
    {
     "name": "stdout",
     "output_type": "stream",
     "text": [
      "Overwriting classifier_reducer.py\n"
     ]
    }
   ],
   "source": [
    "%%writefile classifier_reducer.py\n",
    "#!/usr/bin/python\n",
    "## reducer.py\n",
    "## Author: Ron Cordell\n",
    "## Description: reducer code for HW1.4\n",
    "## given a list of intermediate word count files, compute NB classification\n",
    "import sys\n",
    "from math import log\n",
    "\n",
    "emails = {}\n",
    "current_email = None\n",
    "prob_spam = 0.0\n",
    "prob_ham  = 0.0\n",
    "zero_prob_ham = 0\n",
    "zero_prob_spam = 0\n",
    "pred_label = 0\n",
    "right = 0\n",
    "wrong = 0\n",
    "\n",
    "# STDIN consists of single lines of: id <tab> label <tab> token <tab> p_ham <tab> p_spam <tab> prior <tab> count\n",
    "# Assume the mapper has already aggregated terms in each email\n",
    "# Assume that the proper parameters have been set such that Hadoop knows to treat the first 4 fields\n",
    "# as the key so that they are properly sorted when they reach the reducer\n",
    "# See http://blog.cloudera.com/blog/2013/01/a-guide-to-python-frameworks-for-hadoop/ for an example\n",
    "\n",
    "# process the STDIN stream\n",
    "for line in sys.stdin:\n",
    "    email_id, label, token, _p_ham, _p_spam, _prior, _token_count = line.split('\\t')\n",
    "    \n",
    "    # convert strings to numeric\n",
    "    p_ham = float(_p_ham)\n",
    "    p_spam = float(_p_spam)\n",
    "    prior = float(_prior)\n",
    "    token_count = float(_token_count)\n",
    "        \n",
    "    # accumulate by email id\n",
    "    # this IF-switch only works because Hadoop sorts map output\n",
    "    # by key before it is passed to the reducer\n",
    "    if current_email == email_id:\n",
    "        if p_ham != 0.0:\n",
    "            prob_ham += log(p_ham) * token_count\n",
    "        else:\n",
    "            zero_prob_ham += 1\n",
    "        if p_spam != 0.0:\n",
    "            prob_spam += log(p_spam) * token_count\n",
    "        else:\n",
    "            zero_prob_spam += 1\n",
    "    else:\n",
    "        if current_email:\n",
    "            # emit the classification\n",
    "            if prob_spam > prob_ham:\n",
    "                pred_label = '1'\n",
    "            else:\n",
    "                pred_label = '0'\n",
    "            if label == pred_label:\n",
    "                right += 1\n",
    "            else:\n",
    "                wrong += 1\n",
    "            print '{0}\\t{1}\\t{2}'.format(email_id, label, pred_label)\n",
    "            \n",
    "            # add to the list of posteriors\n",
    "            emails[current_email] = {'lp_ham' : prob_ham, 'lp_spam' : prob_spam}\n",
    "        \n",
    "         # if this new email has no terms then we predict ham but have no posteriors\n",
    "        if token == '*':\n",
    "            print '{0}\\t{1}\\t{2}'.format(email_id, label, '0')\n",
    "            if label == '0':\n",
    "                right += 1\n",
    "            else:\n",
    "                wrong += 1\n",
    "            emails[email_id] = {'lp_ham' : '-', 'lp_spam' : '-'}\n",
    "            current_email = None\n",
    "        else:\n",
    "            # otherwise make this the new current email and reset the probabilities\n",
    "            current_email = email_id\n",
    "            if p_ham != 0.0:\n",
    "                prob_ham = log(1-prior) + (log(p_ham) * token_count)\n",
    "            else:\n",
    "                zero_prob_ham += 1\n",
    "            if p_spam != 0.0:\n",
    "                prob_spam = log(prior) + (log(p_spam) * token_count)\n",
    "            else:\n",
    "                zero_prob_spam += 1\n",
    "\n",
    "\n",
    "# add the last key, value that we've received\n",
    "if current_email == email_id:\n",
    "    # emit the classification\n",
    "    if prob_spam > prob_ham:\n",
    "        pred_label = '1'\n",
    "    else:\n",
    "        pred_label = '0'\n",
    "    if label == pred_label:\n",
    "        right += 1\n",
    "    else:\n",
    "        wrong += 1\n",
    "    print '{0}\\t{1}\\t{2}'.format(email_id, label, pred_label)    \n",
    "    emails[email_id] = {'lp_ham' : prob_ham, 'lp_spam' : prob_spam} \n",
    "    \n",
    "print 'Error Rate: {0}/{1}'.format(wrong, right + wrong)\n",
    "print 'Zero Probabilities: Spam {0} \\tHam {1}'.format(zero_prob_spam, zero_prob_ham)\n",
    "for e in emails:\n",
    "    print '{0}\\t{1}\\t{2}\\t{3}'.format(':',e, emails[e]['lp_ham'], emails[e]['lp_spam'])"
   ]
  },
  {
   "cell_type": "code",
   "execution_count": 42,
   "metadata": {
    "collapsed": true
   },
   "outputs": [],
   "source": [
    "# Set the execution permissions of the Python script\n",
    "!chmod a+x classifier_reducer.py"
   ]
  },
  {
   "cell_type": "markdown",
   "metadata": {},
   "source": [
    "### Test"
   ]
  },
  {
   "cell_type": "code",
   "execution_count": 43,
   "metadata": {
    "collapsed": false,
    "scrolled": true
   },
   "outputs": [
    {
     "name": "stdout",
     "output_type": "stream",
     "text": [
      "0001.1999-12-10.kaminski\t0\t0\n",
      "0001.2000-01-17.beck\t0\t1\n",
      "0001.2000-06-06.lokay\t0\t0\n",
      "0001.2001-02-07.kitchen\t0\t0\n",
      "0001.2001-04-02.williams\t0\t0\n",
      "0002.1999-12-13.farmer\t0\t0\n",
      "0002.2001-02-07.kitchen\t0\t0\n",
      "0002.2001-05-25.SA_and_HP\t1\t0\n",
      "0002.2003-12-18.GP\t1\t0\n",
      "0002.2004-08-01.BG\t1\t0\n",
      "0003.1999-12-10.kaminski\t0\t1\n",
      "0003.1999-12-14.farmer\t0\t0\n",
      "0003.2000-01-17.beck\t0\t0\n",
      "0003.2001-02-08.kitchen\t0\t0\n",
      "0003.2003-12-18.GP\t1\t0\n",
      "0003.2004-08-01.BG\t1\t0\n",
      "0004.1999-12-10.kaminski\t0\t1\n",
      "0004.1999-12-14.farmer\t0\t0\n",
      "0004.2001-04-02.williams\t0\t0\n",
      "0004.2001-06-12.SA_and_HP\t1\t1\n",
      "0004.2004-08-01.BG\t1\t0\n",
      "0005.1999-12-12.kaminski\t0\t0\n",
      "0005.1999-12-14.farmer\t0\t0\n",
      "0005.2000-06-06.lokay\t0\t0\n",
      "0005.2001-02-08.kitchen\t0\t0\n",
      "0005.2001-06-23.SA_and_HP\t1\t0\n",
      "0005.2003-12-18.GP\t1\t0\n",
      "0006.1999-12-13.kaminski\t0\t0\n",
      "0006.2001-02-08.kitchen\t0\t1\n",
      "0006.2001-04-03.williams\t0\t0\n",
      "0006.2001-06-25.SA_and_HP\t1\t0\n",
      "0006.2003-12-18.GP\t1\t0\n",
      "0006.2004-08-01.BG\t1\t0\n",
      "0007.1999-12-13.kaminski\t0\t0\n",
      "0007.1999-12-14.farmer\t0\t0\n",
      "0007.2000-01-17.beck\t0\t0\n",
      "0007.2001-02-09.kitchen\t0\t0\n",
      "0007.2003-12-18.GP\t1\t0\n",
      "0007.2004-08-01.BG\t1\t0\n",
      "0008.2001-02-09.kitchen\t0\t0\n",
      "0008.2001-06-12.SA_and_HP\t1\t0\n",
      "0008.2001-06-25.SA_and_HP\t1\t0\n",
      "0008.2003-12-18.GP\t1\t0\n",
      "0008.2004-08-01.BG\t1\t0\n",
      "0009.1999-12-13.kaminski\t0\t0\n",
      "0009.1999-12-14.farmer\t0\t0\n",
      "0009.2000-06-07.lokay\t0\t1\n",
      "0009.2001-02-09.kitchen\t0\t0\n",
      "0009.2001-06-26.SA_and_HP\t1\t0\n",
      "0009.2003-12-18.GP\t1\t0\n",
      "0010.1999-12-14.farmer\t0\t1\n",
      "0010.1999-12-14.kaminski\t0\t0\n",
      "0010.2001-02-09.kitchen\t0\t0\n",
      "0010.2001-06-28.SA_and_HP\t1\t0\n",
      "0010.2003-12-18.GP\t1\t1\n",
      "0010.2004-08-01.BG\t1\t1\n",
      "0011.1999-12-14.farmer\t0\t1\n",
      "0011.2001-06-28.SA_and_HP\t1\t0\n",
      "0011.2001-06-29.SA_and_HP\t1\t1\n",
      "0011.2003-12-18.GP\t1\t0\n",
      "0011.2004-08-01.BG\t1\t0\n",
      "0012.1999-12-14.farmer\t0\t0\n",
      "0012.1999-12-14.kaminski\t0\t0\n",
      "0012.2000-01-17.beck\t0\t1\n",
      "0012.2000-06-08.lokay\t0\t0\n",
      "0012.2001-02-09.kitchen\t0\t0\n",
      "0012.2003-12-19.GP\t1\t0\n",
      "0013.1999-12-14.farmer\t0\t0\n",
      "0013.1999-12-14.kaminski\t0\t0\n",
      "0013.2001-04-03.williams\t0\t0\n",
      "0013.2001-06-30.SA_and_HP\t1\t0\n",
      "0013.2004-08-01.BG\t1\t0\n",
      "0014.1999-12-14.kaminski\t0\t0\n",
      "0014.1999-12-15.farmer\t0\t0\n",
      "0014.2001-02-12.kitchen\t0\t0\n",
      "0014.2001-07-04.SA_and_HP\t1\t0\n",
      "0014.2003-12-19.GP\t1\t1\n",
      "0014.2004-08-01.BG\t1\t0\n",
      "0015.1999-12-14.kaminski\t0\t0\n",
      "0015.1999-12-15.farmer\t0\t0\n",
      "0015.2000-06-09.lokay\t0\t0\n",
      "0015.2001-02-12.kitchen\t0\t0\n",
      "0015.2001-07-05.SA_and_HP\t1\t0\n",
      "0015.2003-12-19.GP\t1\t0\n",
      "0016.1999-12-15.farmer\t0\t1\n",
      "0016.2001-02-12.kitchen\t0\t0\n",
      "0016.2001-07-05.SA_and_HP\t1\t0\n",
      "0016.2001-07-06.SA_and_HP\t1\t0\n",
      "0016.2003-12-19.GP\t1\t0\n",
      "0016.2004-08-01.BG\t1\t1\n",
      "0017.1999-12-14.kaminski\t0\t1\n",
      "0017.2000-01-17.beck\t0\t0\n",
      "0017.2001-04-03.williams\t0\t0\n",
      "0017.2003-12-18.GP\t1\t0\n",
      "0017.2004-08-01.BG\t1\t1\n",
      "0017.2004-08-02.BG\t1\t0\n",
      "0018.1999-12-14.kaminski\t0\t0\n",
      "0018.2001-07-13.SA_and_HP\t1\t0\n",
      "0018.2003-12-18.GP\t1\t0\n",
      "0018.2003-12-18.GP\t1\t0\n",
      "Error Rate: 48/100\n",
      "Zero Probabilities: Spam 0 \tHam 5298\n",
      ":\t0010.2003-12-18.GP\t-5589.42260646\t-57.9169161776\n",
      ":\t0010.2001-06-28.SA_and_HP\t-5582.66896563\t-3534.06260807\n",
      ":\t0001.2000-01-17.beck\t-3075.62262467\t-4267.44484079\n",
      ":\t0018.1999-12-14.kaminski\t-875.582397534\t-1028.13806721\n",
      ":\t0005.1999-12-12.kaminski\t-495.61355681\t-869.87561965\n",
      ":\t0011.2001-06-29.SA_and_HP\t-12166.6126843\t-16571.4272673\n",
      ":\t0008.2004-08-01.BG\t-3382.93845117\t-6141.87252592\n",
      ":\t0009.1999-12-14.farmer\t-6059.27761475\t-665.234403899\n",
      ":\t0017.2003-12-18.GP\t-570.831245165\t-219.728768793\n",
      ":\t0011.2001-06-28.SA_and_HP\t-3933.77470954\t-3526.04843769\n",
      ":\t0015.2001-07-05.SA_and_HP\t-657.786176683\t-966.656375719\n",
      ":\t0015.2001-02-12.kitchen\t-4463.05740084\t-5460.5985123\n",
      ":\t0009.2001-06-26.SA_and_HP\t-821.128777798\t-1373.48335389\n",
      ":\t0017.1999-12-14.kaminski\t-316.678760785\t-399.935902784\n",
      ":\t0012.2000-01-17.beck\t-2953.28023319\t-3255.79079856\n",
      ":\t0003.2000-01-17.beck\t-1239.20285935\t-1531.23273119\n",
      ":\t0004.2001-06-12.SA_and_HP\t-706.460766449\t-924.740851926\n",
      ":\t0008.2001-06-12.SA_and_HP\t-706.460766449\t-924.740851926\n",
      ":\t0007.2001-02-09.kitchen\t-1541.7711822\t-1823.56314705\n",
      ":\t0016.2004-08-01.BG\t-13439.0326566\t-683.332682392\n",
      ":\t0015.2000-06-09.lokay\t-129.280324018\t-153.284889743\n",
      ":\t0005.1999-12-14.farmer\t-941.651381488\t-1395.84247013\n",
      ":\t0016.1999-12-15.farmer\t-679.656887692\t-797.45318903\n",
      ":\t0013.2004-08-01.BG\t-950.653518711\t-1567.85420848\n",
      ":\t0005.2003-12-18.GP\t-4140.49513768\t-7886.63061803\n",
      ":\t0012.2001-02-09.kitchen\t-398.315903407\t-534.638206981\n",
      ":\t0003.2001-02-08.kitchen\t-1321.35596083\t-1573.92764125\n",
      ":\t0009.2001-02-09.kitchen\t-5716.39662683\t-6441.26434061\n",
      ":\t0006.2001-02-08.kitchen\t-8463.71869725\t-10557.1164388\n",
      ":\t0014.2003-12-19.GP\t-110.779390598\t-179.016861573\n",
      ":\t0010.1999-12-14.farmer\t-947.134990916\t-1833.33225662\n",
      ":\t0010.2004-08-01.BG\t-6500.69676872\t-2450.91893237\n",
      ":\t0014.1999-12-14.kaminski\t-1786.95238985\t-2171.41337468\n",
      ":\t0006.1999-12-13.kaminski\t-4544.83476027\t-522.824256281\n",
      ":\t0011.1999-12-14.farmer\t-1614.8262919\t-2107.74610405\n",
      ":\t0013.1999-12-14.kaminski\t-1324.93424947\t-1615.8654452\n",
      ":\t0001.2001-02-07.kitchen\t-361.538166813\t-399.809222881\n",
      ":\t0008.2001-02-09.kitchen\t-3035.59962147\t-4606.74478681\n",
      ":\t0007.2003-12-18.GP\t-567.86129971\t-1313.8342645\n",
      ":\t0017.2004-08-02.BG\t-1873.89178637\t-2738.95421301\n",
      ":\t0014.2004-08-01.BG\t-496.41639499\t-844.3766959\n",
      ":\t0006.2003-12-18.GP\t-409.289908567\t-1179.74315062\n",
      ":\t0016.2001-07-05.SA_and_HP\t-657.786176683\t-966.656375719\n",
      ":\t0008.2003-12-18.GP\t-665.056152937\t-1055.67263665\n",
      ":\t0014.2001-07-04.SA_and_HP\t-3777.74685829\t-3737.57130506\n",
      ":\t0001.2001-04-02.williams\t-1189.30098401\t-1432.25624092\n",
      ":\t0012.2000-06-08.lokay\t-726.501217948\t-938.3990004\n",
      ":\t0014.1999-12-15.farmer\t-1155.16781976\t-1370.21820694\n",
      ":\t0009.2000-06-07.lokay\t-2222.30067337\t-3019.04022831\n",
      ":\t0001.1999-12-10.farmer\t-28.3013134851\t-46.7781806525\n",
      ":\t0008.2001-06-25.SA_and_HP\t-2853.86647459\t-4591.68478098\n",
      ":\t0017.2001-04-03.williams\t-397.877517008\t-460.459720533\n",
      ":\t0014.2001-02-12.kitchen\t-963.039097224\t-1586.99757737\n",
      ":\t0016.2001-07-06.SA_and_HP\t-12679.6228099\t-17486.9395627\n",
      ":\t0015.1999-12-15.farmer\t-872.788399651\t-994.475848827\n",
      ":\t0009.1999-12-13.kaminski\t-5709.60455782\t-8768.18025707\n",
      ":\t0001.2000-06-06.lokay\t-3323.93690665\t-4109.84380722\n",
      ":\t0011.2004-08-01.BG\t-645.313414179\t-699.538470066\n",
      ":\t0004.2004-08-01.BG\t-418.187087379\t-825.407181222\n",
      ":\t0018.2003-12-18.GP\t-2470.70843907\t-3617.52854909\n",
      ":\t0002.1999-12-13.farmer\t-2530.97096045\t-3462.63894679\n",
      ":\t0016.2003-12-19.GP\t-12961.9409263\t-825.461464016\n",
      ":\t0004.1999-12-14.farmer\t-993.97067235\t-1474.32027764\n",
      ":\t0015.2003-12-19.GP\t-1413.13126518\t-1341.0092708\n",
      ":\t0006.2004-08-01.BG\t-536.840487934\t-1098.12913\n",
      ":\t0009.2003-12-18.GP\t-1099.53754143\t-804.432057413\n",
      ":\t0007.1999-12-14.farmer\t-540.255360351\t-774.587386295\n",
      ":\t0005.2000-06-06.lokay\t-243.525432667\t-445.501917999\n",
      ":\t0010.1999-12-14.kaminski\t-175.646788388\t-225.546521267\n",
      ":\t0007.2000-01-17.beck\t-2936.69863298\t-3270.33893261\n",
      ":\t0003.1999-12-14.farmer\t-83.3830740633\t-98.0194301477\n",
      ":\t0003.2004-08-01.BG\t-930.317356246\t-808.402609339\n",
      ":\t0017.2004-08-01.BG\t-631.136439513\t-947.935906514\n",
      ":\t0013.2001-06-30.SA_and_HP\t-22630.8913075\t-29509.4704124\n",
      ":\t0003.1999-12-10.kaminski\t-397.679707989\t-473.957760622\n",
      ":\t0012.1999-12-14.farmer\t-3203.3482952\t-3790.60780673\n",
      ":\t0004.1999-12-10.kaminski\t-934.151203584\t-1225.36282583\n",
      ":\t0018.2001-07-13.SA_and_HP\t-2440.15758757\t-3448.4221328\n",
      ":\t0002.2001-02-07.kitchen\t-391.685616309\t-468.772884493\n",
      ":\t0007.2004-08-01.BG\t-1026.61439825\t-1525.64828123\n",
      ":\t0012.1999-12-14.kaminski\t-4204.90751999\t-1312.62846813\n",
      ":\t0005.2001-06-23.SA_and_HP\t-108.16027103\t-196.021587665\n",
      ":\t0007.1999-12-13.kaminski\t-1487.17387931\t-1734.15433259\n",
      ":\t0017.2000-01-17.beck\t-2933.97196672\t-3265.1912633\n",
      ":\t0006.2001-06-25.SA_and_HP\t-227.27627292\t-397.424465053\n",
      ":\t0006.2001-04-03.williams\t-240.032464766\t-320.371534129\n",
      ":\t0005.2001-02-08.kitchen\t-659.058178283\t-1002.96811187\n",
      ":\t0002.2003-12-18.GP\t-625.021173192\t-1336.88525876\n",
      ":\t0003.2003-12-18.GP\t-560.157577999\t-871.673008751\n",
      ":\t0013.2001-04-03.williams\t-583.96638459\t-699.297563737\n",
      ":\t0004.2001-04-02.williams\t-1588.84867632\t-728.259479408\n",
      ":\t0010.2001-02-09.kitchen\t-3263.72054799\t-3505.6364176\n",
      ":\t0001.1999-12-10.kaminski\t-48.6186163097\t-31.9245573659\n",
      ":\t0013.1999-12-14.farmer\t-1911.60771942\t-1990.81406235\n",
      ":\t0015.1999-12-14.kaminski\t-551.363791058\t-764.742250544\n",
      ":\t0012.2003-12-19.GP\t-78.0401795346\t-163.518350606\n",
      ":\t0016.2001-02-12.kitchen\t-1025.41543404\t-1350.2720968\n",
      ":\t0002.2004-08-01.BG\t-1283.67320206\t-872.934355125\n",
      ":\t0002.2001-05-25.SA_and_HP\t-393.686923046\t-625.037795943\n",
      ":\t0011.2003-12-18.GP\t-261.591112774\t-541.998047052\n"
     ]
    }
   ],
   "source": [
    "!cat enronemail_1h.txt | ./email_mapper.py | sort -k1,1 | ./classifier_reducer.py"
   ]
  },
  {
   "cell_type": "code",
   "execution_count": null,
   "metadata": {
    "collapsed": true
   },
   "outputs": [],
   "source": []
  },
  {
   "cell_type": "markdown",
   "metadata": {},
   "source": [
    "### Processing With Hadoop"
   ]
  },
  {
   "cell_type": "markdown",
   "metadata": {},
   "source": [
    "### Start YARN and HDFS"
   ]
  },
  {
   "cell_type": "code",
   "execution_count": null,
   "metadata": {
    "collapsed": false,
    "scrolled": true
   },
   "outputs": [],
   "source": [
    "!/usr/local/Cellar/hadoop/2.7.1/sbin/start-yarn.sh\n",
    "!/usr/local/Cellar/hadoop/2.7.1/sbin/start-dfs.sh"
   ]
  },
  {
   "cell_type": "markdown",
   "metadata": {},
   "source": [
    "### Create HDFS Folders"
   ]
  },
  {
   "cell_type": "code",
   "execution_count": 55,
   "metadata": {
    "collapsed": false
   },
   "outputs": [],
   "source": [
    "!hdfs dfs -mkdir -p /user/rcordell"
   ]
  },
  {
   "cell_type": "markdown",
   "metadata": {},
   "source": [
    "### Copy files to HDFS"
   ]
  },
  {
   "cell_type": "code",
   "execution_count": 56,
   "metadata": {
    "collapsed": false
   },
   "outputs": [
    {
     "name": "stdout",
     "output_type": "stream",
     "text": [
      "put: `/user/rcordell/enronemail_1h.txt': File exists\r\n"
     ]
    }
   ],
   "source": [
    "!hdfs dfs -put enronemail_1h.txt /user/rcordell"
   ]
  },
  {
   "cell_type": "markdown",
   "metadata": {},
   "source": [
    "### Execute Hadoop Stage 1 MapReduce Single Term"
   ]
  },
  {
   "cell_type": "code",
   "execution_count": 44,
   "metadata": {
    "collapsed": false
   },
   "outputs": [],
   "source": [
    "!hadoop jar /usr/local/Cellar/hadoop/2.7.1/libexec/share/hadoop/tools/lib/hadoop-streaming-2.7.1.jar -mapper 'term_mapper.py \"assistance\"' -reducer probability_reducer.py -input enronemail_1h.txt -output model"
   ]
  },
  {
   "cell_type": "markdown",
   "metadata": {},
   "source": [
    "### Copy model file to local file system from HDFS"
   ]
  },
  {
   "cell_type": "code",
   "execution_count": 45,
   "metadata": {
    "collapsed": false
   },
   "outputs": [],
   "source": [
    "!rm -f term_probabilities.txt\n",
    "!hdfs dfs -get /user/rcordell/model/part-00000 term_probabilities.txt"
   ]
  },
  {
   "cell_type": "markdown",
   "metadata": {},
   "source": [
    "### Execute Hadoop Stage 2 MapReduce"
   ]
  },
  {
   "cell_type": "code",
   "execution_count": 46,
   "metadata": {
    "collapsed": false
   },
   "outputs": [
    {
     "name": "stdout",
     "output_type": "stream",
     "text": [
      "packageJobJar: [term_probabilities.txt] [] /var/folders/z_/rfp5q2cd6db13d19v6yw0n8w0000gn/T/streamjob2847928753436973760.jar tmpDir=null\r\n"
     ]
    }
   ],
   "source": [
    "!hadoop jar /usr/local/Cellar/hadoop/2.7.1/libexec/share/hadoop/tools/lib/hadoop-streaming-2.7.1.jar -mapper email_mapper.py -reducer classifier_reducer.py -input enronemail_1h.txt -output classifier -file term_probabilities.txt"
   ]
  },
  {
   "cell_type": "markdown",
   "metadata": {},
   "source": [
    "### Examine the output of the classifier - Error Rate, Single Term"
   ]
  },
  {
   "cell_type": "code",
   "execution_count": 47,
   "metadata": {
    "collapsed": false
   },
   "outputs": [
    {
     "name": "stdout",
     "output_type": "stream",
     "text": [
      "Error Rate: 42/100\t\r\n"
     ]
    }
   ],
   "source": [
    "!hdfs dfs -cat /user/rcordell/classifier/part-00000 | grep -i \"error rate\""
   ]
  },
  {
   "cell_type": "markdown",
   "metadata": {},
   "source": [
    "### Zero Probability Counts - Single Term"
   ]
  },
  {
   "cell_type": "code",
   "execution_count": 41,
   "metadata": {
    "collapsed": false
   },
   "outputs": [
    {
     "name": "stdout",
     "output_type": "stream",
     "text": [
      "Zero Probabilities: Spam 0 \tHam 0\r\n"
     ]
    }
   ],
   "source": [
    "!hdfs dfs -cat /user/rcordell/classifier/part-00000 | grep -i \"Zero Probabilities\""
   ]
  },
  {
   "cell_type": "markdown",
   "metadata": {},
   "source": [
    "### Log Probability Distribution - Single Term"
   ]
  },
  {
   "cell_type": "code",
   "execution_count": 65,
   "metadata": {
    "collapsed": false
   },
   "outputs": [],
   "source": [
    "!rm classification_results.txt\n",
    "!hdfs dfs -get /user/rcordell/classifier/part-00000 classification_results.txt"
   ]
  },
  {
   "cell_type": "code",
   "execution_count": 66,
   "metadata": {
    "collapsed": true
   },
   "outputs": [],
   "source": [
    "%matplotlib inline \n",
    "import matplotlib\n",
    "import matplotlib.pyplot as plt\n",
    "import numpy as np"
   ]
  },
  {
   "cell_type": "code",
   "execution_count": 67,
   "metadata": {
    "collapsed": false,
    "scrolled": false
   },
   "outputs": [
    {
     "data": {
      "image/png": "[encoded data removed]",
      "text/plain": [
       "<matplotlib.figure.Figure at 0x112c77f50>"
      ]
     },
     "metadata": {},
     "output_type": "display_data"
    }
   ],
   "source": [
    "ham = []\n",
    "spam = []\n",
    "with open('classification_results.txt','r') as infile:\n",
    "    for line in infile.readlines():\n",
    "        try:\n",
    "            flag, _id, lh, ls = line.strip().split('\\t')\n",
    "        except:\n",
    "            pass\n",
    "        try:\n",
    "            ham.append(float(lh))\n",
    "        except:\n",
    "            ham.append(0.0)\n",
    "        try:\n",
    "            spam.append(float(ls))\n",
    "        except:\n",
    "            spam.append(0.0)\n",
    "\n",
    "index = np.arange(len(ham))\n",
    "fig, ax = plt.subplots()\n",
    "bar_width = 0.35\n",
    "opacity = 0.4\n",
    "rects_h = plt.bar(index, ham, bar_width, color = 'b', alpha=opacity)\n",
    "rects_s = plt.bar(index, spam, bar_width, color = 'r', alpha=opacity)\n",
    "plt.xlabel('Email')\n",
    "plt.ylabel('Log Probability')\n",
    "plt.title('Posterior Log Probabilities')\n",
    "plt.legend()\n",
    "\n",
    "plt.tight_layout()\n",
    "plt.show()        "
   ]
  },
  {
   "cell_type": "markdown",
   "metadata": {},
   "source": [
    "### Clean up HDFS"
   ]
  },
  {
   "cell_type": "code",
   "execution_count": 68,
   "metadata": {
    "collapsed": false
   },
   "outputs": [
    {
     "name": "stdout",
     "output_type": "stream",
     "text": [
      "Deleted /user/rcordell/model\r\n"
     ]
    }
   ],
   "source": [
    "!hdfs dfs -rm -r /user/rcordell/model"
   ]
  },
  {
   "cell_type": "code",
   "execution_count": 69,
   "metadata": {
    "collapsed": false
   },
   "outputs": [
    {
     "name": "stdout",
     "output_type": "stream",
     "text": [
      "Deleted /user/rcordell/classifier\r\n"
     ]
    }
   ],
   "source": [
    "!hdfs dfs -rm -r /user/rcordell/classifier"
   ]
  },
  {
   "cell_type": "markdown",
   "metadata": {},
   "source": [
    "### Classifier With All Terms"
   ]
  },
  {
   "cell_type": "code",
   "execution_count": 70,
   "metadata": {
    "collapsed": false
   },
   "outputs": [],
   "source": [
    "!hadoop jar /usr/local/Cellar/hadoop/2.7.1/libexec/share/hadoop/tools/lib/hadoop-streaming-2.7.1.jar -mapper term_mapper.py -reducer probability_reducer.py -input enronemail_1h.txt -output model"
   ]
  },
  {
   "cell_type": "markdown",
   "metadata": {},
   "source": [
    "### Copy model file to local file system from HDFS"
   ]
  },
  {
   "cell_type": "code",
   "execution_count": 71,
   "metadata": {
    "collapsed": false
   },
   "outputs": [],
   "source": [
    "!rm -f term_probabilities.txt\n",
    "!hdfs dfs -get /user/rcordell/model/part-00000 term_probabilities.txt"
   ]
  },
  {
   "cell_type": "markdown",
   "metadata": {},
   "source": [
    "### Execute Hadoop Stage 2 MapReduce"
   ]
  },
  {
   "cell_type": "code",
   "execution_count": 72,
   "metadata": {
    "collapsed": false
   },
   "outputs": [
    {
     "name": "stdout",
     "output_type": "stream",
     "text": [
      "packageJobJar: [term_probabilities.txt] [] /var/folders/z_/rfp5q2cd6db13d19v6yw0n8w0000gn/T/streamjob8685106766213357030.jar tmpDir=null\r\n"
     ]
    }
   ],
   "source": [
    "!hadoop jar /usr/local/Cellar/hadoop/2.7.1/libexec/share/hadoop/tools/lib/hadoop-streaming-2.7.1.jar -mapper email_mapper.py -reducer classifier_reducer.py -input enronemail_1h.txt -output classifier -file term_probabilities.txt"
   ]
  },
  {
   "cell_type": "markdown",
   "metadata": {},
   "source": [
    "### Examine the output of the classifier - Error Rate, All Terms"
   ]
  },
  {
   "cell_type": "code",
   "execution_count": 73,
   "metadata": {
    "collapsed": false
   },
   "outputs": [
    {
     "name": "stdout",
     "output_type": "stream",
     "text": [
      "Error Rate: 52/100\t\r\n"
     ]
    }
   ],
   "source": [
    "!hdfs dfs -cat /user/rcordell/classifier/part-00000 | grep -i \"error rate\""
   ]
  },
  {
   "cell_type": "markdown",
   "metadata": {},
   "source": [
    "### Zero Probability Counts, All Terms"
   ]
  },
  {
   "cell_type": "code",
   "execution_count": 74,
   "metadata": {
    "collapsed": false
   },
   "outputs": [
    {
     "name": "stdout",
     "output_type": "stream",
     "text": [
      "Zero Probabilities: Spam 0 \tHam 5438\r\n"
     ]
    }
   ],
   "source": [
    "!hdfs dfs -cat /user/rcordell/classifier/part-00000 | grep -i \"Zero Probabilities\""
   ]
  },
  {
   "cell_type": "markdown",
   "metadata": {},
   "source": [
    "### Log Probability Distribution - All Terms"
   ]
  },
  {
   "cell_type": "code",
   "execution_count": 75,
   "metadata": {
    "collapsed": false
   },
   "outputs": [],
   "source": [
    "!rm classification_results.txt\n",
    "!hdfs dfs -get /user/rcordell/classifier/part-00000 classification_results.txt"
   ]
  },
  {
   "cell_type": "code",
   "execution_count": 76,
   "metadata": {
    "collapsed": true
   },
   "outputs": [],
   "source": [
    "%matplotlib inline \n",
    "import matplotlib\n",
    "import matplotlib.pyplot as plt\n",
    "import numpy as np"
   ]
  },
  {
   "cell_type": "code",
   "execution_count": 77,
   "metadata": {
    "collapsed": false,
    "scrolled": false
   },
   "outputs": [
    {
     "data": {
      "image/png": "[encoded data removed]",
      "text/plain": [
       "<matplotlib.figure.Figure at 0x111d693d0>"
      ]
     },
     "metadata": {},
     "output_type": "display_data"
    }
   ],
   "source": [
    "ham = []\n",
    "spam = []\n",
    "with open('classification_results.txt','r') as infile:\n",
    "    for line in infile.readlines():\n",
    "        try:\n",
    "            flag, _id, lh, ls = line.strip().split('\\t')\n",
    "            try:\n",
    "                ham.append(float(lh))\n",
    "            except:\n",
    "                ham.append(0.0)\n",
    "            try:\n",
    "                spam.append(float(ls))\n",
    "            except:\n",
    "                spam.append(0.0)\n",
    "        except:\n",
    "            pass\n",
    "\n",
    "\n",
    "index = np.arange(len(ham))\n",
    "fig, ax = plt.subplots()\n",
    "bar_width = 0.35\n",
    "opacity = 0.4\n",
    "rects_h = plt.bar(index, ham, bar_width, color = 'b', alpha=opacity)\n",
    "rects_s = plt.bar(index, spam, bar_width, color = 'r', alpha=opacity)\n",
    "plt.xlabel('Email')\n",
    "plt.ylabel('Log Probability')\n",
    "plt.title('Posterior Log Probabilities')\n",
    "plt.legend()\n",
    "\n",
    "plt.tight_layout()\n",
    "plt.show()        "
   ]
  },
  {
   "cell_type": "markdown",
   "metadata": {},
   "source": [
    "### Clean up HDFS"
   ]
  },
  {
   "cell_type": "code",
   "execution_count": 78,
   "metadata": {
    "collapsed": false
   },
   "outputs": [
    {
     "name": "stdout",
     "output_type": "stream",
     "text": [
      "Deleted /user/rcordell/model\r\n"
     ]
    }
   ],
   "source": [
    "!hdfs dfs -rm -r /user/rcordell/model"
   ]
  },
  {
   "cell_type": "code",
   "execution_count": 79,
   "metadata": {
    "collapsed": false
   },
   "outputs": [
    {
     "name": "stdout",
     "output_type": "stream",
     "text": [
      "Deleted /user/rcordell/classifier\r\n"
     ]
    }
   ],
   "source": [
    "!hdfs dfs -rm -r /user/rcordell/classifier"
   ]
  },
  {
   "cell_type": "markdown",
   "metadata": {},
   "source": [
    "## HW2.4 \n",
    "\n",
    "Repeat HW2.3 with the following modification: use Laplace plus-one smoothing. Compare the misclassifcation error rates for 2.3 versus 2.4 and explain the differences.\n",
    "\n",
    "For a quick reference on the construction of the Multinomial NAIVE BAYES classifier that you will code,\n",
    "please consult the \"Document Classification\" section of the following wikipedia page:\n",
    "\n",
    "https://en.wikipedia.org/wiki/Naive_Bayes_classifier#Document_classification\n",
    "\n",
    "OR the original paper by the curators of the Enron email data:\n",
    "\n",
    "http://www.aueb.gr/users/ion/docs/ceas2006_paper.pdf\n",
    "\n"
   ]
  },
  {
   "cell_type": "markdown",
   "metadata": {},
   "source": [
    "### Map Stage 1\n"
   ]
  },
  {
   "cell_type": "code",
   "execution_count": 80,
   "metadata": {
    "collapsed": false
   },
   "outputs": [
    {
     "name": "stdout",
     "output_type": "stream",
     "text": [
      "Overwriting term_mapper.py\n"
     ]
    }
   ],
   "source": [
    "%%writefile term_mapper.py\n",
    "#!/usr/bin/python\n",
    "## mapper.py\n",
    "## Author: Ron Cordell\n",
    "## Description: mapper code for HW2.4\n",
    "## Given input on STDIN read lines and count occurrences of words\n",
    "## Output a key, value => (token, email id, class, term_flag) = count\n",
    "\n",
    "import sys\n",
    "import re\n",
    "\n",
    "## Lines in the file have 4 fields:\n",
    "## ID \\t SPAM \\t SUBJECT \\t CONTENT \\n\n",
    "WORD_RE = re.compile(r\"[\\w']+\")\n",
    "\n",
    "## Words in the word list are space delimited\n",
    "wordlist = sys.argv[1].lower().split(' ')\n",
    "\n",
    "all_words = False\n",
    "if wordlist[0] == '*':\n",
    "    all_words = True\n",
    "\n",
    "for line in sys.stdin:\n",
    "    try:\n",
    "        email_id, label, subject, body = line.split('\\t')\n",
    "    except ValueError:\n",
    "        email_id, label, body = line.split('\\t')\n",
    "    \n",
    "    # extract only words from the combined subject and body text\n",
    "    for token in WORD_RE.findall(subject + ' ' + body):\n",
    "        term = '0'\n",
    "        if all_words:\n",
    "            term = '1'\n",
    "        elif token.lower() in wordlist:\n",
    "            term = '1'\n",
    "        print('{0}\\t{1}\\t{2}\\t{3}\\t{4}'.format(token, email_id, label, term, 1))"
   ]
  },
  {
   "cell_type": "code",
   "execution_count": 81,
   "metadata": {
    "collapsed": true
   },
   "outputs": [],
   "source": [
    "# Set the execution permissions of the Python script\n",
    "!chmod a+x term_mapper.py"
   ]
  },
  {
   "cell_type": "markdown",
   "metadata": {},
   "source": [
    "### Reducer Stage 1, +1 Smoothing"
   ]
  },
  {
   "cell_type": "code",
   "execution_count": 84,
   "metadata": {
    "collapsed": false
   },
   "outputs": [
    {
     "name": "stdout",
     "output_type": "stream",
     "text": [
      "Overwriting probability_reducer.py\n"
     ]
    }
   ],
   "source": [
    "%%writefile probability_reducer.py\n",
    "#!/usr/bin/python\n",
    "## reducer.py\n",
    "## Author: Ron Cordell\n",
    "## Description: reducer code for HW1.4\n",
    "## given a list of intermediate word count files, compute NB classification\n",
    "import sys\n",
    "counts = {}\n",
    "term_counts = {}\n",
    "spam_doc_ids = []\n",
    "ham_doc_ids = []\n",
    "spam_doc_word_count = 0.0\n",
    "ham_doc_word_count = 0.0\n",
    "spam_term_count = 0.0\n",
    "ham_term_count = 0.0\n",
    "terms = 0.0\n",
    "current_key = None\n",
    "current_count = 0\n",
    "\n",
    "# STDIN consists of single lines of: token <tab> id <tab> class <tab> term_flag <tab> count\n",
    "# Assume that the proper parameters have been set such that Hadoop knows to treat the first 4 fields\n",
    "# as the key so that they are properly sorted when they reach the reducer\n",
    "# See http://blog.cloudera.com/blog/2013/01/a-guide-to-python-frameworks-for-hadoop/ for an example\n",
    "\n",
    "def accumulate_key(key , _count, spam_doc_word_count, ham_doc_word_count, term_counts, counts):\n",
    "    # accumulate the key, values in a dictionary\n",
    "    _token = key[0]\n",
    "    _id = key[1]\n",
    "    _label = key[2]\n",
    "    _term = key[3]\n",
    "    \n",
    "    if key in counts:\n",
    "        counts[key] += _count\n",
    "    else:\n",
    "        counts[key] = _count\n",
    "\n",
    "    # accumulate into ham and spam dictionaries also\n",
    "    if _label == '1':\n",
    "        spam_doc_word_count += _count\n",
    "        if _id not in spam_doc_ids:\n",
    "            spam_doc_ids.append(_id)\n",
    "        if _term == '1':\n",
    "            if _token in term_counts:\n",
    "                term_counts[_token]['spam_count'] += _count\n",
    "            else:\n",
    "                term_counts[_token] = {'spam_count' : _count,\n",
    "                                     'ham_count' : 0.0,\n",
    "                                      'prob_ham'  : 0.0,\n",
    "                                      'prob_spam' : 0.0} \n",
    "    else:                \n",
    "        ham_doc_word_count += _count\n",
    "        if _id not in ham_doc_ids:\n",
    "            ham_doc_ids.append(_id)\n",
    "        if _term == '1':\n",
    "            if _token in term_counts:\n",
    "                term_counts[_token]['ham_count'] += _count\n",
    "            else:\n",
    "                term_counts[_token] = {'spam_count' : _count,\n",
    "                                     'ham_count' : 0.0,\n",
    "                                      'prob_ham'  : 0.0,\n",
    "                                      'prob_spam' : 0.0}\n",
    "    return spam_doc_word_count, ham_doc_word_count\n",
    "\n",
    "# process the STDIN stream\n",
    "for line in sys.stdin:\n",
    "    token, email_id, label, term, token_count = line.split('\\t')\n",
    "\n",
    "    if term == '0':\n",
    "        vocab_word = False\n",
    "    else:\n",
    "        vocab_word = True\n",
    "\n",
    "    # this IF-switch only works because Hadoop sorts map output\n",
    "    # by key before it is passed to the reducer\n",
    "    if current_key == (token, email_id, label, term):\n",
    "        current_count += int(token_count)\n",
    "    else:\n",
    "        if current_key:\n",
    "            spam_doc_word_count, ham_doc_word_count = accumulate_key(current_key, \n",
    "                                                                     float(current_count), \n",
    "                                                                     spam_doc_word_count, \n",
    "                                                                     ham_doc_word_count, \n",
    "                                                                     term_counts, counts)\n",
    "            \n",
    "        current_count = int(token_count)\n",
    "        current_key = (token, email_id, label, term)\n",
    "\n",
    "# add the last key, value that we've received\n",
    "if current_key == (token, email_id, label, term):\n",
    "    spam_doc_word_count, ham_doc_word_count = accumulate_key(current_key, \n",
    "                                                             float(current_count), \n",
    "                                                             spam_doc_word_count, \n",
    "                                                             ham_doc_word_count, \n",
    "                                                             term_counts, counts)      \n",
    "                       \n",
    "# now we should have consolidated the intermediate counts and we can compute the rest\n",
    "\n",
    "# count the number of terms\n",
    "term_count = len(term_counts.keys()) * 1.0\n",
    "# compute the prior\n",
    "prior = (len(spam_doc_ids)*1.0)/(1.0*(len(spam_doc_ids) + len(ham_doc_ids)))\n",
    "\n",
    "# calculate the P(term|class) for each term\n",
    "# Add +1 Smoothing\n",
    "for term in term_counts:\n",
    "    term_counts[term]['prob_ham'] = (term_counts[term]['ham_count']+1)/(ham_doc_word_count + term_count)\n",
    "    term_counts[term]['prob_spam'] = (term_counts[term]['spam_count']+1)/(spam_doc_word_count + term_count)\n",
    "    \n",
    "    # output term <tab> probability_ham <tab> ham_count <tab> probability_spam <tab> spam_count <tab> prior\n",
    "    print '{0}\\t{1}\\t{2}\\t{3}\\t{4}\\t{5}'.format(term, term_counts[term]['prob_ham'], \n",
    "                                           term_counts[term]['ham_count'],\n",
    "                                           term_counts[term]['prob_spam'], \n",
    "                                           term_counts[term]['spam_count'], \n",
    "                                           prior)"
   ]
  },
  {
   "cell_type": "code",
   "execution_count": 85,
   "metadata": {
    "collapsed": true
   },
   "outputs": [],
   "source": [
    "# Set the execution permissions of the Python script\n",
    "!chmod a+x probability_reducer.py"
   ]
  },
  {
   "cell_type": "markdown",
   "metadata": {},
   "source": [
    "### Test Stage 1 MR"
   ]
  },
  {
   "cell_type": "code",
   "execution_count": 86,
   "metadata": {
    "collapsed": false
   },
   "outputs": [
    {
     "name": "stdout",
     "output_type": "stream",
     "text": [
      "assistance\t0.000210896309315\t2.0\t0.000481334902129\t8.0\t0.44\r\n"
     ]
    }
   ],
   "source": [
    "!cat enronemail_1h.txt | ./term_mapper.py \"assistance\" | sort -r -k1,1 | ./probability_reducer.py"
   ]
  },
  {
   "cell_type": "markdown",
   "metadata": {},
   "source": [
    "### Map Stage 2, +1 Smoothing"
   ]
  },
  {
   "cell_type": "code",
   "execution_count": null,
   "metadata": {
    "collapsed": false
   },
   "outputs": [],
   "source": [
    "%%writefile email_mapper.py\n",
    "#!/usr/bin/python\n",
    "## mapper.py\n",
    "## Author: Ron Cordell\n",
    "## Description: mapper code for HW2.3\n",
    "## Given input on STDIN read lines and count occurrences of words\n",
    "## Output a key, value => (token, email id, class, term_flag) = count\n",
    "\n",
    "import sys\n",
    "import re\n",
    "\n",
    "prior = 0.0\n",
    "terms = {}\n",
    "# open the file with the term probabilities\n",
    "with open('term_probabilities.txt','r') as termfile:\n",
    "    for line in termfile.readlines():\n",
    "        term, ham_prob, ham_count, spam_prob, spam_count, prior = line.strip().split('\\t')\n",
    "        terms[term] = {'ham_prob'  : float(ham_prob),  'ham_count'  : float(ham_count),\n",
    "                       'spam_prob' : float(spam_prob), 'spam_count' : float(spam_count)}\n",
    "        prior = float(prior)\n",
    "\n",
    "## Lines in the file have 4 fields:\n",
    "## ID \\t SPAM \\t SUBJECT \\t CONTENT \\n\n",
    "WORD_RE = re.compile(r\"[\\w']+\")\n",
    "\n",
    "for line in sys.stdin:\n",
    "    tokens = {}\n",
    "    try:\n",
    "        email_id, label, subject, body = line.split('\\t')\n",
    "    except ValueError:\n",
    "        email_id, label, body = line.split('\\t')\n",
    "    \n",
    "    # extract only words from the combined subject and body text\n",
    "    for token in WORD_RE.findall(subject + ' ' + body):\n",
    "        if token.lower() in terms:\n",
    "            if token.lower() in tokens:\n",
    "                tokens[token.lower()]['count'] += 1\n",
    "            else:\n",
    "                tokens[token.lower()] = {'count' : 1}\n",
    "                \n",
    "    # emit the accumulated terms for the email\n",
    "    if len(tokens) > 0:\n",
    "        for token in tokens:\n",
    "            print('{0}\\t{1}\\t{2}\\t{3}\\t{4}\\t{5}\\t{6}'.format(email_id, label, token,\n",
    "                                                terms[token]['ham_prob'],\n",
    "                                                terms[token]['spam_prob'],\n",
    "                                                prior,\n",
    "                                                tokens[token]['count']))\n",
    "    else:\n",
    "        # if an email has no vocabulary terms then emit a single record indicating a zero count\n",
    "        print('{0}\\t{1}\\t{2}\\t{3}\\t{4}\\t{5}\\t{6}'.format(email_id, label, '*',\n",
    "                                            0.0,\n",
    "                                            0.0,\n",
    "                                            prior,\n",
    "                                            0))"
   ]
  },
  {
   "cell_type": "code",
   "execution_count": null,
   "metadata": {
    "collapsed": true
   },
   "outputs": [],
   "source": [
    "# Set the execution permissions of the Python script\n",
    "!chmod a+x email_mapper.py"
   ]
  },
  {
   "cell_type": "markdown",
   "metadata": {},
   "source": [
    "### Reducer Stage 2, +1 Smoothing"
   ]
  },
  {
   "cell_type": "code",
   "execution_count": 87,
   "metadata": {
    "collapsed": false
   },
   "outputs": [
    {
     "name": "stdout",
     "output_type": "stream",
     "text": [
      "Overwriting classifier_reducer.py\n"
     ]
    }
   ],
   "source": [
    "%%writefile classifier_reducer.py\n",
    "#!/usr/bin/python\n",
    "## reducer.py\n",
    "## Author: Ron Cordell\n",
    "## Description: reducer code for HW1.4\n",
    "## given a list of intermediate word count files, compute NB classification\n",
    "import sys\n",
    "from math import log\n",
    "\n",
    "emails = {}\n",
    "current_email = None\n",
    "prob_spam = 0.0\n",
    "prob_ham  = 0.0\n",
    "zero_prob_ham = 0\n",
    "zero_prob_spam = 0\n",
    "pred_label = 0\n",
    "right = 0\n",
    "wrong = 0\n",
    "\n",
    "# STDIN consists of single lines of: id <tab> label <tab> token <tab> p_ham <tab> p_spam <tab> prior <tab> count\n",
    "# Assume the mapper has already aggregated terms in each email\n",
    "# Assume that the proper parameters have been set such that Hadoop knows to treat the first 4 fields\n",
    "# as the key so that they are properly sorted when they reach the reducer\n",
    "# See http://blog.cloudera.com/blog/2013/01/a-guide-to-python-frameworks-for-hadoop/ for an example\n",
    "\n",
    "# process the STDIN stream\n",
    "for line in sys.stdin:\n",
    "    email_id, label, token, _p_ham, _p_spam, _prior, _token_count = line.split('\\t')\n",
    "    \n",
    "    # convert strings to numeric\n",
    "    p_ham = float(_p_ham)\n",
    "    p_spam = float(_p_spam)\n",
    "    prior = float(_prior)\n",
    "    token_count = float(_token_count)\n",
    "        \n",
    "    # accumulate by email id\n",
    "    # this IF-switch only works because Hadoop sorts map output\n",
    "    # by key before it is passed to the reducer\n",
    "    if current_email == email_id:\n",
    "        if p_ham != 0.0:\n",
    "            prob_ham += log(p_ham) * token_count\n",
    "        else:\n",
    "            zero_prob_ham += 1\n",
    "        if p_spam != 0.0:\n",
    "            prob_spam += log(p_spam) * token_count\n",
    "        else:\n",
    "            zero_prob_spam += 1\n",
    "    else:\n",
    "        if current_email:\n",
    "            # emit the classification\n",
    "            if prob_spam > prob_ham:\n",
    "                pred_label = '1'\n",
    "            else:\n",
    "                pred_label = '0'\n",
    "            if label == pred_label:\n",
    "                right += 1\n",
    "            else:\n",
    "                wrong += 1\n",
    "            print '{0}\\t{1}\\t{2}'.format(email_id, label, pred_label)\n",
    "            \n",
    "            # add to the list of posteriors\n",
    "            emails[current_email] = {'lp_ham' : prob_ham, 'lp_spam' : prob_spam}\n",
    "        \n",
    "         # if this new email has no terms then we predict ham but have no posteriors\n",
    "        if token == '*':\n",
    "            print '{0}\\t{1}\\t{2}'.format(email_id, label, '0')\n",
    "            if label == '0':\n",
    "                right += 1\n",
    "            else:\n",
    "                wrong += 1\n",
    "            emails[email_id] = {'lp_ham' : '-', 'lp_spam' : '-'}\n",
    "            current_email = None\n",
    "        else:\n",
    "            # otherwise make this the new current email and reset the probabilities\n",
    "            current_email = email_id\n",
    "            if p_ham != 0.0:\n",
    "                prob_ham = log(1-prior) + (log(p_ham) * token_count)\n",
    "            else:\n",
    "                zero_prob_ham += 1\n",
    "            if p_spam != 0.0:\n",
    "                prob_spam = log(prior) + (log(p_spam) * token_count)\n",
    "            else:\n",
    "                zero_prob_spam += 1\n",
    "\n",
    "\n",
    "# add the last key, value that we've received\n",
    "if current_email == email_id:\n",
    "    # emit the classification\n",
    "    if prob_spam > prob_ham:\n",
    "        pred_label = '1'\n",
    "    else:\n",
    "        pred_label = '0'\n",
    "    if label == pred_label:\n",
    "        right += 1\n",
    "    else:\n",
    "        wrong += 1\n",
    "    print '{0}\\t{1}\\t{2}'.format(email_id, label, pred_label)    \n",
    "    emails[email_id] = {'lp_ham' : prob_ham, 'lp_spam' : prob_spam} \n",
    "    \n",
    "print 'Error Rate: {0}/{1}'.format(wrong, right + wrong)\n",
    "print 'Zero Probabilities: Spam {0} \\tHam {1}'.format(zero_prob_spam, zero_prob_ham)\n",
    "for e in emails:\n",
    "    print '{0}\\t{1}\\t{2}\\t{3}'.format(':',e, emails[e]['lp_ham'], emails[e]['lp_spam'])"
   ]
  },
  {
   "cell_type": "code",
   "execution_count": 88,
   "metadata": {
    "collapsed": true
   },
   "outputs": [],
   "source": [
    "# Set the execution permissions of the Python script\n",
    "!chmod a+x classifier_reducer.py"
   ]
  },
  {
   "cell_type": "markdown",
   "metadata": {},
   "source": [
    "### Test"
   ]
  },
  {
   "cell_type": "code",
   "execution_count": null,
   "metadata": {
    "collapsed": false,
    "scrolled": true
   },
   "outputs": [],
   "source": [
    "!cat enronemail_1h.txt | ./email_mapper.py | sort -k1,1 | ./classifier_reducer.py"
   ]
  },
  {
   "cell_type": "markdown",
   "metadata": {},
   "source": [
    "## Processing With Hadoop\n",
    "\n",
    "It is assumed that the hadoop processes are still running"
   ]
  },
  {
   "cell_type": "markdown",
   "metadata": {},
   "source": [
    "### Execute Hadoop Stage 1 MapReduce - +1 Smoothing, Single Term"
   ]
  },
  {
   "cell_type": "code",
   "execution_count": 104,
   "metadata": {
    "collapsed": false
   },
   "outputs": [],
   "source": [
    "!hadoop jar /usr/local/Cellar/hadoop/2.7.1/libexec/share/hadoop/tools/lib/hadoop-streaming-2.7.1.jar -mapper 'term_mapper.py \"assistance\"' -reducer probability_reducer.py -input enronemail_1h.txt -output model\n"
   ]
  },
  {
   "cell_type": "markdown",
   "metadata": {},
   "source": [
    "### Copy model file to local file system from HDFS"
   ]
  },
  {
   "cell_type": "code",
   "execution_count": 105,
   "metadata": {
    "collapsed": false
   },
   "outputs": [],
   "source": [
    "!rm -f term_probabilities.txt\n",
    "!hdfs dfs -get /user/rcordell/model/part-00000 term_probabilities.txt"
   ]
  },
  {
   "cell_type": "markdown",
   "metadata": {},
   "source": [
    "### Execute Hadoop Stage 2 MapReduce - +1 Smoothing, Single Term"
   ]
  },
  {
   "cell_type": "code",
   "execution_count": 106,
   "metadata": {
    "collapsed": false
   },
   "outputs": [
    {
     "name": "stdout",
     "output_type": "stream",
     "text": [
      "packageJobJar: [term_probabilities.txt] [] /var/folders/z_/rfp5q2cd6db13d19v6yw0n8w0000gn/T/streamjob4108528525587479737.jar tmpDir=null\r\n"
     ]
    }
   ],
   "source": [
    "!hadoop jar /usr/local/Cellar/hadoop/2.7.1/libexec/share/hadoop/tools/lib/hadoop-streaming-2.7.1.jar -mapper email_mapper.py -reducer classifier_reducer.py -input enronemail_1h.txt -output classifier -file term_probabilities.txt"
   ]
  },
  {
   "cell_type": "markdown",
   "metadata": {},
   "source": [
    "### Examine the output of the classifier - Error Rate - +1 Smoothing, Single Term"
   ]
  },
  {
   "cell_type": "code",
   "execution_count": 107,
   "metadata": {
    "collapsed": false
   },
   "outputs": [
    {
     "name": "stdout",
     "output_type": "stream",
     "text": [
      "Error Rate: 42/100\t\r\n"
     ]
    }
   ],
   "source": [
    "!hdfs dfs -cat /user/rcordell/classifier/part-00000 | grep -i \"error rate\""
   ]
  },
  {
   "cell_type": "markdown",
   "metadata": {},
   "source": [
    "### Zero Probability Counts - +1 Smoothing, Single Term"
   ]
  },
  {
   "cell_type": "code",
   "execution_count": 108,
   "metadata": {
    "collapsed": false
   },
   "outputs": [
    {
     "name": "stdout",
     "output_type": "stream",
     "text": [
      "Zero Probabilities: Spam 0 \tHam 0\r\n"
     ]
    }
   ],
   "source": [
    "!hdfs dfs -cat /user/rcordell/classifier/part-00000 | grep -i \"Zero Probabilities\""
   ]
  },
  {
   "cell_type": "markdown",
   "metadata": {},
   "source": [
    "### Log Probability Distribution, +1 Smoothing, Single Term"
   ]
  },
  {
   "cell_type": "code",
   "execution_count": 109,
   "metadata": {
    "collapsed": false
   },
   "outputs": [],
   "source": [
    "!rm classification_results.txt\n",
    "!hdfs dfs -get /user/rcordell/classifier/part-00000 classification_results.txt"
   ]
  },
  {
   "cell_type": "code",
   "execution_count": 110,
   "metadata": {
    "collapsed": true
   },
   "outputs": [],
   "source": [
    "%matplotlib inline \n",
    "import matplotlib\n",
    "import matplotlib.pyplot as plt\n",
    "import numpy as np"
   ]
  },
  {
   "cell_type": "code",
   "execution_count": 111,
   "metadata": {
    "collapsed": false,
    "scrolled": false
   },
   "outputs": [
    {
     "data": {
      "image/png": "[encoded data removed]",
      "text/plain": [
       "<matplotlib.figure.Figure at 0x112320f50>"
      ]
     },
     "metadata": {},
     "output_type": "display_data"
    }
   ],
   "source": [
    "ham = []\n",
    "spam = []\n",
    "with open('classification_results.txt','r') as infile:\n",
    "    for line in infile.readlines():\n",
    "        try:\n",
    "            flag, _id, lh, ls = line.strip().split('\\t')\n",
    "            try:\n",
    "                ham.append(float(lh))\n",
    "            except:\n",
    "                ham.append(0.0)\n",
    "            try:\n",
    "                spam.append(float(ls))\n",
    "            except:\n",
    "                spam.append(0.0)\n",
    "        except:\n",
    "            pass\n",
    "\n",
    "\n",
    "index = np.arange(len(ham))\n",
    "fig, ax = plt.subplots()\n",
    "bar_width = 0.35\n",
    "opacity = 0.4\n",
    "rects_h = plt.bar(index, ham, bar_width, color = 'b', alpha=opacity)\n",
    "rects_s = plt.bar(index, spam, bar_width, color = 'r', alpha=opacity)\n",
    "plt.xlabel('Email')\n",
    "plt.ylabel('Log Probability')\n",
    "plt.title('Posterior Log Probabilities')\n",
    "plt.legend()\n",
    "\n",
    "plt.tight_layout()\n",
    "plt.show()        "
   ]
  },
  {
   "cell_type": "markdown",
   "metadata": {},
   "source": [
    "### Clean up HDFS"
   ]
  },
  {
   "cell_type": "code",
   "execution_count": 112,
   "metadata": {
    "collapsed": false
   },
   "outputs": [
    {
     "name": "stdout",
     "output_type": "stream",
     "text": [
      "Deleted /user/rcordell/model\r\n"
     ]
    }
   ],
   "source": [
    "!hdfs dfs -rm -r /user/rcordell/model"
   ]
  },
  {
   "cell_type": "code",
   "execution_count": 113,
   "metadata": {
    "collapsed": false
   },
   "outputs": [
    {
     "name": "stdout",
     "output_type": "stream",
     "text": [
      "Deleted /user/rcordell/classifier\r\n"
     ]
    }
   ],
   "source": [
    "!hdfs dfs -rm -r /user/rcordell/classifier"
   ]
  },
  {
   "cell_type": "markdown",
   "metadata": {},
   "source": [
    "### Execute Hadoop Stage 1 MapReduce - +1 Smoothing, All Terms"
   ]
  },
  {
   "cell_type": "code",
   "execution_count": 114,
   "metadata": {
    "collapsed": false
   },
   "outputs": [],
   "source": [
    "!hadoop jar /usr/local/Cellar/hadoop/2.7.1/libexec/share/hadoop/tools/lib/hadoop-streaming-2.7.1.jar -mapper 'term_mapper.py \"*\"' -reducer probability_reducer.py -input enronemail_1h.txt -output model\n"
   ]
  },
  {
   "cell_type": "markdown",
   "metadata": {},
   "source": [
    "### Copy model file to local file system from HDFS"
   ]
  },
  {
   "cell_type": "code",
   "execution_count": 115,
   "metadata": {
    "collapsed": false
   },
   "outputs": [],
   "source": [
    "!rm -f term_probabilities.txt\n",
    "!hdfs dfs -get /user/rcordell/model/part-00000 term_probabilities.txt"
   ]
  },
  {
   "cell_type": "markdown",
   "metadata": {},
   "source": [
    "### Execute Hadoop Stage 2 MapReduce - +1 Smoothing, All Terms"
   ]
  },
  {
   "cell_type": "code",
   "execution_count": 116,
   "metadata": {
    "collapsed": false
   },
   "outputs": [
    {
     "name": "stdout",
     "output_type": "stream",
     "text": [
      "packageJobJar: [term_probabilities.txt] [] /var/folders/z_/rfp5q2cd6db13d19v6yw0n8w0000gn/T/streamjob3501786193234961595.jar tmpDir=null\r\n"
     ]
    }
   ],
   "source": [
    "!hadoop jar /usr/local/Cellar/hadoop/2.7.1/libexec/share/hadoop/tools/lib/hadoop-streaming-2.7.1.jar -mapper email_mapper.py -reducer classifier_reducer.py -input enronemail_1h.txt -output classifier -file term_probabilities.txt"
   ]
  },
  {
   "cell_type": "markdown",
   "metadata": {},
   "source": [
    "### Examine the output of the classifier - Error Rate - +1 Smoothing, All Terms"
   ]
  },
  {
   "cell_type": "code",
   "execution_count": 117,
   "metadata": {
    "collapsed": false
   },
   "outputs": [
    {
     "name": "stdout",
     "output_type": "stream",
     "text": [
      "Error Rate: 33/100\t\r\n"
     ]
    }
   ],
   "source": [
    "!hdfs dfs -cat /user/rcordell/classifier/part-00000 | grep -i \"error rate\""
   ]
  },
  {
   "cell_type": "markdown",
   "metadata": {},
   "source": [
    "### Zero Probability Counts - +1 Smoothing, All Terms"
   ]
  },
  {
   "cell_type": "code",
   "execution_count": 118,
   "metadata": {
    "collapsed": false
   },
   "outputs": [
    {
     "name": "stdout",
     "output_type": "stream",
     "text": [
      "Zero Probabilities: Spam 0 \tHam 0\r\n"
     ]
    }
   ],
   "source": [
    "!hdfs dfs -cat /user/rcordell/classifier/part-00000 | grep -i \"Zero Probabilities\""
   ]
  },
  {
   "cell_type": "markdown",
   "metadata": {},
   "source": [
    "### Log Probability Distribution +1 Smoothing, All Terms"
   ]
  },
  {
   "cell_type": "code",
   "execution_count": 119,
   "metadata": {
    "collapsed": false
   },
   "outputs": [],
   "source": [
    "!rm classification_results.txt\n",
    "!hdfs dfs -get /user/rcordell/classifier/part-00000 classification_results.txt"
   ]
  },
  {
   "cell_type": "code",
   "execution_count": 120,
   "metadata": {
    "collapsed": true
   },
   "outputs": [],
   "source": [
    "%matplotlib inline \n",
    "import matplotlib\n",
    "import matplotlib.pyplot as plt\n",
    "import numpy as np"
   ]
  },
  {
   "cell_type": "code",
   "execution_count": 121,
   "metadata": {
    "collapsed": false,
    "scrolled": false
   },
   "outputs": [
    {
     "data": {
      "image/png": "[encoded data removed]",
      "text/plain": [
       "<matplotlib.figure.Figure at 0x1121c74d0>"
      ]
     },
     "metadata": {},
     "output_type": "display_data"
    }
   ],
   "source": [
    "ham = []\n",
    "spam = []\n",
    "with open('classification_results.txt','r') as infile:\n",
    "    for line in infile.readlines():\n",
    "        try:\n",
    "            flag, _id, lh, ls = line.strip().split('\\t')\n",
    "            try:\n",
    "                ham.append(float(lh))\n",
    "            except:\n",
    "                ham.append(0.0)\n",
    "            try:\n",
    "                spam.append(float(ls))\n",
    "            except:\n",
    "                spam.append(0.0)\n",
    "        except:\n",
    "            pass\n",
    "\n",
    "\n",
    "index = np.arange(len(ham))\n",
    "fig, ax = plt.subplots()\n",
    "bar_width = 0.35\n",
    "opacity = 0.4\n",
    "rects_h = plt.bar(index, ham, bar_width, color = 'b', alpha=opacity)\n",
    "rects_s = plt.bar(index, spam, bar_width, color = 'r', alpha=opacity)\n",
    "plt.xlabel('Email')\n",
    "plt.ylabel('Log Probability')\n",
    "plt.title('Posterior Log Probabilities')\n",
    "plt.legend()\n",
    "\n",
    "plt.tight_layout()\n",
    "plt.show()        "
   ]
  },
  {
   "cell_type": "markdown",
   "metadata": {},
   "source": [
    "### Clean up HDFS"
   ]
  },
  {
   "cell_type": "code",
   "execution_count": 122,
   "metadata": {
    "collapsed": false
   },
   "outputs": [
    {
     "name": "stdout",
     "output_type": "stream",
     "text": [
      "Deleted /user/rcordell/model\r\n"
     ]
    }
   ],
   "source": [
    "!hdfs dfs -rm -r /user/rcordell/model"
   ]
  },
  {
   "cell_type": "code",
   "execution_count": 123,
   "metadata": {
    "collapsed": false
   },
   "outputs": [
    {
     "name": "stdout",
     "output_type": "stream",
     "text": [
      "Deleted /user/rcordell/classifier\r\n"
     ]
    }
   ],
   "source": [
    "!hdfs dfs -rm -r /user/rcordell/classifier"
   ]
  },
  {
   "cell_type": "markdown",
   "metadata": {},
   "source": [
    "### Stop YARN and HDFS"
   ]
  },
  {
   "cell_type": "code",
   "execution_count": null,
   "metadata": {
    "collapsed": false,
    "scrolled": true
   },
   "outputs": [],
   "source": [
    "!/usr/local/Cellar/hadoop/2.7.1/sbin/stop-yarn.sh\n",
    "!/usr/local/Cellar/hadoop/2.7.1/sbin/stop-dfs.sh"
   ]
  },
  {
   "cell_type": "markdown",
   "metadata": {},
   "source": [
    "## HW2.5. \n",
    "\n",
    "Repeat HW2.4. This time when modeling and classification ignore tokens with a frequency of less than three (3) in the training set. How does it affect the misclassifcation error of learnt naive multinomial Bayesian Classifier on the training dataset:"
   ]
  },
  {
   "cell_type": "markdown",
   "metadata": {},
   "source": [
    "### Map Stage 1\n",
    "\n",
    "No changes are required so we use the Stage 1 mapper from HW2.4"
   ]
  },
  {
   "cell_type": "markdown",
   "metadata": {},
   "source": [
    "### Reducer Stage 1, +1 Smoothing, Term Counts >= 3"
   ]
  },
  {
   "cell_type": "code",
   "execution_count": 124,
   "metadata": {
    "collapsed": false
   },
   "outputs": [
    {
     "name": "stdout",
     "output_type": "stream",
     "text": [
      "Overwriting probability_reducer.py\n"
     ]
    }
   ],
   "source": [
    "%%writefile probability_reducer.py\n",
    "#!/usr/bin/python\n",
    "## reducer.py\n",
    "## Author: Ron Cordell\n",
    "## Description: reducer code for HW2.5\n",
    "## given a list of intermediate word count files, compute NB classification\n",
    "## Drop term counts < 3\n",
    "\n",
    "import sys\n",
    "counts = {}\n",
    "term_counts = {}\n",
    "spam_doc_ids = []\n",
    "ham_doc_ids = []\n",
    "spam_doc_word_count = 0.0\n",
    "ham_doc_word_count = 0.0\n",
    "spam_term_count = 0.0\n",
    "ham_term_count = 0.0\n",
    "terms = 0.0\n",
    "current_key = None\n",
    "current_count = 0\n",
    "\n",
    "# STDIN consists of single lines of: token <tab> id <tab> class <tab> term_flag <tab> count\n",
    "# Assume that the proper parameters have been set such that Hadoop knows to treat the first 4 fields\n",
    "# as the key so that they are properly sorted when they reach the reducer\n",
    "# See http://blog.cloudera.com/blog/2013/01/a-guide-to-python-frameworks-for-hadoop/ for an example\n",
    "\n",
    "def accumulate_key(key , _count, spam_doc_word_count, ham_doc_word_count, term_counts, counts):\n",
    "    # accumulate the key, values in a dictionary\n",
    "    _token = key[0]\n",
    "    _id = key[1]\n",
    "    _label = key[2]\n",
    "    _term = key[3]\n",
    "    \n",
    "    if key in counts:\n",
    "        counts[key] += _count\n",
    "    else:\n",
    "        counts[key] = _count\n",
    "\n",
    "    # accumulate into ham and spam dictionaries also\n",
    "    if _label == '1':\n",
    "        spam_doc_word_count += _count\n",
    "        if _id not in spam_doc_ids:\n",
    "            spam_doc_ids.append(_id)\n",
    "        if _term == '1':\n",
    "            if _token in term_counts:\n",
    "                term_counts[_token]['spam_count'] += _count\n",
    "            else:\n",
    "                term_counts[_token] = {'spam_count' : _count,\n",
    "                                     'ham_count' : 0.0,\n",
    "                                      'prob_ham'  : 0.0,\n",
    "                                      'prob_spam' : 0.0} \n",
    "    else:                \n",
    "        ham_doc_word_count += _count\n",
    "        if _id not in ham_doc_ids:\n",
    "            ham_doc_ids.append(_id)\n",
    "        if _term == '1':\n",
    "            if _token in term_counts:\n",
    "                term_counts[_token]['ham_count'] += _count\n",
    "            else:\n",
    "                term_counts[_token] = {'spam_count' : _count,\n",
    "                                     'ham_count' : 0.0,\n",
    "                                      'prob_ham'  : 0.0,\n",
    "                                      'prob_spam' : 0.0}\n",
    "    return spam_doc_word_count, ham_doc_word_count\n",
    "\n",
    "# process the STDIN stream\n",
    "for line in sys.stdin:\n",
    "    token, email_id, label, term, token_count = line.split('\\t')\n",
    "\n",
    "    if term == '0':\n",
    "        vocab_word = False\n",
    "    else:\n",
    "        vocab_word = True\n",
    "\n",
    "    # this IF-switch only works because Hadoop sorts map output\n",
    "    # by key before it is passed to the reducer\n",
    "    if current_key == (token, email_id, label, term):\n",
    "        current_count += int(token_count)\n",
    "    else:\n",
    "        if current_key:\n",
    "            spam_doc_word_count, ham_doc_word_count = accumulate_key(current_key, \n",
    "                                                                     float(current_count), \n",
    "                                                                     spam_doc_word_count, \n",
    "                                                                     ham_doc_word_count, \n",
    "                                                                     term_counts, counts)\n",
    "            \n",
    "        current_count = int(token_count)\n",
    "        current_key = (token, email_id, label, term)\n",
    "\n",
    "# add the last key, value that we've received\n",
    "if current_key == (token, email_id, label, term):\n",
    "    spam_doc_word_count, ham_doc_word_count = accumulate_key(current_key, \n",
    "                                                             float(current_count), \n",
    "                                                             spam_doc_word_count, \n",
    "                                                             ham_doc_word_count, \n",
    "                                                             term_counts, counts)      \n",
    "                       \n",
    "# now we should have consolidated the intermediate counts and we can compute the rest\n",
    "\n",
    "# count the number of terms\n",
    "term_count = len(term_counts.keys()) * 1.0\n",
    "# compute the prior\n",
    "prior = (len(spam_doc_ids)*1.0)/(1.0*(len(spam_doc_ids) + len(ham_doc_ids)))\n",
    "\n",
    "# calculate the P(term|class) for each term\n",
    "# Add +1 Smoothing\n",
    "for term in term_counts:\n",
    "    # drop term counts less than 3\n",
    "    # so I'm going to make a call and say that both the spam and ham counts for the term must be less than 3\n",
    "    # in order to drop the term\n",
    "    if term_counts[term]['ham_count'] >= 3 or term_counts[term]['spam_count'] >= 3:\n",
    "        term_counts[term]['prob_ham'] = (term_counts[term]['ham_count']+1)/(ham_doc_word_count + term_count)\n",
    "        term_counts[term]['prob_spam'] = (term_counts[term]['spam_count']+1)/(spam_doc_word_count + term_count)    \n",
    "        # output term <tab> probability_ham <tab> ham_count <tab> probability_spam <tab> spam_count <tab> prior\n",
    "        print '{0}\\t{1}\\t{2}\\t{3}\\t{4}\\t{5}'.format(term, term_counts[term]['prob_ham'], \n",
    "                                               term_counts[term]['ham_count'],\n",
    "                                               term_counts[term]['prob_spam'], \n",
    "                                               term_counts[term]['spam_count'], \n",
    "                                               prior)"
   ]
  },
  {
   "cell_type": "code",
   "execution_count": 125,
   "metadata": {
    "collapsed": true
   },
   "outputs": [],
   "source": [
    "# Set the execution permissions of the Python script\n",
    "!chmod a+x probability_reducer.py"
   ]
  },
  {
   "cell_type": "markdown",
   "metadata": {},
   "source": [
    "### Test Stage 1 MR"
   ]
  },
  {
   "cell_type": "code",
   "execution_count": null,
   "metadata": {
    "collapsed": false
   },
   "outputs": [],
   "source": [
    "!cat enronemail_1h.txt | ./term_mapper.py \"*\" | sort -r -k1,1 | ./probability_reducer.py"
   ]
  },
  {
   "cell_type": "markdown",
   "metadata": {},
   "source": [
    "### Map Stage 2, +1 Smoothing\n",
    "\n",
    "No changes are required in the Stage 2 mapper"
   ]
  },
  {
   "cell_type": "markdown",
   "metadata": {},
   "source": [
    "### Reducer Stage 2, +1 Smoothing\n",
    "\n",
    "No changes are required in the Stage 2 reducer"
   ]
  },
  {
   "cell_type": "markdown",
   "metadata": {},
   "source": [
    "## Processing With Hadoop\n",
    "\n",
    "It is assumed that the hadoop processes are still running"
   ]
  },
  {
   "cell_type": "markdown",
   "metadata": {},
   "source": [
    "### Execute Hadoop Stage 1 MapReduce - +1 Smoothing, All Terms Occurring >= 3 Times"
   ]
  },
  {
   "cell_type": "code",
   "execution_count": 127,
   "metadata": {
    "collapsed": false
   },
   "outputs": [],
   "source": [
    "!hadoop jar /usr/local/Cellar/hadoop/2.7.1/libexec/share/hadoop/tools/lib/hadoop-streaming-2.7.1.jar -mapper 'term_mapper.py \"*\"' -reducer probability_reducer.py -input enronemail_1h.txt -output model"
   ]
  },
  {
   "cell_type": "markdown",
   "metadata": {},
   "source": [
    "### Copy model file to local file system from HDFS"
   ]
  },
  {
   "cell_type": "code",
   "execution_count": 128,
   "metadata": {
    "collapsed": false
   },
   "outputs": [],
   "source": [
    "!rm -f term_probabilities.txt\n",
    "!hdfs dfs -get /user/rcordell/model/part-00000 term_probabilities.txt"
   ]
  },
  {
   "cell_type": "markdown",
   "metadata": {},
   "source": [
    "### Execute Hadoop Stage 2 MapReduce - +1 Smoothing, All Terms Occurring >= 3 Times"
   ]
  },
  {
   "cell_type": "code",
   "execution_count": 129,
   "metadata": {
    "collapsed": false
   },
   "outputs": [
    {
     "name": "stdout",
     "output_type": "stream",
     "text": [
      "packageJobJar: [term_probabilities.txt] [] /var/folders/z_/rfp5q2cd6db13d19v6yw0n8w0000gn/T/streamjob8811802586518225810.jar tmpDir=null\r\n"
     ]
    }
   ],
   "source": [
    "!hadoop jar /usr/local/Cellar/hadoop/2.7.1/libexec/share/hadoop/tools/lib/hadoop-streaming-2.7.1.jar -mapper email_mapper.py -reducer classifier_reducer.py -input enronemail_1h.txt -output classifier -file term_probabilities.txt"
   ]
  },
  {
   "cell_type": "markdown",
   "metadata": {},
   "source": [
    "### Examine the output of the classifier - Error Rate - +1 Smoothing, All Terms Occuring >= 3 Times"
   ]
  },
  {
   "cell_type": "code",
   "execution_count": 130,
   "metadata": {
    "collapsed": false
   },
   "outputs": [
    {
     "name": "stdout",
     "output_type": "stream",
     "text": [
      "Error Rate: 32/100\t\r\n"
     ]
    }
   ],
   "source": [
    "!hdfs dfs -cat /user/rcordell/classifier/part-00000 | grep -i \"error rate\""
   ]
  },
  {
   "cell_type": "markdown",
   "metadata": {},
   "source": [
    "### Zero Probability Counts - +1 Smoothing, All Terms Occurring >= 3 Times"
   ]
  },
  {
   "cell_type": "code",
   "execution_count": 131,
   "metadata": {
    "collapsed": false
   },
   "outputs": [
    {
     "name": "stdout",
     "output_type": "stream",
     "text": [
      "Zero Probabilities: Spam 0 \tHam 0\r\n"
     ]
    }
   ],
   "source": [
    "!hdfs dfs -cat /user/rcordell/classifier/part-00000 | grep -i \"Zero Probabilities\""
   ]
  },
  {
   "cell_type": "markdown",
   "metadata": {},
   "source": [
    "### Log Probability Distribution +1 Smoothing, All Terms Occuring >= 3 Times"
   ]
  },
  {
   "cell_type": "code",
   "execution_count": 132,
   "metadata": {
    "collapsed": false
   },
   "outputs": [],
   "source": [
    "!rm classification_results.txt\n",
    "!hdfs dfs -get /user/rcordell/classifier/part-00000 classification_results.txt"
   ]
  },
  {
   "cell_type": "code",
   "execution_count": 133,
   "metadata": {
    "collapsed": true
   },
   "outputs": [],
   "source": [
    "%matplotlib inline \n",
    "import matplotlib\n",
    "import matplotlib.pyplot as plt\n",
    "import numpy as np"
   ]
  },
  {
   "cell_type": "code",
   "execution_count": 134,
   "metadata": {
    "collapsed": false,
    "scrolled": false
   },
   "outputs": [
    {
     "data": {
      "image/png": "[encoded data removed]",
      "text/plain": [
       "<matplotlib.figure.Figure at 0x1117128d0>"
      ]
     },
     "metadata": {},
     "output_type": "display_data"
    }
   ],
   "source": [
    "ham = []\n",
    "spam = []\n",
    "with open('classification_results.txt','r') as infile:\n",
    "    for line in infile.readlines():\n",
    "        try:\n",
    "            flag, _id, lh, ls = line.strip().split('\\t')\n",
    "            try:\n",
    "                ham.append(float(lh))\n",
    "            except:\n",
    "                ham.append(0.0)\n",
    "            try:\n",
    "                spam.append(float(ls))\n",
    "            except:\n",
    "                spam.append(0.0)\n",
    "        except:\n",
    "            pass\n",
    "\n",
    "\n",
    "index = np.arange(len(ham))\n",
    "fig, ax = plt.subplots()\n",
    "bar_width = 0.35\n",
    "opacity = 0.4\n",
    "rects_h = plt.bar(index, ham, bar_width, color = 'b', alpha=opacity)\n",
    "rects_s = plt.bar(index, spam, bar_width, color = 'r', alpha=opacity)\n",
    "plt.xlabel('Email')\n",
    "plt.ylabel('Log Probability')\n",
    "plt.title('Posterior Log Probabilities')\n",
    "plt.legend()\n",
    "\n",
    "plt.tight_layout()\n",
    "plt.show()        "
   ]
  },
  {
   "cell_type": "markdown",
   "metadata": {},
   "source": [
    "### Clean up HDFS"
   ]
  },
  {
   "cell_type": "code",
   "execution_count": 135,
   "metadata": {
    "collapsed": false
   },
   "outputs": [
    {
     "name": "stdout",
     "output_type": "stream",
     "text": [
      "Deleted /user/rcordell/model\r\n"
     ]
    }
   ],
   "source": [
    "!hdfs dfs -rm -r /user/rcordell/model"
   ]
  },
  {
   "cell_type": "code",
   "execution_count": 136,
   "metadata": {
    "collapsed": false
   },
   "outputs": [
    {
     "name": "stdout",
     "output_type": "stream",
     "text": [
      "Deleted /user/rcordell/classifier\r\n"
     ]
    }
   ],
   "source": [
    "!hdfs dfs -rm -r /user/rcordell/classifier"
   ]
  },
  {
   "cell_type": "markdown",
   "metadata": {},
   "source": [
    "## HW2.6 \n",
    "\n",
    "Benchmark your code with the Python SciKit-Learn implementation of the multinomial Naive Bayes algorithm\n",
    "\n",
    "It always a good idea to benchmark your solutions against publicly available libraries such as SciKit-Learn, The Machine Learning toolkit available in Python. In this exercise, we benchmark ourselves against the SciKit-Learn implementation of multinomial Naive Bayes.  For more information on this implementation see: http://scikit-learn.org/stable/modules/naive_bayes.html more  \n",
    "\n",
    "In this exercise, please complete the following:\n",
    "\n",
    "— Run the Multinomial Naive Bayes algorithm (using default settings) from SciKit-Learn over the same training data used in HW2.5 and report the misclassification error (please note some data preparation might be needed to get the Multinomial Naive Bayes algorithm from SkiKit-Learn to run over this dataset)\n",
    "- Prepare a table to present your results, where rows correspond to approach used (SkiKit-Learn versus your Hadoop implementation) and the column presents the training misclassification error\n",
    "— Explain/justify any differences in terms of training error rates over the dataset in HW2.5 between your Multinomial Naive Bayes implementation (in Map Reduce) versus the Multinomial Naive Bayes implementation in SciKit-Learn "
   ]
  },
  {
   "cell_type": "markdown",
   "metadata": {},
   "source": [
    "### Scikit-Learn Naive Bayes\n"
   ]
  },
  {
   "cell_type": "code",
   "execution_count": null,
   "metadata": {
    "collapsed": true
   },
   "outputs": [],
   "source": [
    "from sklearn.feature_extraction.text import TfidfVectorizer\n",
    "from sklearn.naive_bayes import MultinomialNB, BernoulliNB\n",
    "\n",
    "X_train = []\n",
    "Y_train = []\n",
    "\n",
    "# replicate our mapper code here where we take the subject and body together\n",
    "# except now we grab the label field as well to use for the Y values\n",
    "with open('enronemail_1h.txt', 'rU') as infile:\n",
    "    for line in infile.readlines():\n",
    "        try:\n",
    "            email_id, label, subject, body = line.split('\\t')\n",
    "            X_train.append(subject + ' ' + body)\n",
    "        except ValueError:\n",
    "            email_id, label, body = line.split('\\t')\n",
    "            X_train.append(body)\n",
    "        # extract only words from the combined subject and body text\n",
    "        Y_train.append(int(label))\n",
    "\n",
    "# Use the TfidVectorizer to create the feature vectors\n",
    "# We should override the tokenizer regular expression to make it the same as what we used\n",
    "# in our poor man's mapper code\n",
    "vectorizer = TfidfVectorizer(token_pattern = \"[\\w']+\")\n",
    "vf = vectorizer.fit(X_train,Y_train)"
   ]
  },
  {
   "cell_type": "markdown",
   "metadata": {},
   "source": [
    "### Multinomial Bayes Training Error"
   ]
  },
  {
   "cell_type": "code",
   "execution_count": 2,
   "metadata": {
    "collapsed": false
   },
   "outputs": [
    {
     "name": "stdout",
     "output_type": "stream",
     "text": [
      "0.0\n"
     ]
    }
   ],
   "source": [
    "clf = MultinomialNB()\n",
    "clf.fit(vf.fit_transform(X_train), Y_train)\n",
    "print 1.0 - clf.score(vf.fit_transform(X_train), Y_train)"
   ]
  },
  {
   "cell_type": "markdown",
   "metadata": {},
   "source": [
    "## HW 2.6.1 OPTIONAL (note this exercise is a stretch HW and optional)\n",
    "\n",
    "—  Run the Bernoulli Naive Bayes algorithm from SciKit-Learn (using default settings) over the same training data used in HW2.6 and report the misclassification error \n",
    "-  Discuss the performance differences in terms of misclassification error rates over the dataset in HW2.5 between the  Multinomial Naive Bayes implementation in SciKit-Learn with the  Bernoulli Naive Bayes implementation in SciKit-Learn. Why such big differences. Explain. \n",
    "\n",
    "Which approach to Naive Bayes would you recommend for SPAM detection? Justify your selection."
   ]
  },
  {
   "cell_type": "markdown",
   "metadata": {},
   "source": [
    "### Bernoulli Bayes Training Error"
   ]
  },
  {
   "cell_type": "code",
   "execution_count": 3,
   "metadata": {
    "collapsed": false
   },
   "outputs": [
    {
     "name": "stdout",
     "output_type": "stream",
     "text": [
      "0.18\n"
     ]
    }
   ],
   "source": [
    "clf = BernoulliNB()\n",
    "clf.fit(vf.fit_transform(X_train), Y_train)\n",
    "print 1.0 - clf.score(vf.fit_transform(X_train), Y_train)"
   ]
  },
  {
   "cell_type": "markdown",
   "metadata": {},
   "source": [
    "## HW2.7 OPTIONAL (note this exercise is a stretch HW and optional)\n",
    "\n",
    "The Enron SPAM data in the following folder enron1-Training-Data-RAW is in raw text form (with subfolders for SPAM and HAM that contain raw email messages in the following form:\n",
    "\n",
    "--- Line 1 contains the subject\n",
    "--- The remaining lines contain the body of the email message.\n",
    "\n",
    "In Python write a script to produce a TSV file called train-Enron-1.txt that has a similar format as the enronemail_1h.txt that you have been using so far. Please pay attend to funky characters and tabs. Check your resulting formated email data in Excel and in Python (e.g., count up the number of fields in each row; the number of SPAM mails and the number of HAM emails). Does each row correspond to an email record with four values? Note: use \"NA\" to denote empty field values."
   ]
  },
  {
   "cell_type": "markdown",
   "metadata": {},
   "source": [
    "## HW2.8 OPTIONAL\n",
    "Using Hadoop Map-Reduce write job(s) to perform the following:\n",
    " -- Train a multinomial Naive Bayes Classifier with Laplace plus one smoothing using the data extracted in HW2.7 (i.e., train-Enron-1.txt). Use all white-space delimitted tokens as independent input variables (assume spaces, fullstops, commas as delimiters). Drop tokens with a frequency of less than three (3).\n",
    " -- Test the learnt classifier using enronemail_1h.txt and report the misclassification error rate. Remember to use all white-space delimitted tokens as independent input variables (assume spaces, fullstops, commas as delimiters). How do we treat tokens in the test set that do not appear in the training set?"
   ]
  },
  {
   "cell_type": "markdown",
   "metadata": {},
   "source": [
    "## HW2.8.1 OPTIONAL\n",
    "—  Run  both the Multinomial Naive Bayes and the Bernoulli Naive Bayes algorithms from SciKit-Learn (using default settings) over the same training data used in HW2.8 and report the misclassification error on both the training set and the testing set\n",
    "- Prepare a table to present your results, where rows correspond to approach used (SciKit-Learn Multinomial NB; SciKit-Learn Bernouili NB; Your Hadoop implementation)  and the columns presents the training misclassification error, and the misclassification error on the test data set\n",
    "-  Discuss the performance differences in terms of misclassification error rates over the test and training datasets by the different implementations. Which approch (Bernouili versus Multinomial) would you recommend for SPAM detection? Justify your selection."
   ]
  },
  {
   "cell_type": "code",
   "execution_count": null,
   "metadata": {
    "collapsed": true
   },
   "outputs": [],
   "source": []
  }
 ],
 "metadata": {
  "kernelspec": {
   "display_name": "Python 2",
   "language": "python",
   "name": "python2"
  },
  "language_info": {
   "codemirror_mode": {
    "name": "ipython",
    "version": 2
   },
   "file_extension": ".py",
   "mimetype": "text/x-python",
   "name": "python",
   "nbconvert_exporter": "python",
   "pygments_lexer": "ipython2",
   "version": "2.7.11"
  }
 },
 "nbformat": 4,
 "nbformat_minor": 0
}
