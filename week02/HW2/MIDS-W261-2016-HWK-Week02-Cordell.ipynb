{
 "cells": [
  {
   "cell_type": "markdown",
   "metadata": {},
   "source": [
    "# MIDS W261 Spring 2016 Homework Week 2\n",
    "\n",
    "Ron Cordell<br />\n",
    "W261-4<br />\n",
    "ron.cordell@ischool.berkeley.edu<br />\n",
    "January 26, 2016"
   ]
  },
  {
   "cell_type": "markdown",
   "metadata": {},
   "source": [
    "## HW2.0. "
   ]
  },
  {
   "cell_type": "markdown",
   "metadata": {},
   "source": [
    "### What is a race condition in the context of parallel computation? Give an example."
   ]
  },
  {
   "cell_type": "markdown",
   "metadata": {},
   "source": [
    "A race condition in parallel computing can happen when more than one instance of a procedure attempts to modify a shared object. For example, suppose there are two instances of a process that number with its square, and that both instances operate on the same number. There is nothing to control the actual timing of execution of these instances. If one instance of the process performs its work after the other instance then the answer will be the number raised to the 4th power and not the square. If both instances get the number, compute the square, one instance will write the number before the other, and the second one will overwrite the first. In this case, however, we get the correct answer. The problem is that we don't know deterministically which case will happen."
   ]
  },
  {
   "cell_type": "markdown",
   "metadata": {},
   "source": [
    "### What is MapReduce?"
   ]
  },
  {
   "cell_type": "markdown",
   "metadata": {},
   "source": [
    "MapReduce is a two-stage functional programming recipe for processing large data sets.\n",
    "\n",
    "- The first stage performs a computation over all inputs, called a 'map' from Lisp terminology\n",
    "- The second stage aggregates the intermediate output from the first stage, called a 'reduce'\n",
    "\n",
    "While seemingly simple, map reduce can be applied to a huge number of problems and can be used in multiple map-reduce stages for more complex scenarios. When a map function can be applied very simply using commutative and associative types of operations it lends to supporting embarrasingly parallel scenarios. While MapReduce has been around in functional programming languages like Lisp since the 1960's, it's modern use has come to the forefront as a result of a combination of commidity priced hardware compute and storage nodes and the [Google paper](http://static.googleusercontent.com/media/research.google.com/en//archive/mapreduce-osdi04.pdf)."
   ]
  },
  {
   "cell_type": "markdown",
   "metadata": {},
   "source": [
    "### How does it differ from Hadoop?"
   ]
  },
  {
   "cell_type": "markdown",
   "metadata": {},
   "source": [
    "Hadoop provides a framework in which to execute map-reduce and relieves the programmer of certain tasks while providing additional functionality. For example, Hadoop gathers and sorts the `(key,value)` pairs output by the mapper stage and routes them to the appropriate reducer, ensuring that each reducer has a complete set values for the keys given. This intermediate sort and route is part of the Hadoop Shuffle, which is the backbone of Hadoop."
   ]
  },
  {
   "cell_type": "markdown",
   "metadata": {},
   "source": [
    "### Which programming paradigm is Hadoop based on? Explain and give a simple example in code and show the code running."
   ]
  },
  {
   "cell_type": "markdown",
   "metadata": {},
   "source": [
    "Hadoop is based upon the map-reduce programming paradigm which is designed to allow parallel distributed processing of large sets of data by mapping/transforming them to sets of tuples then combining and reducing/aggregating them to smaller sets of tuples. The map and reduce steps are written by the user. \n",
    "\n",
    "What follows is a simple example of a map reduce application. The map and reduce steps are written in Python while the execution of the steps is executed by bash shell commands. This mapper and reducer count the number of occurances of a specified word in a text file."
   ]
  },
  {
   "cell_type": "markdown",
   "metadata": {},
   "source": [
    "#### MapReduce Simple Example\n",
    "\n",
    "What follows is a simple example of a map reduce application. The map and reduce steps are written in Python while the execution of the steps is executed by bash shell commands. This mapper and reducer count the number of occurances of a specified word in a text file.\n",
    "\n",
    "#### MapReduce Example - Map\n",
    "\n",
    "This map step reads a file from the local disk line by line, then breaks each line down to individual words.\n",
    "It then compares each word, ignoring case, to the specified search word and accumulates a count for that line. When all the lines have been examined the mapper writes the count to a file."
   ]
  },
  {
   "cell_type": "code",
   "execution_count": 1,
   "metadata": {
    "collapsed": false
   },
   "outputs": [
    {
     "name": "stdout",
     "output_type": "stream",
     "text": [
      "Overwriting mapper.py\n"
     ]
    }
   ],
   "source": [
    "%%writefile mapper.py\n",
    "#!/usr/bin/python\n",
    "import sys\n",
    "import re\n",
    "count = 0\n",
    "WORD_RE = re.compile(r\"[\\w']+\")\n",
    "\n",
    "\n",
    "# the word to find is the first argument\n",
    "findword = sys.argv[1].lower()\n",
    "\n",
    "# the file to scan is the second argument\n",
    "filename = sys.argv[2]\n",
    "\n",
    "# open the file, read it line by line\n",
    "with open (filename, \"r\") as myfile:\n",
    "    for line in myfile.readlines():\n",
    "        \n",
    "        # process each word in the line by filtering out non-words and if it matches\n",
    "        # the search word, incrementing the word count\n",
    "        for word in WORD_RE.findall(line):\n",
    "            # make this a case-insensitve search\n",
    "            if word.lower() == findword:\n",
    "                count += 1\n",
    "            \n",
    "# now that we've counted this line, write out the count\n",
    "with open ('{0}.intermediateCount'.format(filename),'w') as outfile:\n",
    "    outfile.write('{0}\\n'.format(count))"
   ]
  },
  {
   "cell_type": "code",
   "execution_count": 21,
   "metadata": {
    "collapsed": true
   },
   "outputs": [],
   "source": [
    "# Set the appropriate execution mode on the file so we can execute it\n",
    "!chmod a+x mapper.py"
   ]
  },
  {
   "cell_type": "markdown",
   "metadata": {},
   "source": [
    "#### MapReduce Example - Reduce\n",
    "\n",
    "The reduce step takes as input series of counts and accumulates them into a single count. The reducer recieves its input on STDIN and writes its output to STDOUT."
   ]
  },
  {
   "cell_type": "code",
   "execution_count": 22,
   "metadata": {
    "collapsed": false
   },
   "outputs": [
    {
     "name": "stdout",
     "output_type": "stream",
     "text": [
      "Overwriting reducer.py\n"
     ]
    }
   ],
   "source": [
    "%%writefile reducer.py\n",
    "#!/usr/bin/python\n",
    "import sys\n",
    "sum = 0\n",
    "for line in sys.stdin:\n",
    "    try:\n",
    "        sum += int(line)\n",
    "    except:\n",
    "        pass\n",
    "sys.stdout.write('{0}'.format(sum))"
   ]
  },
  {
   "cell_type": "code",
   "execution_count": 23,
   "metadata": {
    "collapsed": true
   },
   "outputs": [],
   "source": [
    "# Set the appropriate execution mode on the file so we can execute it\n",
    "!chmod a+x reducer.py"
   ]
  },
  {
   "cell_type": "markdown",
   "metadata": {},
   "source": [
    "#### MapReduce Example - Putting it together\n",
    "\n",
    "The following bash shell script takes the file to scan and breaks it into separate sub-files, each containing a chunk of the original file. It then invokes several instances of the mapper.py program, one for each chunk, and supplies one of the chunked files. The bash script waits for all mappers to finish and then It then takes the output files from each of the mapper.py programs and steams them one after the other to the reducer.py program.\n",
    "\n",
    "The output of the MapReduce is the number of times a word has occurred in the file:\n",
    "\n",
    "     found [59] [COPYRIGHT] in the file [LICENSE.txt]"
   ]
  },
  {
   "cell_type": "code",
   "execution_count": 24,
   "metadata": {
    "collapsed": false
   },
   "outputs": [
    {
     "name": "stdout",
     "output_type": "stream",
     "text": [
      "Overwriting pGrepCount.sh\n"
     ]
    }
   ],
   "source": [
    "%%writefile pGrepCount.sh\n",
    "ORIGINAL_FILE=$1\n",
    "FIND_WORD=$2\n",
    "BLOCK_SIZE=$3\n",
    "CHUNK_FILE_PREFIX=$ORIGINAL_FILE.split\n",
    "SORTED_CHUNK_FILES=$CHUNK_FILE_PREFIX*.sorted\n",
    "usage()\n",
    "{\n",
    "    echo Parallel grep\n",
    "    echo usage: pGrepCount filename word chuncksize\n",
    "    echo greps file file1 in $ORIGINAL_FILE and counts the number of lines\n",
    "    echo Note: file1 will be split in chunks up to $ BLOCK_SIZE chunks each\n",
    "    echo $FIND_WORD each chunk will be grepCounted in parallel\n",
    "}\n",
    "#Splitting $ORIGINAL_FILE INTO CHUNKS\n",
    "split -b $BLOCK_SIZE $ORIGINAL_FILE $CHUNK_FILE_PREFIX\n",
    "#DISTRIBUTE\n",
    "for file in $CHUNK_FILE_PREFIX*\n",
    "do\n",
    "    #grep -i $FIND_WORD $file|wc -l >$file.intermediateCount &\n",
    "    ./mapper.py $FIND_WORD $file >$file.intermediateCount &\n",
    "done\n",
    "wait\n",
    "#MERGEING INTERMEDIATE COUNT CAN TAKE THE FIRST COLUMN AND TOTAL...\n",
    "#numOfInstances=$(cat *.intermediateCount | cut -f 1 | paste -sd+ - |bc)\n",
    "numOfInstances=$(cat *.intermediateCount | ./reducer.py)\n",
    "echo \"found [$numOfInstances] [$FIND_WORD] in the file [$ORIGINAL_FILE]\""
   ]
  },
  {
   "cell_type": "code",
   "execution_count": 25,
   "metadata": {
    "collapsed": false
   },
   "outputs": [
    {
     "name": "stdout",
     "output_type": "stream",
     "text": [
      "found [59] [COPYRIGHT] in the file [LICENSE.txt]\r\n"
     ]
    }
   ],
   "source": [
    "# set the permissions on the bash script so it can execute\n",
    "!chmod a+x pGrepCount.sh\n",
    "\n",
    "# execute the MapReduce example and output the result. We will look for the word 'assistance'\n",
    "# the '4K' tells the bash script to break the original file down into chunks of no more than\n",
    "# 4K bytes in size\n",
    "!./pGrepCount.sh LICENSE.txt COPYRIGHT 4k\n"
   ]
  },
  {
   "cell_type": "markdown",
   "metadata": {},
   "source": [
    "## HW2.1. Sort in Hadoop MapReduce\n",
    "\n",
    "#### Given as input: Records of the form `<integer, “NA”>`, where integer is any integer, and “NA” is just the empty string.  Output: sorted key value pairs of the form `<integer, “NA”>` in decreasing order.  What happens if you have multiple reducers? Do you need additional steps? Explain."
   ]
  },
  {
   "cell_type": "markdown",
   "metadata": {},
   "source": [
    "If you have multiple reducers each one will have a locally sorted set of records but won't be able to coordinate with the other reducers to produce a complete sorted list. However, it is possible to customize a partitioner to partition the keys across reducers such that reducer 1 has the lowest key values, reducer 2 has the next lowest, and so on. Then the output of the reducers can be easily merged based on the number of the reducer. Technically this is an additional step. Another way to deal with multiple reducers is to have an additional step of taking the output of each of the reducers and sorting that into a single output."
   ]
  },
  {
   "cell_type": "markdown",
   "metadata": {},
   "source": [
    "#### Write code to generate N  random records of the form `<integer, “NA”>`. Let N = 10,000. Write the python Hadoop streaming map-reduce job to perform this sort. Display the top 10 biggest numbers. Display the 10 smallest numbers"
   ]
  },
  {
   "cell_type": "markdown",
   "metadata": {},
   "source": [
    "### HW 2.1 - Record Generator\n",
    "\n",
    "The `recordgneratory.py` accepts an argument to indicate the number of records to generate. Records are generated by selecting a random integer in the range of 1 to the maximum integer value allowed. That integer is appended with the string \",NA\" and written to the output file as a record."
   ]
  },
  {
   "cell_type": "code",
   "execution_count": 46,
   "metadata": {
    "collapsed": false
   },
   "outputs": [
    {
     "name": "stdout",
     "output_type": "stream",
     "text": [
      "Overwriting recordgenerator.py\n"
     ]
    }
   ],
   "source": [
    "%%writefile recordgenerator.py\n",
    "#!/usr/bin/python\n",
    "import random\n",
    "import sys\n",
    "\n",
    "# get number of records to generate\n",
    "num_records = int(sys.argv[1])\n",
    "\n",
    "# generator function to create random integers in the range of 1 to sys.maxint\n",
    "def gen(n):\n",
    "    count = 0\n",
    "    while count < n:\n",
    "        yield (random.randint(1, sys.maxint))\n",
    "        count += 1\n",
    "        \n",
    "# Generate a set of num_record key,value pairs with integer keys generated by the generator\n",
    "# and write them to an output file in the form of \"integer,NA\"\n",
    "for i in gen(num_records):\n",
    "    sys.stdout.write('{0},{1}\\n'.format(i,\"NA\"))"
   ]
  },
  {
   "cell_type": "code",
   "execution_count": 41,
   "metadata": {
    "collapsed": true
   },
   "outputs": [],
   "source": [
    "# Set the execution permissions of the Python script\n",
    "!chmod a+x recordgenerator.py"
   ]
  },
  {
   "cell_type": "markdown",
   "metadata": {},
   "source": [
    "### HW 2.1 - Map\n",
    "\n",
    "For each line that is read from STDIN we expect a string in the form of:\n",
    "\n",
    "     key,value\n",
    "\n",
    "Write each `key, value` pair to STDOUT as `key<tab>value`"
   ]
  },
  {
   "cell_type": "code",
   "execution_count": 30,
   "metadata": {
    "collapsed": false
   },
   "outputs": [
    {
     "name": "stdout",
     "output_type": "stream",
     "text": [
      "Overwriting mapper.py\n"
     ]
    }
   ],
   "source": [
    "%%writefile mapper.py\n",
    "#!/usr/bin/python\n",
    "import sys\n",
    "\n",
    "# each record comes via STDIN one record at a time\n",
    "for record in sys.stdin:\n",
    "    # clean whitespace and split at the comma\n",
    "    k,v = record.strip().split(',')\n",
    "    # write to STDOUT as key <tab> value\n",
    "    print '{0}\\t{1}'.format(k,v)"
   ]
  },
  {
   "cell_type": "code",
   "execution_count": 31,
   "metadata": {
    "collapsed": true
   },
   "outputs": [],
   "source": [
    "# Set the execution permissions of the Python script\n",
    "!chmod a+x mapper.py"
   ]
  },
  {
   "cell_type": "markdown",
   "metadata": {},
   "source": [
    "### HW 2.1 - Reduce\n",
    "\n",
    "For each `key<tab>value` read from STDIN write back out to STDOUT. The output is sorted because the input is already sorted for us by the record key, thanks to Hadoop."
   ]
  },
  {
   "cell_type": "code",
   "execution_count": 51,
   "metadata": {
    "collapsed": false
   },
   "outputs": [
    {
     "name": "stdout",
     "output_type": "stream",
     "text": [
      "Overwriting reducer.py\n"
     ]
    }
   ],
   "source": [
    "%%writefile reducer.py\n",
    "#!/usr/bin/python\n",
    "import sys\n",
    "\n",
    "# read each key,value pair from STDIN and write back out to STDOUT\n",
    "# we can do this because the keys are sorted for us by Hadoop\n",
    "for pair in sys.stdin:\n",
    "    k,v = pair.strip().split('\\t')\n",
    "    print '{0}\\t{1}'.format(k,v)"
   ]
  },
  {
   "cell_type": "code",
   "execution_count": 52,
   "metadata": {
    "collapsed": true
   },
   "outputs": [],
   "source": [
    "# Set the execution permissions of the Python script\n",
    "!chmod a+x reducer.py"
   ]
  },
  {
   "cell_type": "markdown",
   "metadata": {},
   "source": [
    "### HW 2.1 - Test Code\n",
    "\n",
    "Test the mapper and reducer by piping a small test set to the mapper, sort the output of the mapper based on the integer value (key), pipe the result to the reducer, then filter for the top 10 values."
   ]
  },
  {
   "cell_type": "code",
   "execution_count": 57,
   "metadata": {
    "collapsed": false
   },
   "outputs": [
    {
     "name": "stdout",
     "output_type": "stream",
     "text": [
      "8470506191635231078\tNA\r\n",
      "8026439827727903483\tNA\r\n",
      "7914562750245791116\tNA\r\n",
      "7866281371022919675\tNA\r\n",
      "7640348753853655778\tNA\r\n",
      "6499377995366904625\tNA\r\n",
      "5277692479661556743\tNA\r\n",
      "4708012296169908311\tNA\r\n",
      "4590245591349809339\tNA\r\n",
      "4346827061492181849\tNA\r\n"
     ]
    }
   ],
   "source": [
    "!./recordgenerator.py 20 | ./mapper.py | sort -nr -k1,1 | ./reducer.py | head"
   ]
  },
  {
   "cell_type": "markdown",
   "metadata": {},
   "source": [
    "### HW 2.1 - Running in Hadoop"
   ]
  },
  {
   "cell_type": "markdown",
   "metadata": {},
   "source": [
    "#### Start Yarn and HDFS"
   ]
  },
  {
   "cell_type": "code",
   "execution_count": 58,
   "metadata": {
    "collapsed": false
   },
   "outputs": [
    {
     "name": "stdout",
     "output_type": "stream",
     "text": [
      "starting yarn daemons\n",
      "starting resourcemanager, logging to /usr/local/Cellar/hadoop/2.7.1/libexec/logs/yarn-rcordell-resourcemanager-Rons-iMac-Retina.local.out\n",
      "localhost: no such identity: /Users/rcordell/.ssh/id_dsa: No such file or directory\n",
      "localhost: Saving password to keychain failed\n",
      "localhost: Identity added: /Users/rcordell/.ssh/id_rsa ((null))\n",
      "localhost: starting nodemanager, logging to /usr/local/Cellar/hadoop/2.7.1/libexec/logs/yarn-rcordell-nodemanager-Rons-iMac-Retina.local.out\n",
      "Starting namenodes on [localhost]\n",
      "localhost: starting namenode, logging to /usr/local/Cellar/hadoop/2.7.1/libexec/logs/hadoop-rcordell-namenode-Rons-iMac-Retina.local.out\n",
      "localhost: starting datanode, logging to /usr/local/Cellar/hadoop/2.7.1/libexec/logs/hadoop-rcordell-datanode-Rons-iMac-Retina.local.out\n",
      "Starting secondary namenodes [0.0.0.0]\n",
      "0.0.0.0: starting secondarynamenode, logging to /usr/local/Cellar/hadoop/2.7.1/libexec/logs/hadoop-rcordell-secondarynamenode-Rons-iMac-Retina.local.out\n"
     ]
    }
   ],
   "source": [
    "!/usr/local/Cellar/hadoop/2.7.1/sbin/start-yarn.sh\n",
    "!/usr/local/Cellar/hadoop/2.7.1/sbin/start-dfs.sh"
   ]
  },
  {
   "cell_type": "markdown",
   "metadata": {},
   "source": [
    "#### Create an HDFS folder"
   ]
  },
  {
   "cell_type": "code",
   "execution_count": 59,
   "metadata": {
    "collapsed": false
   },
   "outputs": [],
   "source": [
    "!hdfs dfs -mkdir -p /user/rcordell"
   ]
  },
  {
   "cell_type": "markdown",
   "metadata": {},
   "source": [
    "#### Generate and upload record file containing 10000 records to HDFS"
   ]
  },
  {
   "cell_type": "code",
   "execution_count": 60,
   "metadata": {
    "collapsed": false
   },
   "outputs": [],
   "source": [
    "!./recordgenerator.py 10000 > records.txt\n",
    "!hdfs dfs -put records.txt /user/rcordell"
   ]
  },
  {
   "cell_type": "markdown",
   "metadata": {},
   "source": [
    "#### Hadoop Streaming Submission"
   ]
  },
  {
   "cell_type": "markdown",
   "metadata": {},
   "source": [
    "     hadoop jar hadoopstreamingjarfile \\\n",
    "          -D stream.num.map.output.key.fields=n \\\n",
    "          -mapper mapperfile \\\n",
    "          -reducer reducerfile \\\n",
    "          -input inputfile \\\n",
    "          -output outputfile"
   ]
  },
  {
   "cell_type": "markdown",
   "metadata": {},
   "source": [
    "Submit our MapReduce to Hadoop using Hadoop Streaming. Besides specifying the mapper, reducer, input file and output location, we also specify to use the KeyFieldBasedComparator and set the keycomparator options. This allows us to specify that the sorting will be done on the key field and to treat the key as a numeric value and to reverse sort (descending)."
   ]
  },
  {
   "cell_type": "code",
   "execution_count": 67,
   "metadata": {
    "collapsed": false
   },
   "outputs": [],
   "source": [
    "!hadoop jar /usr/local/Cellar/hadoop/2.7.1/libexec/share/hadoop/tools/lib/hadoop-streaming-2.7.1.jar \\\n",
    "    -D mapreduce.job.output.key.comparator.class=org.apache.hadoop.mapred.lib.KeyFieldBasedComparator \\\n",
    "    -D mapreduce.partition.keycomparator.options=-nr \\\n",
    "    -mapper mapper.py \\\n",
    "    -reducer reducer.py \\\n",
    "    -input records.txt \\\n",
    "    -output recordsOutput"
   ]
  },
  {
   "cell_type": "markdown",
   "metadata": {},
   "source": [
    "#### First 10 Items\n",
    "\n",
    "The sorted records output of the MapReduce is on the HDFS file system in a file called `part-00000`. Let's look at the top 10 lines in the file, which should be the highest numbered records."
   ]
  },
  {
   "cell_type": "code",
   "execution_count": 68,
   "metadata": {
    "collapsed": false
   },
   "outputs": [
    {
     "name": "stdout",
     "output_type": "stream",
     "text": [
      "9223149662631926773\tNA\r\n",
      "9222462994771806812\tNA\r\n",
      "9221376548595256568\tNA\r\n",
      "9221200099560410483\tNA\r\n",
      "9216651204641081164\tNA\r\n",
      "9216610805780812765\tNA\r\n",
      "9215182420885073012\tNA\r\n",
      "9214763879526561081\tNA\r\n",
      "9214470163579875161\tNA\r\n",
      "9212397989479861727\tNA\r\n",
      "cat: Unable to write to output stream.\r\n"
     ]
    }
   ],
   "source": [
    "!hdfs dfs -cat /user/rcordell/recordsOutput/part-00000 | head"
   ]
  },
  {
   "cell_type": "markdown",
   "metadata": {},
   "source": [
    "#### Last 10 Items\n",
    "\n",
    "Now let's look at the last 10 items in the file, which should be the lowest record ids."
   ]
  },
  {
   "cell_type": "code",
   "execution_count": 69,
   "metadata": {
    "collapsed": false
   },
   "outputs": [
    {
     "name": "stdout",
     "output_type": "stream",
     "text": [
      "9242791484899512\tNA\r\n",
      "8658217614831616\tNA\r\n",
      "7790490907682806\tNA\r\n",
      "7435515921714919\tNA\r\n",
      "4424418503692755\tNA\r\n",
      "4258466038084507\tNA\r\n",
      "3781763814522545\tNA\r\n",
      "3693207216031204\tNA\r\n",
      "2915017580505790\tNA\r\n",
      "1594448856056738\tNA\r\n"
     ]
    }
   ],
   "source": [
    "!hdfs dfs -cat /user/rcordell/recordsOutput/part-00000 | tail"
   ]
  },
  {
   "cell_type": "markdown",
   "metadata": {},
   "source": [
    "#### Clean up HDFS output"
   ]
  },
  {
   "cell_type": "code",
   "execution_count": 70,
   "metadata": {
    "collapsed": false
   },
   "outputs": [
    {
     "name": "stdout",
     "output_type": "stream",
     "text": [
      "Deleted /user/rcordell/recordsOutput\r\n"
     ]
    }
   ],
   "source": [
    "!hdfs dfs -rm -r /user/rcordell/recordsOutput"
   ]
  },
  {
   "cell_type": "code",
   "execution_count": 71,
   "metadata": {
    "collapsed": false
   },
   "outputs": [
    {
     "name": "stdout",
     "output_type": "stream",
     "text": [
      "Deleted /user/rcordell/records.txt\r\n"
     ]
    }
   ],
   "source": [
    "!hdfs dfs -rm /user/rcordell/records.txt"
   ]
  },
  {
   "cell_type": "markdown",
   "metadata": {},
   "source": [
    "#### Stop Yarn and HDFS"
   ]
  },
  {
   "cell_type": "code",
   "execution_count": null,
   "metadata": {
    "collapsed": false
   },
   "outputs": [],
   "source": [
    "!/usr/local/Cellar/hadoop/2.7.1/sbin/stop-yarn.sh\n",
    "!/usr/local/Cellar/hadoop/2.7.1/sbin/stop-dfs.sh"
   ]
  },
  {
   "cell_type": "markdown",
   "metadata": {},
   "source": [
    "## HW2.2.  WORDCOUNT\n",
    "\n",
    "#### Using the Enron data from HW1 and Hadoop MapReduce streaming, write the mapper/reducer job that  will determine the word count (number of occurrences) of each white-space delimitted token (assume spaces, fullstops, comma as delimiters). Examine the word “assistance” and report its word count results.\n",
    " \n",
    "CROSSCHECK: \n",
    "    >grep assistance enronemail_1h.txt|cut -d$'\\t' -f4| grep assistance|wc -l    \n",
    "     8    \n",
    "\n",
    "#### NOTE  \"assistance\" occurs on 8 lines but how many times does the token occur? 10 times! This is the number we are looking for!"
   ]
  },
  {
   "cell_type": "markdown",
   "metadata": {},
   "source": [
    "### HW2.2 - Map\n",
    "\n",
    "Read from STDIN where each line read consists of tab-delimeted fields:\n",
    "      \n",
    "      id <tab> label <tab> subject <tab> body\n",
    "\n",
    "For each word in the subject and body fields that matches the wordlist, emit a key,value pair of\n",
    "      \n",
    "      word, 1"
   ]
  },
  {
   "cell_type": "code",
   "execution_count": 23,
   "metadata": {
    "collapsed": false
   },
   "outputs": [
    {
     "name": "stdout",
     "output_type": "stream",
     "text": [
      "Overwriting mapper.py\n"
     ]
    }
   ],
   "source": [
    "%%writefile mapper.py\n",
    "#!/usr/bin/python\n",
    "## mapper.py\n",
    "## Author: Ron Cordell\n",
    "## Description: mapper code for HW2.2\n",
    "## Read lines from STDIN, separate into fields\n",
    "## Output a key, value => (word,count) for each word in the subject and body text\n",
    "\n",
    "import sys\n",
    "import re\n",
    "\n",
    "WORD_RE = re.compile(r\"[\\w']+\")\n",
    "\n",
    "# extract words to count from first positional argument, making them all lower case\n",
    "wordlist = []\n",
    "if len(sys.argv) > 1:\n",
    "    for word in sys.argv[1].strip().split():\n",
    "        wordlist.append(word.lower())\n",
    "\n",
    "## Lines in the file have 4 fields:\n",
    "## ID \\t SPAM \\t SUBJECT \\t CONTENT \\n\n",
    "for line in sys.stdin:\n",
    "    try:\n",
    "        # capture the id, label, subject and body\n",
    "        email_id, label, subject, body = line.split('\\t')\n",
    "    except ValueError:\n",
    "        # if there were only 3 fields in the input, assume field 3 is body\n",
    "        email_id, label, body = line.split('\\t')\n",
    "        subject = ''\n",
    " \n",
    "    # extract only words from the combined subject and body text\n",
    "    for word in WORD_RE.findall(subject + ' ' + body):\n",
    "        if len(wordlist) > 0:\n",
    "            if word.lower() in wordlist:\n",
    "                print('{0}\\t{1}'.format(word.lower(), 1))\n",
    "        else:\n",
    "            # otherwise count all words\n",
    "            print('{0}\\t{1}'.format(word.lower(), 1))"
   ]
  },
  {
   "cell_type": "code",
   "execution_count": 3,
   "metadata": {
    "collapsed": true
   },
   "outputs": [],
   "source": [
    "# Set the execution permissions of the Python script\n",
    "!chmod a+x mapper.py"
   ]
  },
  {
   "cell_type": "markdown",
   "metadata": {},
   "source": [
    "### HW 2.2 - Reduce\n",
    "\n",
    "Read lines from STDIN of\n",
    "\n",
    "      word, count\n",
    "      \n",
    "Accumulate the counts for each word and output the resulting word counts to STDOUT"
   ]
  },
  {
   "cell_type": "code",
   "execution_count": 4,
   "metadata": {
    "collapsed": false
   },
   "outputs": [
    {
     "name": "stdout",
     "output_type": "stream",
     "text": [
      "Overwriting reducer.py\n"
     ]
    }
   ],
   "source": [
    "%%writefile reducer.py\n",
    "#!/usr/bin/python\n",
    "## reducer.py\n",
    "## Author: Ron Cordell\n",
    "## Description: reducer code for HW2.2\n",
    "## given a list of key,value pairs for word, count, aggregate and output the list\n",
    "from operator import itemgetter\n",
    "import sys\n",
    "\n",
    "current_word = None\n",
    "current_count = 0\n",
    "word = None\n",
    "\n",
    "# input comes from STDIN\n",
    "for line in sys.stdin:\n",
    "    # remove leading and trailing whitespace\n",
    "    line = line.strip()\n",
    "\n",
    "    # parse the input we got from mapper.py\n",
    "    word, count = line.split('\\t', 1)\n",
    "\n",
    "    # convert count (currently a string) to int\n",
    "    try:\n",
    "        count = int(count)\n",
    "    except ValueError:\n",
    "        # count was not a number, so silently\n",
    "        # ignore/discard this line\n",
    "        continue\n",
    "\n",
    "    # this IF-switch only works because Hadoop sorts map output\n",
    "    # by key (here: word) before it is passed to the reducer\n",
    "    if current_word == word:\n",
    "        current_count += count\n",
    "    else:\n",
    "        if current_word:\n",
    "            # write result to STDOUT\n",
    "            print '%s\\t%s' % (current_word, current_count)\n",
    "        current_count = count\n",
    "        current_word = word\n",
    "\n",
    "# do not forget to output the last word if needed!\n",
    "if current_word == word:\n",
    "    print '%s\\t%s' % (current_word, current_count)"
   ]
  },
  {
   "cell_type": "code",
   "execution_count": 5,
   "metadata": {
    "collapsed": true
   },
   "outputs": [],
   "source": [
    "# Set the execution permissions of the Python script\n",
    "!chmod a+x reducer.py"
   ]
  },
  {
   "cell_type": "markdown",
   "metadata": {},
   "source": [
    "### HW2.2 - Test"
   ]
  },
  {
   "cell_type": "code",
   "execution_count": 24,
   "metadata": {
    "collapsed": false
   },
   "outputs": [
    {
     "name": "stdout",
     "output_type": "stream",
     "text": [
      "assistance\t10\r\n",
      "master\t3\r\n"
     ]
    }
   ],
   "source": [
    "!cat enronemail_1h.txt | ./mapper.py \"assistance master\" | sort -k1,1 | ./reducer.py"
   ]
  },
  {
   "cell_type": "markdown",
   "metadata": {},
   "source": [
    "### HW2.2 - Running in Hadoop\n",
    "\n",
    "#### Start YARN and HDFS"
   ]
  },
  {
   "cell_type": "code",
   "execution_count": null,
   "metadata": {
    "collapsed": false
   },
   "outputs": [],
   "source": [
    "!/usr/local/Cellar/hadoop/2.7.1/sbin/start-yarn.sh\n",
    "!/usr/local/Cellar/hadoop/2.7.1/sbin/start-dfs.sh"
   ]
  },
  {
   "cell_type": "markdown",
   "metadata": {},
   "source": [
    "#### Create HDFS Folder"
   ]
  },
  {
   "cell_type": "code",
   "execution_count": 5,
   "metadata": {
    "collapsed": false
   },
   "outputs": [],
   "source": [
    "!hdfs dfs -mkdir -p /user/rcordell"
   ]
  },
  {
   "cell_type": "markdown",
   "metadata": {},
   "source": [
    "#### Copy Enron email file to HDFS"
   ]
  },
  {
   "cell_type": "code",
   "execution_count": 12,
   "metadata": {
    "collapsed": false
   },
   "outputs": [
    {
     "name": "stdout",
     "output_type": "stream",
     "text": [
      "put: `/user/rcordell/enronemail_1h.txt': File exists\r\n"
     ]
    }
   ],
   "source": [
    "!hdfs dfs -put enronemail_1h.txt /user/rcordell"
   ]
  },
  {
   "cell_type": "markdown",
   "metadata": {},
   "source": [
    "#### Run Hadoop Job"
   ]
  },
  {
   "cell_type": "code",
   "execution_count": 13,
   "metadata": {
    "collapsed": false
   },
   "outputs": [],
   "source": [
    "!hadoop jar /usr/local/Cellar/hadoop/2.7.1/libexec/share/hadoop/tools/lib/hadoop-streaming-2.7.1.jar \\\n",
    "    -D mapreduce.job.output.key.comparator.class=org.apache.hadoop.mapred.lib.KeyFieldBasedComparator \\\n",
    "    -D mapreduce.partition.keycomparator.options=-nr \\\n",
    "    -mapper \"mapper.py 'assistance'\" \\\n",
    "    -reducer reducer.py \\\n",
    "    -input enronemail_1h.txt \\\n",
    "    -output countsOutput"
   ]
  },
  {
   "cell_type": "markdown",
   "metadata": {},
   "source": [
    "#### Examine output for 'assistance'\n",
    "\n",
    "The output indicates the 10 occurances of the word assistance"
   ]
  },
  {
   "cell_type": "code",
   "execution_count": 14,
   "metadata": {
    "collapsed": false
   },
   "outputs": [
    {
     "name": "stdout",
     "output_type": "stream",
     "text": [
      "assistance\t10\r\n"
     ]
    }
   ],
   "source": [
    "!hdfs dfs -cat /user/rcordell/countsOutput/part-00000"
   ]
  },
  {
   "cell_type": "markdown",
   "metadata": {},
   "source": [
    "### Clean up HDFS"
   ]
  },
  {
   "cell_type": "code",
   "execution_count": 15,
   "metadata": {
    "collapsed": false
   },
   "outputs": [
    {
     "name": "stdout",
     "output_type": "stream",
     "text": [
      "Deleted /user/rcordell/countsOutput\r\n"
     ]
    }
   ],
   "source": [
    "!hdfs dfs -rm -r /user/rcordell/countsOutput"
   ]
  },
  {
   "cell_type": "markdown",
   "metadata": {},
   "source": [
    "### Stop YARN and HDFS"
   ]
  },
  {
   "cell_type": "code",
   "execution_count": null,
   "metadata": {
    "collapsed": false,
    "scrolled": true
   },
   "outputs": [],
   "source": [
    "!/usr/local/Cellar/hadoop/2.7.1/sbin/stop-yarn.sh\n",
    "!/usr/local/Cellar/hadoop/2.7.1/sbin/stop-dfs.sh"
   ]
  },
  {
   "cell_type": "markdown",
   "metadata": {},
   "source": [
    "## HW2.2.1  \n",
    "\n",
    "Using Hadoop MapReduce and your wordcount job (from HW2.2) determine the top-10 occurring tokens (most frequent tokens)"
   ]
  },
  {
   "cell_type": "markdown",
   "metadata": {},
   "source": [
    "### Map\n",
    "\n",
    "There is no need to make a change to the mapper, so we'll use the same mapper from HW2.2"
   ]
  },
  {
   "cell_type": "markdown",
   "metadata": {},
   "source": [
    "### Reduce\n",
    "\n",
    "The reducer is modified so that it sorts the resulting word accumulation and outputs the top 10 counts"
   ]
  },
  {
   "cell_type": "code",
   "execution_count": 25,
   "metadata": {
    "collapsed": false
   },
   "outputs": [
    {
     "name": "stdout",
     "output_type": "stream",
     "text": [
      "Overwriting reducer.py\n"
     ]
    }
   ],
   "source": [
    "%%writefile reducer.py\n",
    "#!/usr/bin/python\n",
    "## reducer.py\n",
    "## Author: Ron Cordell\n",
    "## Description: reducer code for HW2.2\n",
    "## given a list of key,value pairs for word, count, aggregate and output the list\n",
    "from operator import itemgetter\n",
    "import sys\n",
    "\n",
    "current_word = None\n",
    "current_count = 0\n",
    "word = None\n",
    "all_words = []\n",
    "\n",
    "# input comes from STDIN\n",
    "for line in sys.stdin:\n",
    "    # remove leading and trailing whitespace\n",
    "    line = line.strip()\n",
    "\n",
    "    # parse the input we got from mapper.py\n",
    "    word, count = line.split('\\t', 1)\n",
    "\n",
    "    # convert count (currently a string) to int\n",
    "    try:\n",
    "        count = int(count)\n",
    "    except ValueError:\n",
    "        # count was not a number, so silently\n",
    "        # ignore/discard this line\n",
    "        continue\n",
    "\n",
    "    # this IF-switch only works because Hadoop sorts map output\n",
    "    # by key (here: word) before it is passed to the reducer\n",
    "    if current_word == word:\n",
    "        current_count += count\n",
    "    else:\n",
    "        if current_word:\n",
    "            # append result to list\n",
    "            all_words.append((current_word, current_count))\n",
    "        current_count = count\n",
    "        current_word = word\n",
    "\n",
    "# do not forget to output the last word if needed!\n",
    "if current_word == word:\n",
    "    all_words.append((current_word, current_count))\n",
    "    \n",
    "# sort the list by value\n",
    "sorted_words = sorted(all_words, key=lambda pair: pair[1], reverse=True)\n",
    "\n",
    "# write out the top 10\n",
    "for i,word in enumerate(sorted_words):\n",
    "    print '{0}\\t{1}'.format(word[0],word[1])\n",
    "    if i >= 10:\n",
    "        break"
   ]
  },
  {
   "cell_type": "code",
   "execution_count": 26,
   "metadata": {
    "collapsed": true
   },
   "outputs": [],
   "source": [
    "# Set the execution permissions of the Python script\n",
    "!chmod a+x reducer.py"
   ]
  },
  {
   "cell_type": "markdown",
   "metadata": {},
   "source": [
    "### Test"
   ]
  },
  {
   "cell_type": "code",
   "execution_count": 27,
   "metadata": {
    "collapsed": false
   },
   "outputs": [
    {
     "name": "stdout",
     "output_type": "stream",
     "text": [
      "the\t1247\r\n",
      "to\t963\r\n",
      "and\t668\r\n",
      "of\t566\r\n",
      "a\t542\r\n",
      "you\t432\r\n",
      "in\t417\r\n",
      "your\t394\r\n",
      "ect\t382\r\n",
      "for\t373\r\n",
      "on\t271\r\n"
     ]
    }
   ],
   "source": [
    "!cat enronemail_1h.txt | ./mapper.py | sort -k1,1 | ./reducer.py"
   ]
  },
  {
   "cell_type": "markdown",
   "metadata": {},
   "source": [
    "## HW 2.2.1 - Running in Hadoop\n",
    "\n",
    "#### Start YARN and HDFS"
   ]
  },
  {
   "cell_type": "code",
   "execution_count": null,
   "metadata": {
    "collapsed": false,
    "scrolled": true
   },
   "outputs": [],
   "source": [
    "!/usr/local/Cellar/hadoop/2.7.1/sbin/start-yarn.sh\n",
    "!/usr/local/Cellar/hadoop/2.7.1/sbin/start-dfs.sh"
   ]
  },
  {
   "cell_type": "markdown",
   "metadata": {},
   "source": [
    "#### Create HDFS Folder"
   ]
  },
  {
   "cell_type": "code",
   "execution_count": 28,
   "metadata": {
    "collapsed": false
   },
   "outputs": [],
   "source": [
    "!hdfs dfs -mkdir -p /user/rcordell"
   ]
  },
  {
   "cell_type": "markdown",
   "metadata": {},
   "source": [
    "#### Copy Enron email file to HDFS"
   ]
  },
  {
   "cell_type": "code",
   "execution_count": 29,
   "metadata": {
    "collapsed": false
   },
   "outputs": [
    {
     "name": "stdout",
     "output_type": "stream",
     "text": [
      "put: `/user/rcordell/enronemail_1h.txt': File exists\r\n"
     ]
    }
   ],
   "source": [
    "!hdfs dfs -put enronemail_1h.txt /user/rcordell"
   ]
  },
  {
   "cell_type": "markdown",
   "metadata": {},
   "source": [
    "#### Run Hadoop Job"
   ]
  },
  {
   "cell_type": "code",
   "execution_count": 30,
   "metadata": {
    "collapsed": false
   },
   "outputs": [],
   "source": [
    "!hadoop jar /usr/local/Cellar/hadoop/2.7.1/libexec/share/hadoop/tools/lib/hadoop-streaming-2.7.1.jar \\\n",
    "-mapper mapper.py \\\n",
    "-reducer reducer.py \\\n",
    "-input enronemail_1h.txt \\\n",
    "-output countsOutput"
   ]
  },
  {
   "cell_type": "markdown",
   "metadata": {},
   "source": [
    "#### Top 10 Word Counts\n",
    "\n",
    "The output agrees with our tests but it is apparent that it is mostly what one would consider \"stop words\". I also see 'ect' in the list which is interesting because it ranks so high. Looking at the source text it appears that 'ect' refers to a person who is referenced quite often in the Enron email samples."
   ]
  },
  {
   "cell_type": "code",
   "execution_count": 31,
   "metadata": {
    "collapsed": false
   },
   "outputs": [
    {
     "name": "stdout",
     "output_type": "stream",
     "text": [
      "the\t1247\r\n",
      "to\t963\r\n",
      "and\t668\r\n",
      "of\t566\r\n",
      "a\t542\r\n",
      "you\t432\r\n",
      "in\t417\r\n",
      "your\t394\r\n",
      "ect\t382\r\n",
      "for\t373\r\n",
      "on\t271\r\n"
     ]
    }
   ],
   "source": [
    "!hdfs dfs -cat /user/rcordell/countsOutput/part-00000"
   ]
  },
  {
   "cell_type": "markdown",
   "metadata": {},
   "source": [
    "#### Clean up HDFS"
   ]
  },
  {
   "cell_type": "code",
   "execution_count": 32,
   "metadata": {
    "collapsed": false
   },
   "outputs": [
    {
     "name": "stdout",
     "output_type": "stream",
     "text": [
      "Deleted /user/rcordell/countsOutput\r\n"
     ]
    }
   ],
   "source": [
    "!hdfs dfs -rm -r /user/rcordell/countsOutput"
   ]
  },
  {
   "cell_type": "markdown",
   "metadata": {},
   "source": [
    "### Stop YARN and HDFS"
   ]
  },
  {
   "cell_type": "code",
   "execution_count": null,
   "metadata": {
    "collapsed": false
   },
   "outputs": [],
   "source": [
    "!/usr/local/Cellar/hadoop/2.7.1/sbin/stop-yarn.sh\n",
    "!/usr/local/Cellar/hadoop/2.7.1/sbin/stop-dfs.sh"
   ]
  },
  {
   "cell_type": "markdown",
   "metadata": {},
   "source": [
    "## HW2.3. Multinomial NAIVE BAYES with NO Smoothing\n",
    "\n",
    "Using the Enron data from HW1 and Hadoop MapReduce, write  a mapper/reducer job(s) that\n",
    "   will both learn  Naive Bayes classifier and classify the Enron email messages using the learnt Naive Bayes classifier. Use all white-space delimitted tokens as independent input variables (assume spaces, fullstops, commas as delimiters). Note: for multinomial Naive Bayes, the Pr(X=“assistance”|Y=SPAM) is calculated as follows:\n",
    "\n",
    "   the number of times “assistance” occurs in SPAM labeled documents / the number of words in documents labeled SPAM \n",
    "\n",
    "   E.g.,   “assistance” occurs 5 times in all of the documents Labeled SPAM, and the length in terms of the number of words in all documents labeled as SPAM (when concatenated) is 1,000. Then Pr(X=“assistance”|Y=SPAM) = 5/1000. Note this is a multinomial estimation of the class conditional for a Naive Bayes Classifier. No smoothing is needed in this HW. Multiplying lots of probabilities, which are between 0 and 1, can result in floating-point underflow. Since log(xy) = log(x) + log(y), it is better to perform all computations by summing logs of probabilities rather than multiplying probabilities. Please pay attention to probabilites that are zero! They will need special attention. Count up how many times you need to process a zero probabilty for each class and report. \n",
    "\n",
    "   Report the performance of your learnt classifier in terms of misclassifcation error rate of your multinomial Naive Bayes Classifier. Plot a histogram of the log posterior probabilities (i.e., log(Pr(Class|Doc))) for each class over the training set. Summarize what you see. \n",
    "\n",
    "   Error Rate = misclassification rate with respect to a provided set (say training set in this case). It is more formally defined here:\n",
    "\n",
    "Let DF represent the evalution set in the following:\n",
    "Err(Model, DF) = |{(X, c(X)) ∈ DF : c(X) != Model(x)}|   / |DF|\n",
    "\n",
    "Where || denotes set cardinality; c(X) denotes the class of the tuple X in DF; and Model(X) denotes the class inferred by the Model “Model”\n",
    "\n",
    "\n",
    "\n"
   ]
  },
  {
   "cell_type": "markdown",
   "metadata": {},
   "source": [
    "### HW 2.3 - Map Stage 1 - Term Mapper"
   ]
  },
  {
   "cell_type": "code",
   "execution_count": 374,
   "metadata": {
    "collapsed": false
   },
   "outputs": [
    {
     "name": "stdout",
     "output_type": "stream",
     "text": [
      "Overwriting term_mapper.py\n"
     ]
    }
   ],
   "source": [
    "%%writefile term_mapper.py\n",
    "#!/usr/bin/python\n",
    "## mapper.py\n",
    "## Author: Ron Cordell\n",
    "## Description: mapper code for HW2.3\n",
    "## Given input on STDIN read lines and count occurrences of words\n",
    "## Output a key, value => (token, email id, class, term_flag) = count\n",
    "\n",
    "import sys\n",
    "import re\n",
    "\n",
    "## Lines in the file have 4 fields:\n",
    "## ID \\t SPAM \\t SUBJECT \\t CONTENT \\n\n",
    "WORD_RE = re.compile(r\"[\\w']+\")\n",
    "\n",
    "all_words = False\n",
    "## Words in the word list are space delimited\n",
    "## If no words specified, use all tokens as vocabulary terms\n",
    "if len(sys.argv) > 1:\n",
    "    wordlist = sys.argv[1].lower().split(' ')\n",
    "else:\n",
    "    all_words = True\n",
    "\n",
    "# read each email as a line from stdin\n",
    "for line in sys.stdin:\n",
    "    try:\n",
    "        # Split the line into the 4 fields\n",
    "        email_id, label, subject, body = line.split('\\t')\n",
    "    except ValueError:\n",
    "        # If there are 3 fields the assume the 3rd field is the body\n",
    "        email_id, label, body = line.split('\\t')\n",
    "        subject = ''\n",
    "    \n",
    "    # extract only words from the combined subject and body text\n",
    "    for token in WORD_RE.findall(subject + ' ' + body):\n",
    "        # term indicates that this is a vocabulary word \n",
    "        # when not all words are considered this lets downstream processors know which are which\n",
    "        term = '0'\n",
    "        if all_words:\n",
    "            term = '1'\n",
    "        elif token.lower() in wordlist:\n",
    "            term = '1'\n",
    "            \n",
    "        # emit on each word a key, value pair of [(word, id, label, term),1]\n",
    "        # so that the sort function operates on the words as keys\n",
    "        print('{0}\\t{1}\\t{2}\\t{3}\\t{4}'.format(token, email_id, label, term, 1))"
   ]
  },
  {
   "cell_type": "code",
   "execution_count": 34,
   "metadata": {
    "collapsed": true
   },
   "outputs": [],
   "source": [
    "# Set the execution permissions of the Python script\n",
    "!chmod a+x term_mapper.py"
   ]
  },
  {
   "cell_type": "markdown",
   "metadata": {},
   "source": [
    "### HW2.3 - Reduce Stage 1 - Term Probabilities and Calculating the Naive Bayes model\n",
    "\n",
    "The reducer calculates the naive bayes model from the training data mapped by the mapper. \n",
    "Each unique term is added to the model and the statistics updated when subsequent instances of the term are encountered. The model is a dictionary with the term as the key and the class counts and probabilities. When all input is processed, the model is persisted for use."
   ]
  },
  {
   "cell_type": "code",
   "execution_count": 375,
   "metadata": {
    "collapsed": false
   },
   "outputs": [
    {
     "name": "stdout",
     "output_type": "stream",
     "text": [
      "Overwriting probability_reducer.py\n"
     ]
    }
   ],
   "source": [
    "%%writefile probability_reducer.py\n",
    "#!/usr/bin/python\n",
    "## reducer.py\n",
    "## Author: Ron Cordell\n",
    "## Description: reducer code for HW1.4\n",
    "## given a list of intermediate word count files, compute NB classification\n",
    "import sys\n",
    "\n",
    "term_counts = {}\n",
    "spam_doc_ids = []\n",
    "ham_doc_ids = []\n",
    "spam_doc_word_count = 0.0\n",
    "ham_doc_word_count = 0.0\n",
    "spam_term_count = 0.0\n",
    "ham_term_count = 0.0\n",
    "terms = 0.0\n",
    "current_key = None\n",
    "current_count = 0\n",
    "\n",
    "# STDIN consists of single lines of: token <tab> id <tab> class <tab> term_flag <tab> count\n",
    "# Assume that the proper parameters have been set such that Hadoop knows to treat the first 4 fields\n",
    "# as the key so that they are properly sorted when they reach the reducer\n",
    "# See http://blog.cloudera.com/blog/2013/01/a-guide-to-python-frameworks-for-hadoop/ for an example\n",
    "\n",
    "# perform the accumulation functions for each key, value received\n",
    "def accumulate_key(key , _count, spam_doc_word_count, ham_doc_word_count, term_counts):\n",
    "    # accumulate the key, values in a dictionary\n",
    "    _token = key[0]\n",
    "    _id = key[1]\n",
    "    _label = key[2]\n",
    "    _term = key[3]\n",
    "\n",
    "    # accumulate into ham and spam dictionaries also\n",
    "    if _label == '1':\n",
    "        spam_doc_word_count += _count\n",
    "        if _id not in spam_doc_ids:\n",
    "            spam_doc_ids.append(_id)\n",
    "        if _term == '1':\n",
    "            if _token in term_counts:\n",
    "                term_counts[_token]['spam_count'] += _count\n",
    "            else:\n",
    "                term_counts[_token] = {'spam_count' : _count,\n",
    "                                     'ham_count' : 0.0,\n",
    "                                      'prob_ham'  : 0.0,\n",
    "                                      'prob_spam' : 0.0} \n",
    "    else:                \n",
    "        ham_doc_word_count += _count\n",
    "        if _id not in ham_doc_ids:\n",
    "            ham_doc_ids.append(_id)\n",
    "        if _term == '1':\n",
    "            if _token in term_counts:\n",
    "                term_counts[_token]['ham_count'] += _count\n",
    "            else:\n",
    "                term_counts[_token] = {'ham_count' : _count,\n",
    "                                      'spam_count' : 0.0,\n",
    "                                      'prob_ham'  : 0.0,\n",
    "                                      'prob_spam' : 0.0}\n",
    "    return spam_doc_word_count, ham_doc_word_count\n",
    "\n",
    "# process the STDIN stream\n",
    "for line in sys.stdin:\n",
    "    # split the line into the key components and the value\n",
    "    token, email_id, label, term, token_count = line.split('\\t')\n",
    "\n",
    "    # this makes reading the code a little easier\n",
    "    if term == '0':\n",
    "        vocab_word = False\n",
    "    else:\n",
    "        vocab_word = True\n",
    "\n",
    "    # if we've been accumulating for this key, keep accumulating\n",
    "    # this works because the input is sorted on the key\n",
    "    if current_key == (token, email_id, label, term):\n",
    "        current_count += int(token_count)\n",
    "    else:\n",
    "        # we've just received a different key from what we've been accumulating\n",
    "        # wrap up with the current key\n",
    "        if current_key:\n",
    "            spam_doc_word_count, ham_doc_word_count = accumulate_key(current_key, \n",
    "                                                                     float(current_count), \n",
    "                                                                     spam_doc_word_count, \n",
    "                                                                     ham_doc_word_count, \n",
    "                                                                     term_counts)\n",
    "        # start a new accumulation    \n",
    "        current_count = int(token_count)\n",
    "        current_key = (token, email_id, label, term)\n",
    "\n",
    "# add the last key we've been accumulating\n",
    "if current_key == (token, email_id, label, term):\n",
    "    spam_doc_word_count, ham_doc_word_count = accumulate_key(current_key, \n",
    "                                                             float(current_count), \n",
    "                                                             spam_doc_word_count, \n",
    "                                                             ham_doc_word_count, \n",
    "                                                             term_counts)      \n",
    "                       \n",
    "# now we should have consolidated the intermediate counts and we can compute the rest\n",
    "\n",
    "# count the number of terms\n",
    "term_count = len(term_counts.keys()) * 1.0\n",
    "# compute the prior\n",
    "prior = (len(spam_doc_ids)*1.0)/(1.0*(len(spam_doc_ids) + len(ham_doc_ids)))\n",
    "\n",
    "# calculate the P(term|class) for each term\n",
    "# do not use smoothing here\n",
    "for term in term_counts:\n",
    "    term_counts[term]['prob_ham'] = (term_counts[term]['ham_count'])/(ham_doc_word_count + term_count)\n",
    "    term_counts[term]['prob_spam'] = (term_counts[term]['spam_count'])/(spam_doc_word_count + term_count)\n",
    "    \n",
    "    # output term <tab> probability_ham <tab> ham_count <tab> probability_spam <tab> spam_count <tab> prior\n",
    "    print '{0}\\t{1}\\t{2}\\t{3}\\t{4}\\t{5}'.format(term, term_counts[term]['prob_ham'], \n",
    "                                           term_counts[term]['ham_count'],\n",
    "                                           term_counts[term]['prob_spam'], \n",
    "                                           term_counts[term]['spam_count'], \n",
    "                                           prior)"
   ]
  },
  {
   "cell_type": "code",
   "execution_count": 39,
   "metadata": {
    "collapsed": true
   },
   "outputs": [],
   "source": [
    "# Set the execution permissions of the Python script\n",
    "!chmod a+x probability_reducer.py"
   ]
  },
  {
   "cell_type": "markdown",
   "metadata": {},
   "source": [
    "### HW2.3 - Test Stage 1 Map Reduce"
   ]
  },
  {
   "cell_type": "code",
   "execution_count": 240,
   "metadata": {
    "collapsed": false
   },
   "outputs": [],
   "source": [
    "!cat enronemail_1h.txt | ./term_mapper.py | sort -r -k1,1 | ./probability_reducer.py > term_probabilities.txt"
   ]
  },
  {
   "cell_type": "markdown",
   "metadata": {},
   "source": [
    "### HW2.3 - Map Stage 2 - Email Classifier\n",
    "\n",
    "Load in the Naive Bayes model which consists of each term, their relative counts and probabilities for each class.\n",
    "Read the stdin stream where each line is an email with email_id, label, subject and body\n",
    "Classify each email based on the log probabilities of each term\n",
    "Omit terms from the calculation that don't have both - note: this can be made easier than I implemented it.\n",
    "For each email, emit the id, label, class and log probabilities\n",
    "At the end, emit the tallied zero probability counts for each class"
   ]
  },
  {
   "cell_type": "code",
   "execution_count": 384,
   "metadata": {
    "collapsed": false
   },
   "outputs": [
    {
     "name": "stdout",
     "output_type": "stream",
     "text": [
      "Overwriting email_mapper.py\n"
     ]
    }
   ],
   "source": [
    "%%writefile email_mapper.py\n",
    "#!/usr/bin/python\n",
    "## mapper.py\n",
    "## Author: Ron Cordell\n",
    "## Description: mapper code for HW2.3\n",
    "## Given input on STDIN read lines and count occurrences of words\n",
    "## Output a key, value => (token, email id, class, term_flag) = count\n",
    "\n",
    "from math import log, exp\n",
    "import sys\n",
    "import re\n",
    "\n",
    "prior = 0.0\n",
    "zero_prob_ham = 0\n",
    "zero_prob_spam = 0\n",
    "terms = {}\n",
    "# open the file with the term probabilities (model) and load into the terms dictionary\n",
    "# each line in the file is \n",
    "#   term <tab> ham_probability <tab> ham_count <tab> spam_prob <tab> spam_count <tab> prior\n",
    "\n",
    "# all values are floats\n",
    "\n",
    "with open('term_probabilities.txt','r') as termfile:\n",
    "    for line in termfile.readlines():\n",
    "        term, ham_prob, ham_count, spam_prob, spam_count, _prior = line.strip().split('\\t')\n",
    "        terms[term.strip()] = {'ham_prob'  : float(ham_prob),  'ham_count'  : float(ham_count),\n",
    "                       'spam_prob' : float(spam_prob), 'spam_count' : float(spam_count)}\n",
    "        prior = float(_prior)\n",
    "\n",
    "## Lines in the file have 4 fields:\n",
    "## ID \\t SPAM \\t SUBJECT \\t CONTENT \\n\n",
    "WORD_RE = re.compile(r\"[\\w']+\")\n",
    "\n",
    "# read each line from stdin, one email per line\n",
    "for line in sys.stdin:\n",
    "    log_prob_ham = log(1.0 - prior)\n",
    "    log_prob_spam = log(prior)\n",
    "\n",
    "    try:\n",
    "        email_id, label, subject, body = line.split('\\t')\n",
    "    except ValueError:\n",
    "        email_id, label, body = line.split('\\t')\n",
    "        subject = ''\n",
    "\n",
    "    pred_label = None\n",
    "        \n",
    "    # extract only words from the combined subject and body text\n",
    "    text = WORD_RE.findall(subject + ' ' + body)\n",
    "    for token in text:\n",
    "        t = token.strip().lower()\n",
    "        if t in terms:\n",
    "            # if we have a zero probability for either class conditional then add a minute value\n",
    "            # to offset the effects\n",
    "            if terms[t]['spam_prob'] > 0.0:\n",
    "                log_prob_spam += log(terms[t]['spam_prob'])\n",
    "                \n",
    "                # if the term only occurs in spam, then mark this as spam and move on.\n",
    "                if terms[t]['ham_prob'] <= 0.0:\n",
    "                    pred_label = '1'\n",
    "                    zero_prob_ham += 1\n",
    "            if terms[t]['ham_prob'] > 0.0: \n",
    "                log_prob_ham += log(terms[t]['ham_prob'])\n",
    "                \n",
    "                # if we've only ever seen this term in ham, then mark as such and move on.\n",
    "                if terms[t]['spam_prob'] <= 0.0:\n",
    "                    pred_label = '0'\n",
    "                    zero_prob_spam += 1\n",
    "\n",
    "                    \n",
    "    # if we didn't encounter a term that's not in one class then calculate the class\n",
    "    if not pred_label:\n",
    "        # We have what we need to classify the email\n",
    "        # emit the classification\n",
    "        if log_prob_spam > log_prob_ham:\n",
    "            pred_label = '1'\n",
    "        else:\n",
    "            pred_label = '0'\n",
    "            \n",
    "    # for each email emit the id <tab> label <tab> prediction <tag> log_prob_ham <tab> log_prob_spam\n",
    "    print '{0}\\t{1}\\t{2}\\t{3}\\t{4}'.format(email_id, label, pred_label, log_prob_ham, log_prob_spam)\n",
    "    \n",
    "# after all emails have been processed emit :<tab> zero ham probability count <tab> zero spam probability count\n",
    "# the ':' lets the reducer know to treat it differently from the email classification\n",
    "# pad out the end to keep the number of fields consistent\n",
    "print ':\\t{0}\\t{1}\\t{2}\\t{3}'.format(zero_prob_ham, zero_prob_spam, ' ', ' ')"
   ]
  },
  {
   "cell_type": "code",
   "execution_count": 87,
   "metadata": {
    "collapsed": true
   },
   "outputs": [],
   "source": [
    "# Set the execution permissions of the Python script\n",
    "!chmod a+x email_mapper.py"
   ]
  },
  {
   "cell_type": "markdown",
   "metadata": {},
   "source": [
    "### HW2.3 - Reduce Stage 2 - Email Classifier\n",
    "\n",
    "Read each line from stdin which can be either an email classification or a zero probability tally.\n",
    "Output the email classification and tally the error rate\n",
    "Output the totaled zero probability counts for each class"
   ]
  },
  {
   "cell_type": "code",
   "execution_count": 377,
   "metadata": {
    "collapsed": false
   },
   "outputs": [
    {
     "name": "stdout",
     "output_type": "stream",
     "text": [
      "Overwriting classifier_reducer.py\n"
     ]
    }
   ],
   "source": [
    "%%writefile classifier_reducer.py\n",
    "#!/usr/bin/python\n",
    "## reducer.py\n",
    "## Author: Ron Cordell\n",
    "## Description: reducer code for HW1.4\n",
    "## given a list of intermediate word count files, compute NB classification\n",
    "import sys\n",
    "from math import log,exp\n",
    "\n",
    "zero_prob_ham = 0\n",
    "zero_prob_spam = 0\n",
    "\n",
    "right = 0\n",
    "wrong = 0\n",
    "\n",
    "# STDIN consists of lines of one of two kinds - one that starts with ':' and one that doesn't\n",
    "# For the line that starts with a colon, accumulate the zero probability counts it has\n",
    "# Otherwise the line is the email id, label, class, log probability ham, log probability spam\n",
    "\n",
    "# Assume that the proper parameters have been set such that Hadoop knows to treat the first 4 fields\n",
    "# as the key so that they are properly sorted when they reach the reducer\n",
    "# See http://blog.cloudera.com/blog/2013/01/a-guide-to-python-frameworks-for-hadoop/ for an example\n",
    "\n",
    "# process the STDIN stream\n",
    "for line in sys.stdin:\n",
    "    fields = line.strip().split('\\t')\n",
    "    \n",
    "    # if this isn't a zero probability count \n",
    "    if fields[0] != ':':\n",
    "        # output the email id, label, prediction\n",
    "        print '{0}\\t{1}\\t{2}\\t{3}\\t{4}'.format(fields[0], fields[1], fields[2], fields[3], fields[4])\n",
    "        \n",
    "        # tally the error rate\n",
    "        if fields[1].strip() != fields[2].strip():\n",
    "            wrong += 1\n",
    "        else:\n",
    "            right += 1\n",
    "    else:\n",
    "        # this is actually the zero probability counters so tally them\n",
    "        zero_prob_ham += int(fields[1])\n",
    "        zero_prob_spam += int(fields[2])\n",
    "    \n",
    "print 'Error Rate: {0}/{1}'.format(wrong, right + wrong)\n",
    "print 'Zero Probabilities: Spam {0} \\tHam {1}'.format(zero_prob_spam, zero_prob_ham)"
   ]
  },
  {
   "cell_type": "code",
   "execution_count": 50,
   "metadata": {
    "collapsed": true
   },
   "outputs": [],
   "source": [
    "# Set the execution permissions of the Python script\n",
    "!chmod a+x classifier_reducer.py"
   ]
  },
  {
   "cell_type": "markdown",
   "metadata": {},
   "source": [
    "### Test\n",
    "\n",
    "Test with a small set of 10 lines of data"
   ]
  },
  {
   "cell_type": "code",
   "execution_count": 385,
   "metadata": {
    "collapsed": false,
    "scrolled": false
   },
   "outputs": [
    {
     "name": "stdout",
     "output_type": "stream",
     "text": [
      "cat: stdout: Broken pipe\n",
      "0001.1999-12-10.farmer\t0\t0\t-47.0290005534\t-19.0617153626\n",
      "0001.1999-12-10.kaminski\t0\t0\t-30.7856476462\t-21.9636085124\n",
      "0001.2000-01-17.beck\t0\t0\t-3809.99682474\t-2361.1052968\n",
      "0001.2000-06-06.lokay\t0\t0\t-3830.76627631\t-2691.51240111\n",
      "0001.2001-02-07.kitchen\t0\t0\t-352.34209308\t-250.837517623\n",
      "0001.2001-04-02.williams\t0\t0\t-1428.65508644\t-1083.39627997\n",
      "0002.1999-12-13.farmer\t0\t0\t-3046.27089855\t-2131.56357157\n",
      "0002.2001-02-07.kitchen\t0\t0\t-466.724353395\t-329.187502814\n",
      "0002.2001-05-25.SA_and_HP\t1\t1\t-410.383521205\t-628.537594546\n",
      "0002.2003-12-18.GP\t1\t1\t-643.167996685\t-1339.23830337\n",
      "Error Rate: 0/10\n",
      "Zero Probabilities: Spam 556 \tHam 107\n"
     ]
    }
   ],
   "source": [
    "!cat enronemail_1h.txt | head | ./email_mapper.py | sort -k1,1 | ./classifier_reducer.py"
   ]
  },
  {
   "cell_type": "markdown",
   "metadata": {},
   "source": [
    "## HW 2.3 - Processing With Hadoop"
   ]
  },
  {
   "cell_type": "markdown",
   "metadata": {},
   "source": [
    "#### Start YARN and HDFS"
   ]
  },
  {
   "cell_type": "code",
   "execution_count": null,
   "metadata": {
    "collapsed": false,
    "scrolled": true
   },
   "outputs": [],
   "source": [
    "!/usr/local/Cellar/hadoop/2.7.1/sbin/start-yarn.sh\n",
    "!/usr/local/Cellar/hadoop/2.7.1/sbin/start-dfs.sh"
   ]
  },
  {
   "cell_type": "markdown",
   "metadata": {},
   "source": [
    "#### Create HDFS folders and copy files"
   ]
  },
  {
   "cell_type": "code",
   "execution_count": 66,
   "metadata": {
    "collapsed": false
   },
   "outputs": [
    {
     "name": "stdout",
     "output_type": "stream",
     "text": [
      "put: `/user/rcordell/enronemail_1h.txt': File exists\r\n"
     ]
    }
   ],
   "source": [
    "!hdfs dfs -mkdir -p /user/rcordell\n",
    "!hdfs dfs -put enronemail_1h.txt /user/rcordell"
   ]
  },
  {
   "cell_type": "markdown",
   "metadata": {},
   "source": [
    "#### Clean up HDFS\n",
    "\n",
    "Remove files for repested runs"
   ]
  },
  {
   "cell_type": "code",
   "execution_count": 386,
   "metadata": {
    "collapsed": false
   },
   "outputs": [
    {
     "name": "stdout",
     "output_type": "stream",
     "text": [
      "Deleted /user/rcordell/model\n",
      "Deleted /user/rcordell/classifier\n"
     ]
    }
   ],
   "source": [
    "!hdfs dfs -rm -r /user/rcordell/model\n",
    "!hdfs dfs -rm -r /user/rcordell/classifier"
   ]
  },
  {
   "cell_type": "markdown",
   "metadata": {},
   "source": [
    "#### Hadoop MR Stage 1 - Calculate the model\n",
    "\n",
    "The Hadoop streaming input has two more parameters:\n",
    "\n",
    "- jobconf stream.num.map.output.key.fields=4\n",
    "- jobconf stream.num.reduce.output.key.fields=3\n",
    "\n",
    "These are used to tell Hadoop which values in the tab-delimited key,value pairs make up the key. Otherwise Hadoop only uses the first field. This will give use more complete sorting control."
   ]
  },
  {
   "cell_type": "code",
   "execution_count": 387,
   "metadata": {
    "collapsed": false
   },
   "outputs": [],
   "source": [
    "!hadoop jar /usr/local/Cellar/hadoop/2.7.1/libexec/share/hadoop/tools/lib/hadoop-streaming-2.7.1.jar \\\n",
    "    -mapper term_mapper.py \\\n",
    "    -reducer probability_reducer.py \\\n",
    "    -input enronemail_1h.txt \\\n",
    "    -output model \\\n",
    "    -jobconf stream.num.map.output.key.fields=4 \\\n",
    "    -jobconf stream.num.reduce.output.key.fields=4"
   ]
  },
  {
   "cell_type": "markdown",
   "metadata": {},
   "source": [
    "#### Copy model file to local file system from HDFS"
   ]
  },
  {
   "cell_type": "code",
   "execution_count": 388,
   "metadata": {
    "collapsed": false
   },
   "outputs": [],
   "source": [
    "!rm -f term_probabilities.txt\n",
    "!hdfs dfs -get /user/rcordell/model/part-00000 term_probabilities.txt"
   ]
  },
  {
   "cell_type": "markdown",
   "metadata": {},
   "source": [
    "#### Execute Hadoop Stage 2 MapReduce\n",
    "\n",
    "Here we only want Hadoop to sort on the first field so we don't change the default behavior as we did in Stage 1."
   ]
  },
  {
   "cell_type": "code",
   "execution_count": 389,
   "metadata": {
    "collapsed": false
   },
   "outputs": [
    {
     "name": "stdout",
     "output_type": "stream",
     "text": [
      "packageJobJar: [term_probabilities.txt] [] /var/folders/z_/rfp5q2cd6db13d19v6yw0n8w0000gn/T/streamjob8125991547498805172.jar tmpDir=null\r\n"
     ]
    }
   ],
   "source": [
    "!hadoop jar /usr/local/Cellar/hadoop/2.7.1/libexec/share/hadoop/tools/lib/hadoop-streaming-2.7.1.jar \\\n",
    "    -mapper email_mapper.py \\\n",
    "    -reducer classifier_reducer.py \\\n",
    "    -input enronemail_1h.txt \\\n",
    "    -output classifier \\\n",
    "    -file term_probabilities.txt"
   ]
  },
  {
   "cell_type": "markdown",
   "metadata": {},
   "source": [
    "#### Examine the output of the classifier - Error Rate\n",
    "\n",
    "The best I could get the error rate is 1% without Laplace Smoothing. "
   ]
  },
  {
   "cell_type": "code",
   "execution_count": 390,
   "metadata": {
    "collapsed": false
   },
   "outputs": [
    {
     "name": "stdout",
     "output_type": "stream",
     "text": [
      "Error Rate: 1/100\t\r\n"
     ]
    }
   ],
   "source": [
    "!hdfs dfs -cat /user/rcordell/classifier/part-00000 | grep -i \"error rate\""
   ]
  },
  {
   "cell_type": "markdown",
   "metadata": {},
   "source": [
    "#### Zero Probability Counts\n",
    "\n",
    "This is the count of how many zero probabilities were encountered for each class."
   ]
  },
  {
   "cell_type": "code",
   "execution_count": 391,
   "metadata": {
    "collapsed": false
   },
   "outputs": [
    {
     "name": "stdout",
     "output_type": "stream",
     "text": [
      "Zero Probabilities: Spam 4965 \tHam 5694\r\n"
     ]
    }
   ],
   "source": [
    "!hdfs dfs -cat /user/rcordell/classifier/part-00000 | grep -i \"Zero Probabilities\""
   ]
  },
  {
   "cell_type": "markdown",
   "metadata": {},
   "source": [
    "### HW 2.3 - Log Probability Distribution\n",
    "\n",
    "The histograms below are a plot of the log probability distribution for both ham and spam classes.\n",
    "\n",
    "The Ham histogram is must narrower than the Spam histogram. If we were working with normal distributions this would indicate the possibiliy increased power of the classifiers because spam may statistically significantly different from ham."
   ]
  },
  {
   "cell_type": "code",
   "execution_count": 392,
   "metadata": {
    "collapsed": false
   },
   "outputs": [],
   "source": [
    "!rm classification_results.txt\n",
    "!hdfs dfs -get /user/rcordell/classifier/part-00000 classification_results.txt"
   ]
  },
  {
   "cell_type": "code",
   "execution_count": 393,
   "metadata": {
    "collapsed": true
   },
   "outputs": [],
   "source": [
    "%matplotlib inline "
   ]
  },
  {
   "cell_type": "code",
   "execution_count": 394,
   "metadata": {
    "collapsed": false,
    "scrolled": true
   },
   "outputs": [
    {
     "data": {
      "text/plain": [
       "<matplotlib.text.Text at 0x116033ed0>"
      ]
     },
     "execution_count": 394,
     "metadata": {},
     "output_type": "execute_result"
    },
    {
     "data": {
      "image/png": "[encoded data removed]",
      "text/plain": [
       "<matplotlib.figure.Figure at 0x115c35350>"
      ]
     },
     "metadata": {},
     "output_type": "display_data"
    }
   ],
   "source": [
    "import matplotlib\n",
    "import matplotlib.pyplot as plt\n",
    "import numpy as np\n",
    "ham = []\n",
    "spam = []\n",
    "with open('classification_results.txt','r') as infile:\n",
    "    for line in infile.readlines():\n",
    "        try:\n",
    "            _id, label, cls, lh, ls = line.strip().split('\\t')\n",
    "            try:\n",
    "                ham.append(float(lh))\n",
    "            except:\n",
    "                ham.append(0.0)\n",
    "            try:\n",
    "                spam.append(float(ls))\n",
    "            except:\n",
    "                spam.append(0.0)\n",
    "        except:\n",
    "            pass\n",
    "\n",
    "plt.figure(figsize=(15,5))\n",
    "p = plt.subplot(1, 2, 1)\n",
    "p.hist(ham,100)\n",
    "plt.title('Ham Log Probability Frequencies')\n",
    "\n",
    "p = plt.subplot(1, 2, 2)\n",
    "p.hist(spam,100)\n",
    "plt.title('Spam Log Probability Frequencies')     "
   ]
  },
  {
   "cell_type": "markdown",
   "metadata": {},
   "source": [
    "### Clean up HDFS"
   ]
  },
  {
   "cell_type": "code",
   "execution_count": 395,
   "metadata": {
    "collapsed": false
   },
   "outputs": [
    {
     "name": "stdout",
     "output_type": "stream",
     "text": [
      "Deleted /user/rcordell/model\n",
      "Deleted /user/rcordell/classifier\n"
     ]
    }
   ],
   "source": [
    "!hdfs dfs -rm -r /user/rcordell/model\n",
    "!hdfs dfs -rm -r /user/rcordell/classifier"
   ]
  },
  {
   "cell_type": "markdown",
   "metadata": {},
   "source": [
    "## HW2.4 \n",
    "\n",
    "Repeat HW2.3 with the following modification: use Laplace plus-one smoothing. Compare the misclassifcation error rates for 2.3 versus 2.4 and explain the differences.\n",
    "\n",
    "For a quick reference on the construction of the Multinomial NAIVE BAYES classifier that you will code,\n",
    "please consult the \"Document Classification\" section of the following wikipedia page:\n",
    "\n",
    "https://en.wikipedia.org/wiki/Naive_Bayes_classifier#Document_classification\n",
    "\n",
    "OR the original paper by the curators of the Enron email data:\n",
    "\n",
    "http://www.aueb.gr/users/ion/docs/ceas2006_paper.pdf\n",
    "\n"
   ]
  },
  {
   "cell_type": "markdown",
   "metadata": {},
   "source": [
    "### HW 2.4 - Reduce Stage 1 - Add Smoothing\n",
    "\n",
    "To implement Laplace smoothing we need to change the way the conditional probabilities are calculated in the first stage MapReduce so that the model is changed slightly. We don't need to make changes anywhere else so only the Stage 1 Reducer is shown here. The change is down near the bottom where the term conditional probabilities are calculated.\n"
   ]
  },
  {
   "cell_type": "code",
   "execution_count": 396,
   "metadata": {
    "collapsed": false
   },
   "outputs": [
    {
     "name": "stdout",
     "output_type": "stream",
     "text": [
      "Overwriting probability_reducer.py\n"
     ]
    }
   ],
   "source": [
    "%%writefile probability_reducer.py\n",
    "#!/usr/bin/python\n",
    "## reducer.py\n",
    "## Author: Ron Cordell\n",
    "## Description: reducer code for HW1.4\n",
    "## given a list of intermediate word count files, compute NB classification\n",
    "import sys\n",
    "\n",
    "term_counts = {}\n",
    "spam_doc_ids = []\n",
    "ham_doc_ids = []\n",
    "spam_doc_word_count = 0.0\n",
    "ham_doc_word_count = 0.0\n",
    "spam_term_count = 0.0\n",
    "ham_term_count = 0.0\n",
    "terms = 0.0\n",
    "current_key = None\n",
    "current_count = 0\n",
    "\n",
    "# STDIN consists of single lines of: token <tab> id <tab> class <tab> term_flag <tab> count\n",
    "# Assume that the proper parameters have been set such that Hadoop knows to treat the first 4 fields\n",
    "# as the key so that they are properly sorted when they reach the reducer\n",
    "# See http://blog.cloudera.com/blog/2013/01/a-guide-to-python-frameworks-for-hadoop/ for an example\n",
    "\n",
    "# perform the accumulation functions for each key, value received\n",
    "def accumulate_key(key , _count, spam_doc_word_count, ham_doc_word_count, term_counts):\n",
    "    # accumulate the key, values in a dictionary\n",
    "    _token = key[0]\n",
    "    _id = key[1]\n",
    "    _label = key[2]\n",
    "    _term = key[3]\n",
    "\n",
    "    # accumulate into ham and spam dictionaries also\n",
    "    if _label == '1':\n",
    "        spam_doc_word_count += _count\n",
    "        if _id not in spam_doc_ids:\n",
    "            spam_doc_ids.append(_id)\n",
    "        if _term == '1':\n",
    "            if _token in term_counts:\n",
    "                term_counts[_token]['spam_count'] += _count\n",
    "            else:\n",
    "                term_counts[_token] = {'spam_count' : _count,\n",
    "                                     'ham_count' : 0.0,\n",
    "                                      'prob_ham'  : 0.0,\n",
    "                                      'prob_spam' : 0.0} \n",
    "    else:                \n",
    "        ham_doc_word_count += _count\n",
    "        if _id not in ham_doc_ids:\n",
    "            ham_doc_ids.append(_id)\n",
    "        if _term == '1':\n",
    "            if _token in term_counts:\n",
    "                term_counts[_token]['ham_count'] += _count\n",
    "            else:\n",
    "                term_counts[_token] = {'ham_count' : _count,\n",
    "                                      'spam_count' : 0.0,\n",
    "                                      'prob_ham'  : 0.0,\n",
    "                                      'prob_spam' : 0.0}\n",
    "    return spam_doc_word_count, ham_doc_word_count\n",
    "\n",
    "# process the STDIN stream\n",
    "for line in sys.stdin:\n",
    "    # split the line into the key components and the value\n",
    "    token, email_id, label, term, token_count = line.split('\\t')\n",
    "\n",
    "    # this makes reading the code a little easier\n",
    "    if term == '0':\n",
    "        vocab_word = False\n",
    "    else:\n",
    "        vocab_word = True\n",
    "\n",
    "    # if we've been accumulating for this key, keep accumulating\n",
    "    # this works because the input is sorted on the key\n",
    "    if current_key == (token, email_id, label, term):\n",
    "        current_count += int(token_count)\n",
    "    else:\n",
    "        # we've just received a different key from what we've been accumulating\n",
    "        # wrap up with the current key\n",
    "        if current_key:\n",
    "            spam_doc_word_count, ham_doc_word_count = accumulate_key(current_key, \n",
    "                                                                     float(current_count), \n",
    "                                                                     spam_doc_word_count, \n",
    "                                                                     ham_doc_word_count, \n",
    "                                                                     term_counts)\n",
    "        # start a new accumulation    \n",
    "        current_count = int(token_count)\n",
    "        current_key = (token, email_id, label, term)\n",
    "\n",
    "# add the last key we've been accumulating\n",
    "if current_key == (token, email_id, label, term):\n",
    "    spam_doc_word_count, ham_doc_word_count = accumulate_key(current_key, \n",
    "                                                             float(current_count), \n",
    "                                                             spam_doc_word_count, \n",
    "                                                             ham_doc_word_count, \n",
    "                                                             term_counts)      \n",
    "                       \n",
    "# now we should have consolidated the intermediate counts and we can compute the rest\n",
    "\n",
    "# count the number of terms\n",
    "term_count = len(term_counts.keys()) * 1.0\n",
    "# compute the prior\n",
    "prior = (len(spam_doc_ids)*1.0)/(1.0*(len(spam_doc_ids) + len(ham_doc_ids)))\n",
    "\n",
    "# calculate the P(term|class) for each term\n",
    "# IMPLEMENT LAPLACE +1 SMOOTHING HERE\n",
    "for term in term_counts:\n",
    "    term_counts[term]['prob_ham'] = (term_counts[term]['ham_count'] + 1)/(ham_doc_word_count + term_count)\n",
    "    term_counts[term]['prob_spam'] = (term_counts[term]['spam_count'] + 1)/(spam_doc_word_count + term_count)\n",
    "    \n",
    "    # output term <tab> probability_ham <tab> ham_count <tab> probability_spam <tab> spam_count <tab> prior\n",
    "    print '{0}\\t{1}\\t{2}\\t{3}\\t{4}\\t{5}'.format(term, term_counts[term]['prob_ham'], \n",
    "                                           term_counts[term]['ham_count'],\n",
    "                                           term_counts[term]['prob_spam'], \n",
    "                                           term_counts[term]['spam_count'], \n",
    "                                           prior)"
   ]
  },
  {
   "cell_type": "markdown",
   "metadata": {},
   "source": [
    "#### Test\n",
    "\n",
    "Quick sanity check to make sure we didn't break something..."
   ]
  },
  {
   "cell_type": "code",
   "execution_count": 397,
   "metadata": {
    "collapsed": false,
    "scrolled": true
   },
   "outputs": [
    {
     "name": "stdout",
     "output_type": "stream",
     "text": [
      "cat: stdout: Broken pipe\r\n",
      "0001.1999-12-10.farmer\t0\t0\t-44.207621667\t-48.5150042289\r\n",
      "0001.1999-12-10.kaminski\t0\t0\t-29.8576689636\t-31.6972485272\r\n",
      "0001.2000-01-17.beck\t0\t0\t-3717.60394613\t-4306.64332295\r\n",
      "0001.2000-06-06.lokay\t0\t0\t-3744.50706598\t-4162.88761835\r\n",
      "0001.2001-02-07.kitchen\t0\t0\t-345.886680666\t-403.404749371\r\n",
      "0001.2001-04-02.williams\t0\t0\t-1388.79498638\t-1426.89990274\r\n",
      "0002.1999-12-13.farmer\t0\t0\t-2978.22974162\t-3473.16767374\r\n",
      "0002.2001-02-07.kitchen\t0\t0\t-451.556869828\t-463.833433441\r\n",
      "0002.2001-05-25.SA_and_HP\t1\t1\t-668.372602902\t-610.88070367\r\n",
      "0002.2003-12-18.GP\t1\t1\t-1420.003234\t-1296.97743047\r\n",
      "Error Rate: 0/10\r\n",
      "Zero Probabilities: Spam 0 \tHam 0\r\n"
     ]
    }
   ],
   "source": [
    "!cat enronemail_1h.txt | ./term_mapper.py | sort -r -k1,1 | ./probability_reducer.py > term_probabilities.txt\n",
    "!cat enronemail_1h.txt | head | ./email_mapper.py | sort -k1,1 | ./classifier_reducer.py"
   ]
  },
  {
   "cell_type": "markdown",
   "metadata": {},
   "source": [
    "## HW2.4 - Processing With Hadoop\n",
    "\n",
    "It is assumed that the hadoop processes are still running"
   ]
  },
  {
   "cell_type": "markdown",
   "metadata": {},
   "source": [
    "#### Clean up HDFS"
   ]
  },
  {
   "cell_type": "code",
   "execution_count": 398,
   "metadata": {
    "collapsed": false
   },
   "outputs": [
    {
     "name": "stdout",
     "output_type": "stream",
     "text": [
      "rm: `/user/rcordell/model': No such file or directory\n",
      "rm: `/user/rcordell/classifier': No such file or directory\n"
     ]
    }
   ],
   "source": [
    "!hdfs dfs -rm -r /user/rcordell/model\n",
    "!hdfs dfs -rm -r /user/rcordell/classifier"
   ]
  },
  {
   "cell_type": "markdown",
   "metadata": {},
   "source": [
    "#### Hadoop Stage 1 MapReduce with Smoothing\n",
    "\n",
    "The Hadoop streaming input has two more parameters:\n",
    "\n",
    "- jobconf stream.num.map.output.key.fields=4\n",
    "- jobconf stream.num.reduce.output.key.fields=3\n",
    "\n",
    "These are used to tell Hadoop which values in the tab-delimited key,value pairs make up the key. Otherwise Hadoop only uses the first field. This will give use more complete sorting control."
   ]
  },
  {
   "cell_type": "code",
   "execution_count": 399,
   "metadata": {
    "collapsed": false
   },
   "outputs": [],
   "source": [
    "!hadoop jar /usr/local/Cellar/hadoop/2.7.1/libexec/share/hadoop/tools/lib/hadoop-streaming-2.7.1.jar \\\n",
    "    -mapper term_mapper.py \\\n",
    "    -reducer probability_reducer.py \\\n",
    "    -input enronemail_1h.txt \\\n",
    "    -output model \\\n",
    "    -jobconf stream.num.map.output.key.fields=4 \\\n",
    "    -jobconf stream.num.reduce.output.key.fields=4"
   ]
  },
  {
   "cell_type": "markdown",
   "metadata": {},
   "source": [
    "#### Copy model file to local file system from HDFS"
   ]
  },
  {
   "cell_type": "code",
   "execution_count": 400,
   "metadata": {
    "collapsed": false
   },
   "outputs": [],
   "source": [
    "!rm -f term_probabilities.txt\n",
    "!hdfs dfs -get /user/rcordell/model/part-00000 term_probabilities.txt"
   ]
  },
  {
   "cell_type": "markdown",
   "metadata": {},
   "source": [
    "#### Execute Hadoop Stage 2 MapReduce\n",
    "\n",
    "Here we only want Hadoop to sort on the first field so we don't change the default behavior as we did in Stage 1."
   ]
  },
  {
   "cell_type": "code",
   "execution_count": 401,
   "metadata": {
    "collapsed": false
   },
   "outputs": [
    {
     "name": "stdout",
     "output_type": "stream",
     "text": [
      "packageJobJar: [term_probabilities.txt] [] /var/folders/z_/rfp5q2cd6db13d19v6yw0n8w0000gn/T/streamjob3208978509498932952.jar tmpDir=null\r\n"
     ]
    }
   ],
   "source": [
    "!hadoop jar /usr/local/Cellar/hadoop/2.7.1/libexec/share/hadoop/tools/lib/hadoop-streaming-2.7.1.jar \\\n",
    "    -mapper email_mapper.py \\\n",
    "    -reducer classifier_reducer.py \\\n",
    "    -input enronemail_1h.txt \\\n",
    "    -output classifier \\\n",
    "    -file term_probabilities.txt"
   ]
  },
  {
   "cell_type": "markdown",
   "metadata": {},
   "source": [
    "#### Examine the output of the classifier - Error Rate"
   ]
  },
  {
   "cell_type": "code",
   "execution_count": 402,
   "metadata": {
    "collapsed": false
   },
   "outputs": [
    {
     "name": "stdout",
     "output_type": "stream",
     "text": [
      "Error Rate: 0/100\t\r\n"
     ]
    }
   ],
   "source": [
    "!hdfs dfs -cat /user/rcordell/classifier/part-00000 | grep -i \"error rate\""
   ]
  },
  {
   "cell_type": "markdown",
   "metadata": {},
   "source": [
    "#### Zero Probability Counts\n",
    "\n",
    "This is the count of how many zero probabilities were encountered for each class. Notice how there are now no zero probabilities for either class as a result of the Laplace Smoothing"
   ]
  },
  {
   "cell_type": "code",
   "execution_count": 403,
   "metadata": {
    "collapsed": false
   },
   "outputs": [
    {
     "name": "stdout",
     "output_type": "stream",
     "text": [
      "Zero Probabilities: Spam 0 \tHam 0\r\n"
     ]
    }
   ],
   "source": [
    "!hdfs dfs -cat /user/rcordell/classifier/part-00000 | grep -i \"Zero Probabilities\""
   ]
  },
  {
   "cell_type": "markdown",
   "metadata": {},
   "source": [
    "### HW 2.4 - Log Probability Distribution\n",
    "\n",
    "The histograms below are a plot of the log probability distribution for both ham and spam classes.\n",
    "\n",
    "Now the histograms are much more similar in appearance and not nearly as much noticeable difference. The magnitudes are also more similar with the Ham being a couple of orders of magnitude larger than the spam."
   ]
  },
  {
   "cell_type": "code",
   "execution_count": 405,
   "metadata": {
    "collapsed": false
   },
   "outputs": [],
   "source": [
    "# get the classification results from HDFS\n",
    "!rm classification_results.txt\n",
    "!hdfs dfs -get /user/rcordell/classifier/part-00000 classification_results.txt"
   ]
  },
  {
   "cell_type": "code",
   "execution_count": 345,
   "metadata": {
    "collapsed": true
   },
   "outputs": [],
   "source": [
    "%matplotlib inline "
   ]
  },
  {
   "cell_type": "code",
   "execution_count": 406,
   "metadata": {
    "collapsed": false,
    "scrolled": true
   },
   "outputs": [
    {
     "data": {
      "text/plain": [
       "<matplotlib.text.Text at 0x11670f210>"
      ]
     },
     "execution_count": 406,
     "metadata": {},
     "output_type": "execute_result"
    },
    {
     "data": {
      "image/png": "[encoded data removed]",
      "text/plain": [
       "<matplotlib.figure.Figure at 0x11482e7d0>"
      ]
     },
     "metadata": {},
     "output_type": "display_data"
    }
   ],
   "source": [
    "import matplotlib\n",
    "import matplotlib.pyplot as plt\n",
    "import numpy as np\n",
    "ham = []\n",
    "spam = []\n",
    "with open('classification_results.txt','r') as infile:\n",
    "    for line in infile.readlines():\n",
    "        try:\n",
    "            _id, label, cls, lh, ls = line.strip().split('\\t')\n",
    "            try:\n",
    "                ham.append(float(lh))\n",
    "            except:\n",
    "                ham.append(0.0)\n",
    "            try:\n",
    "                spam.append(float(ls))\n",
    "            except:\n",
    "                spam.append(0.0)\n",
    "        except:\n",
    "            pass\n",
    "\n",
    "plt.figure(figsize=(15,5))\n",
    "p = plt.subplot(1, 2, 1)\n",
    "p.hist(ham,100)\n",
    "plt.title('Ham Log Probability Frequencies')\n",
    "\n",
    "p = plt.subplot(1, 2, 2)\n",
    "p.hist(spam,100)\n",
    "plt.title('Spam Log Probability Frequencies')     "
   ]
  },
  {
   "cell_type": "markdown",
   "metadata": {},
   "source": [
    "### Clean up HDFS"
   ]
  },
  {
   "cell_type": "code",
   "execution_count": 407,
   "metadata": {
    "collapsed": false
   },
   "outputs": [
    {
     "name": "stdout",
     "output_type": "stream",
     "text": [
      "Deleted /user/rcordell/model\n",
      "Deleted /user/rcordell/classifier\n"
     ]
    }
   ],
   "source": [
    "!hdfs dfs -rm -r /user/rcordell/model\n",
    "!hdfs dfs -rm -r /user/rcordell/classifier"
   ]
  },
  {
   "cell_type": "markdown",
   "metadata": {},
   "source": [
    "## HW2.5. \n",
    "\n",
    "Repeat HW2.4. This time when modeling and classification ignore tokens with a frequency of less than three (3) in the training set. How does it affect the misclassifcation error of learnt naive multinomial Bayesian Classifier on the training dataset:"
   ]
  },
  {
   "cell_type": "markdown",
   "metadata": {},
   "source": [
    "### HW 2.5 - Reducer Stage 1, +1 Smoothing, Term Counts >= 3\n",
    "\n",
    "Once again we only need to make changes to the Stage 1 Reducer where the model conditional probabilities are calculated."
   ]
  },
  {
   "cell_type": "code",
   "execution_count": 408,
   "metadata": {
    "collapsed": false
   },
   "outputs": [
    {
     "name": "stdout",
     "output_type": "stream",
     "text": [
      "Overwriting probability_reducer.py\n"
     ]
    }
   ],
   "source": [
    "%%writefile probability_reducer.py\n",
    "#!/usr/bin/python\n",
    "## reducer.py\n",
    "## Author: Ron Cordell\n",
    "## Description: reducer code for HW1.4\n",
    "## given a list of intermediate word count files, compute NB classification\n",
    "import sys\n",
    "\n",
    "term_counts = {}\n",
    "spam_doc_ids = []\n",
    "ham_doc_ids = []\n",
    "spam_doc_word_count = 0.0\n",
    "ham_doc_word_count = 0.0\n",
    "spam_term_count = 0.0\n",
    "ham_term_count = 0.0\n",
    "terms = 0.0\n",
    "current_key = None\n",
    "current_count = 0\n",
    "\n",
    "# STDIN consists of single lines of: token <tab> id <tab> class <tab> term_flag <tab> count\n",
    "# Assume that the proper parameters have been set such that Hadoop knows to treat the first 4 fields\n",
    "# as the key so that they are properly sorted when they reach the reducer\n",
    "# See http://blog.cloudera.com/blog/2013/01/a-guide-to-python-frameworks-for-hadoop/ for an example\n",
    "\n",
    "# perform the accumulation functions for each key, value received\n",
    "def accumulate_key(key , _count, spam_doc_word_count, ham_doc_word_count, term_counts):\n",
    "    # accumulate the key, values in a dictionary\n",
    "    _token = key[0]\n",
    "    _id = key[1]\n",
    "    _label = key[2]\n",
    "    _term = key[3]\n",
    "\n",
    "    # accumulate into ham and spam dictionaries also\n",
    "    if _label == '1':\n",
    "        spam_doc_word_count += _count\n",
    "        if _id not in spam_doc_ids:\n",
    "            spam_doc_ids.append(_id)\n",
    "        if _term == '1':\n",
    "            if _token in term_counts:\n",
    "                term_counts[_token]['spam_count'] += _count\n",
    "            else:\n",
    "                term_counts[_token] = {'spam_count' : _count,\n",
    "                                     'ham_count' : 0.0,\n",
    "                                      'prob_ham'  : 0.0,\n",
    "                                      'prob_spam' : 0.0} \n",
    "    else:                \n",
    "        ham_doc_word_count += _count\n",
    "        if _id not in ham_doc_ids:\n",
    "            ham_doc_ids.append(_id)\n",
    "        if _term == '1':\n",
    "            if _token in term_counts:\n",
    "                term_counts[_token]['ham_count'] += _count\n",
    "            else:\n",
    "                term_counts[_token] = {'ham_count' : _count,\n",
    "                                      'spam_count' : 0.0,\n",
    "                                      'prob_ham'  : 0.0,\n",
    "                                      'prob_spam' : 0.0}\n",
    "    return spam_doc_word_count, ham_doc_word_count\n",
    "\n",
    "# process the STDIN stream\n",
    "for line in sys.stdin:\n",
    "    # split the line into the key components and the value\n",
    "    token, email_id, label, term, token_count = line.split('\\t')\n",
    "\n",
    "    # this makes reading the code a little easier\n",
    "    if term == '0':\n",
    "        vocab_word = False\n",
    "    else:\n",
    "        vocab_word = True\n",
    "\n",
    "    # if we've been accumulating for this key, keep accumulating\n",
    "    # this works because the input is sorted on the key\n",
    "    if current_key == (token, email_id, label, term):\n",
    "        current_count += int(token_count)\n",
    "    else:\n",
    "        # we've just received a different key from what we've been accumulating\n",
    "        # wrap up with the current key\n",
    "        if current_key:\n",
    "            spam_doc_word_count, ham_doc_word_count = accumulate_key(current_key, \n",
    "                                                                     float(current_count), \n",
    "                                                                     spam_doc_word_count, \n",
    "                                                                     ham_doc_word_count, \n",
    "                                                                     term_counts)\n",
    "        # start a new accumulation    \n",
    "        current_count = int(token_count)\n",
    "        current_key = (token, email_id, label, term)\n",
    "\n",
    "# add the last key we've been accumulating\n",
    "if current_key == (token, email_id, label, term):\n",
    "    spam_doc_word_count, ham_doc_word_count = accumulate_key(current_key, \n",
    "                                                             float(current_count), \n",
    "                                                             spam_doc_word_count, \n",
    "                                                             ham_doc_word_count, \n",
    "                                                             term_counts)      \n",
    "                       \n",
    "# now we should have consolidated the intermediate counts and we can compute the rest\n",
    "\n",
    "# count the number of terms\n",
    "term_count = len(term_counts.keys()) * 1.0\n",
    "# compute the prior\n",
    "prior = (len(spam_doc_ids)*1.0)/(1.0*(len(spam_doc_ids) + len(ham_doc_ids)))\n",
    "\n",
    "# calculate the P(term|class) for each term\n",
    "\n",
    "# HW 2.4 - IMPLEMENT LAPLACE +1 SMOOTHING HERE\n",
    "# HW 2.5 - IMPLEMENT MIN 3 TERM COUNT HERE\n",
    "\n",
    "terms_to_drop = []\n",
    "for term in term_counts:\n",
    "    # if either the spam or ham term count is > 3, keep this term in the model\n",
    "    if term_counts[term]['ham_count'] >= 3 or term_counts[term]['spam_count'] >= 3:\n",
    "        term_counts[term]['prob_ham'] = (term_counts[term]['ham_count'] + 1)/(ham_doc_word_count + term_count)\n",
    "        term_counts[term]['prob_spam'] = (term_counts[term]['spam_count'] + 1)/(spam_doc_word_count + term_count)\n",
    "    else:\n",
    "        # add the term to be removed to the list; we can't remove it while iterating over the dictionary\n",
    "        terms_to_drop.append(term)\n",
    "\n",
    "for term in terms_to_drop:\n",
    "    term_counts.pop(term, None)  \n",
    "\n",
    "# now emit the model\n",
    "for term in term_counts:\n",
    "    # output term <tab> probability_ham <tab> ham_count <tab> probability_spam <tab> spam_count <tab> prior\n",
    "    print '{0}\\t{1}\\t{2}\\t{3}\\t{4}\\t{5}'.format(term, term_counts[term]['prob_ham'], \n",
    "                                           term_counts[term]['ham_count'],\n",
    "                                           term_counts[term]['prob_spam'], \n",
    "                                           term_counts[term]['spam_count'], \n",
    "                                           prior)\n"
   ]
  },
  {
   "cell_type": "markdown",
   "metadata": {},
   "source": [
    "#### Test\n",
    "\n",
    "Quick sanity check to make sure we didn't break something..."
   ]
  },
  {
   "cell_type": "code",
   "execution_count": 409,
   "metadata": {
    "collapsed": false,
    "scrolled": true
   },
   "outputs": [
    {
     "name": "stdout",
     "output_type": "stream",
     "text": [
      "cat: stdout: Broken pipe\r\n",
      "0001.1999-12-10.farmer\t0\t0\t-16.6201146096\t-18.92818397\r\n",
      "0001.1999-12-10.kaminski\t0\t0\t-20.6618332778\t-21.6039260474\r\n",
      "0001.2000-01-17.beck\t0\t0\t-2906.60280384\t-3408.87707355\r\n",
      "0001.2000-06-06.lokay\t0\t0\t-3193.69771685\t-3561.12355773\r\n",
      "0001.2001-02-07.kitchen\t0\t0\t-293.1444572\t-344.231108854\r\n",
      "0001.2001-04-02.williams\t0\t0\t-1044.21881162\t-1052.19466281\r\n",
      "0002.1999-12-13.farmer\t0\t0\t-2441.35194768\t-2883.61228998\r\n",
      "0002.2001-02-07.kitchen\t0\t0\t-324.031565551\t-326.803584842\r\n",
      "0002.2001-05-25.SA_and_HP\t1\t1\t-463.882016539\t-415.909813035\r\n",
      "0002.2003-12-18.GP\t1\t1\t-908.548713672\t-814.655756641\r\n",
      "Error Rate: 0/10\r\n",
      "Zero Probabilities: Spam 0 \tHam 0\r\n"
     ]
    }
   ],
   "source": [
    "!cat enronemail_1h.txt | ./term_mapper.py | sort -r -k1,1 | ./probability_reducer.py > term_probabilities.txt\n",
    "!cat enronemail_1h.txt | head | ./email_mapper.py | sort -k1,1 | ./classifier_reducer.py"
   ]
  },
  {
   "cell_type": "markdown",
   "metadata": {},
   "source": [
    "## HW2.5 - Processing With Hadoop\n",
    "\n",
    "It is assumed that the hadoop processes are still running"
   ]
  },
  {
   "cell_type": "markdown",
   "metadata": {},
   "source": [
    "#### Clean up HDFS"
   ]
  },
  {
   "cell_type": "code",
   "execution_count": 410,
   "metadata": {
    "collapsed": false
   },
   "outputs": [
    {
     "name": "stdout",
     "output_type": "stream",
     "text": [
      "rm: `/user/rcordell/model': No such file or directory\n",
      "rm: `/user/rcordell/classifier': No such file or directory\n"
     ]
    }
   ],
   "source": [
    "!hdfs dfs -rm -r /user/rcordell/model\n",
    "!hdfs dfs -rm -r /user/rcordell/classifier"
   ]
  },
  {
   "cell_type": "markdown",
   "metadata": {},
   "source": [
    "#### Hadoop Stage 1 MapReduce with Smoothing\n",
    "\n",
    "The Hadoop streaming input has two more parameters:\n",
    "\n",
    "- jobconf stream.num.map.output.key.fields=4\n",
    "- jobconf stream.num.reduce.output.key.fields=3\n",
    "\n",
    "These are used to tell Hadoop which values in the tab-delimited key,value pairs make up the key. Otherwise Hadoop only uses the first field. This will give use more complete sorting control."
   ]
  },
  {
   "cell_type": "code",
   "execution_count": 411,
   "metadata": {
    "collapsed": false
   },
   "outputs": [],
   "source": [
    "!hadoop jar /usr/local/Cellar/hadoop/2.7.1/libexec/share/hadoop/tools/lib/hadoop-streaming-2.7.1.jar \\\n",
    "    -mapper term_mapper.py \\\n",
    "    -reducer probability_reducer.py \\\n",
    "    -input enronemail_1h.txt \\\n",
    "    -output model \\\n",
    "    -jobconf stream.num.map.output.key.fields=4 \\\n",
    "    -jobconf stream.num.reduce.output.key.fields=4"
   ]
  },
  {
   "cell_type": "markdown",
   "metadata": {},
   "source": [
    "#### Copy model file to local file system from HDFS"
   ]
  },
  {
   "cell_type": "code",
   "execution_count": 412,
   "metadata": {
    "collapsed": false
   },
   "outputs": [],
   "source": [
    "!rm -f term_probabilities.txt\n",
    "!hdfs dfs -get /user/rcordell/model/part-00000 term_probabilities.txt"
   ]
  },
  {
   "cell_type": "markdown",
   "metadata": {},
   "source": [
    "#### Execute Hadoop Stage 2 MapReduce\n",
    "\n",
    "Here we only want Hadoop to sort on the first field so we don't change the default behavior as we did in Stage 1."
   ]
  },
  {
   "cell_type": "code",
   "execution_count": 413,
   "metadata": {
    "collapsed": false
   },
   "outputs": [
    {
     "name": "stdout",
     "output_type": "stream",
     "text": [
      "packageJobJar: [term_probabilities.txt] [] /var/folders/z_/rfp5q2cd6db13d19v6yw0n8w0000gn/T/streamjob5789292786380840881.jar tmpDir=null\r\n"
     ]
    }
   ],
   "source": [
    "!hadoop jar /usr/local/Cellar/hadoop/2.7.1/libexec/share/hadoop/tools/lib/hadoop-streaming-2.7.1.jar \\\n",
    "    -mapper email_mapper.py \\\n",
    "    -reducer classifier_reducer.py \\\n",
    "    -input enronemail_1h.txt \\\n",
    "    -output classifier \\\n",
    "    -file term_probabilities.txt"
   ]
  },
  {
   "cell_type": "markdown",
   "metadata": {},
   "source": [
    "#### Examine the output of the classifier - Error Rate\n",
    "\n",
    "The error rate has increased to 4% with the addition of removing terms with counts < 3 from the model. That indicates that those terms carried enough information to make a difference in the classification rate.\n",
    "\n",
    "The classifier doesn't consider tokens that are not in the vocabulary, so they do not contribute to the calculation of the document class."
   ]
  },
  {
   "cell_type": "code",
   "execution_count": 414,
   "metadata": {
    "collapsed": false
   },
   "outputs": [
    {
     "name": "stdout",
     "output_type": "stream",
     "text": [
      "Error Rate: 4/100\t\r\n"
     ]
    }
   ],
   "source": [
    "!hdfs dfs -cat /user/rcordell/classifier/part-00000 | grep -i \"error rate\""
   ]
  },
  {
   "cell_type": "markdown",
   "metadata": {},
   "source": [
    "#### Zero Probability Counts\n",
    "\n",
    "This is the count of how many zero probabilities were encountered for each class. Notice how there are now no zero probabilities for either class as a result of the Laplace Smoothing"
   ]
  },
  {
   "cell_type": "code",
   "execution_count": 415,
   "metadata": {
    "collapsed": false
   },
   "outputs": [
    {
     "name": "stdout",
     "output_type": "stream",
     "text": [
      "Zero Probabilities: Spam 0 \tHam 0\r\n"
     ]
    }
   ],
   "source": [
    "!hdfs dfs -cat /user/rcordell/classifier/part-00000 | grep -i \"Zero Probabilities\""
   ]
  },
  {
   "cell_type": "markdown",
   "metadata": {},
   "source": [
    "### HW 2.5 - Log Probability Distribution\n",
    "\n",
    "The histograms below are a plot of the log probability distribution for both ham and spam classes.\n",
    "\n",
    "There doesn't seem to be much change from the Laplace smoothing histograms."
   ]
  },
  {
   "cell_type": "code",
   "execution_count": 416,
   "metadata": {
    "collapsed": false
   },
   "outputs": [],
   "source": [
    "# Get classification output file from HDFS\n",
    "!rm classification_results.txt\n",
    "!hdfs dfs -get /user/rcordell/classifier/part-00000 classification_results.txt"
   ]
  },
  {
   "cell_type": "code",
   "execution_count": 366,
   "metadata": {
    "collapsed": true
   },
   "outputs": [],
   "source": [
    "%matplotlib inline "
   ]
  },
  {
   "cell_type": "code",
   "execution_count": 417,
   "metadata": {
    "collapsed": false,
    "scrolled": true
   },
   "outputs": [
    {
     "data": {
      "text/plain": [
       "<matplotlib.text.Text at 0x116dc97d0>"
      ]
     },
     "execution_count": 417,
     "metadata": {},
     "output_type": "execute_result"
    },
    {
     "data": {
      "image/png": "[encoded data removed]",
      "text/plain": [
       "<matplotlib.figure.Figure at 0x11425a550>"
      ]
     },
     "metadata": {},
     "output_type": "display_data"
    }
   ],
   "source": [
    "import matplotlib\n",
    "import matplotlib.pyplot as plt\n",
    "import numpy as np\n",
    "ham = []\n",
    "spam = []\n",
    "with open('classification_results.txt','r') as infile:\n",
    "    for line in infile.readlines():\n",
    "        try:\n",
    "            _id, label, cls, lh, ls = line.strip().split('\\t')\n",
    "            try:\n",
    "                ham.append(float(lh))\n",
    "            except:\n",
    "                ham.append(0.0)\n",
    "            try:\n",
    "                spam.append(float(ls))\n",
    "            except:\n",
    "                spam.append(0.0)\n",
    "        except:\n",
    "            pass\n",
    "\n",
    "plt.figure(figsize=(15,5))\n",
    "p = plt.subplot(1, 2, 1)\n",
    "p.hist(ham,100)\n",
    "plt.title('Ham Log Probability Frequencies')\n",
    "\n",
    "p = plt.subplot(1, 2, 2)\n",
    "p.hist(spam,100)\n",
    "plt.title('Spam Log Probability Frequencies')     "
   ]
  },
  {
   "cell_type": "markdown",
   "metadata": {},
   "source": [
    "### Clean up HDFS"
   ]
  },
  {
   "cell_type": "code",
   "execution_count": 418,
   "metadata": {
    "collapsed": false
   },
   "outputs": [
    {
     "name": "stdout",
     "output_type": "stream",
     "text": [
      "Deleted /user/rcordell/model\r\n"
     ]
    }
   ],
   "source": [
    "!hdfs dfs -rm -r /user/rcordell/model"
   ]
  },
  {
   "cell_type": "code",
   "execution_count": 419,
   "metadata": {
    "collapsed": false
   },
   "outputs": [
    {
     "name": "stdout",
     "output_type": "stream",
     "text": [
      "Deleted /user/rcordell/classifier\r\n"
     ]
    }
   ],
   "source": [
    "!hdfs dfs -rm -r /user/rcordell/classifier"
   ]
  },
  {
   "cell_type": "markdown",
   "metadata": {},
   "source": [
    "### Stop Yarn and HDFS"
   ]
  },
  {
   "cell_type": "code",
   "execution_count": 423,
   "metadata": {
    "collapsed": false
   },
   "outputs": [
    {
     "name": "stdout",
     "output_type": "stream",
     "text": [
      "stopping yarn daemons\n",
      "stopping resourcemanager\n",
      "localhost: stopping nodemanager\n",
      "localhost: nodemanager did not stop gracefully after 5 seconds: killing with kill -9\n",
      "no proxyserver to stop\n",
      "Stopping namenodes on [localhost]\n",
      "localhost: stopping namenode\n",
      "localhost: stopping datanode\n",
      "Stopping secondary namenodes [0.0.0.0]\n",
      "0.0.0.0: stopping secondarynamenode\n"
     ]
    }
   ],
   "source": [
    "!/usr/local/Cellar/hadoop/2.7.1/sbin/stop-yarn.sh\n",
    "!/usr/local/Cellar/hadoop/2.7.1/sbin/stop-dfs.sh"
   ]
  },
  {
   "cell_type": "markdown",
   "metadata": {},
   "source": [
    "## HW2.6 \n",
    "\n",
    "Benchmark your code with the Python SciKit-Learn implementation of the multinomial Naive Bayes algorithm\n",
    "\n",
    "It always a good idea to benchmark your solutions against publicly available libraries such as SciKit-Learn, The Machine Learning toolkit available in Python. In this exercise, we benchmark ourselves against the SciKit-Learn implementation of multinomial Naive Bayes.  For more information on this implementation see: http://scikit-learn.org/stable/modules/naive_bayes.html more  \n",
    "\n",
    "In this exercise, please complete the following:\n",
    "\n",
    "— Run the Multinomial Naive Bayes algorithm (using default settings) from SciKit-Learn over the same training data used in HW2.5 and report the misclassification error (please note some data preparation might be needed to get the Multinomial Naive Bayes algorithm from SkiKit-Learn to run over this dataset)\n",
    "- Prepare a table to present your results, where rows correspond to approach used (SkiKit-Learn versus your Hadoop implementation) and the column presents the training misclassification error\n",
    "— Explain/justify any differences in terms of training error rates over the dataset in HW2.5 between your Multinomial Naive Bayes implementation (in Map Reduce) versus the Multinomial Naive Bayes implementation in SciKit-Learn "
   ]
  },
  {
   "cell_type": "markdown",
   "metadata": {},
   "source": [
    "### HW 2.6 - Scikit-Learn Naive Bayes\n"
   ]
  },
  {
   "cell_type": "code",
   "execution_count": 420,
   "metadata": {
    "collapsed": true
   },
   "outputs": [],
   "source": [
    "from sklearn.feature_extraction.text import TfidfVectorizer\n",
    "from sklearn.naive_bayes import MultinomialNB, BernoulliNB\n",
    "\n",
    "X_train = []\n",
    "Y_train = []\n",
    "\n",
    "# replicate our mapper code here where we take the subject and body together\n",
    "# except now we grab the label field as well to use for the Y values\n",
    "with open('enronemail_1h.txt', 'rU') as infile:\n",
    "    for line in infile.readlines():\n",
    "        try:\n",
    "            email_id, label, subject, body = line.split('\\t')\n",
    "            X_train.append(subject + ' ' + body)\n",
    "        except ValueError:\n",
    "            email_id, label, body = line.split('\\t')\n",
    "            X_train.append(body)\n",
    "        # extract only words from the combined subject and body text\n",
    "        Y_train.append(int(label))\n",
    "\n",
    "# Use the TfidVectorizer to create the feature vectors\n",
    "# We should override the tokenizer regular expression to make it the same as what we used\n",
    "# in our poor man's mapper code\n",
    "vectorizer = TfidfVectorizer(token_pattern = \"[\\w']+\")\n",
    "vf = vectorizer.fit(X_train,Y_train)"
   ]
  },
  {
   "cell_type": "markdown",
   "metadata": {},
   "source": [
    "### HW 2.6 - Multinomial Bayes Training Error"
   ]
  },
  {
   "cell_type": "code",
   "execution_count": 421,
   "metadata": {
    "collapsed": false
   },
   "outputs": [
    {
     "name": "stdout",
     "output_type": "stream",
     "text": [
      "0.0\n"
     ]
    }
   ],
   "source": [
    "clf = MultinomialNB()\n",
    "clf.fit(vf.fit_transform(X_train), Y_train)\n",
    "print 1.0 - clf.score(vf.fit_transform(X_train), Y_train)"
   ]
  },
  {
   "cell_type": "markdown",
   "metadata": {},
   "source": [
    "### HW 2.6 - Results\n",
    "\n",
    "The following table summarizes our results of the various classification method training error. The difference between the HW 2.5 Multinomial NB classifier and the Scikit Learn is that the term vectorizor using the Scikit learn uses all terms, whereas the HW2.5 version does not.\n",
    "\n",
    "| Classification Methodology  | Training error |\n",
    "|-----------------------------|----------------|\n",
    "| Multinomial NB no smoothing    |      1%       |\n",
    "| Multinomial NB Laplace +1 smoothing  |      0%       |\n",
    "| Multinomial NB Smoothing & Term Count >= 3  |      4%        |\n",
    "| scikit-learn MultinomialNB  |      0%        |\n",
    "| scikit-learn BernoulliNB    |     18%        |"
   ]
  },
  {
   "cell_type": "markdown",
   "metadata": {},
   "source": [
    "## HW 2.6.1 OPTIONAL (note this exercise is a stretch HW and optional)\n",
    "\n",
    "—  Run the Bernoulli Naive Bayes algorithm from SciKit-Learn (using default settings) over the same training data used in HW2.6 and report the misclassification error \n",
    "-  Discuss the performance differences in terms of misclassification error rates over the dataset in HW2.5 between the  Multinomial Naive Bayes implementation in SciKit-Learn with the  Bernoulli Naive Bayes implementation in SciKit-Learn. Why such big differences. Explain. \n",
    "\n",
    "Which approach to Naive Bayes would you recommend for SPAM detection? Justify your selection."
   ]
  },
  {
   "cell_type": "markdown",
   "metadata": {},
   "source": [
    "### HW 2.6.1 - Bernoulli Bayes Training Error"
   ]
  },
  {
   "cell_type": "code",
   "execution_count": 422,
   "metadata": {
    "collapsed": false
   },
   "outputs": [
    {
     "name": "stdout",
     "output_type": "stream",
     "text": [
      "0.18\n"
     ]
    }
   ],
   "source": [
    "clf = BernoulliNB()\n",
    "clf.fit(vf.fit_transform(X_train), Y_train)\n",
    "print 1.0 - clf.score(vf.fit_transform(X_train), Y_train)"
   ]
  },
  {
   "cell_type": "markdown",
   "metadata": {},
   "source": [
    "## HW2.7 OPTIONAL (note this exercise is a stretch HW and optional)\n",
    "\n",
    "The Enron SPAM data in the following folder enron1-Training-Data-RAW is in raw text form (with subfolders for SPAM and HAM that contain raw email messages in the following form:\n",
    "\n",
    "--- Line 1 contains the subject\n",
    "--- The remaining lines contain the body of the email message.\n",
    "\n",
    "In Python write a script to produce a TSV file called train-Enron-1.txt that has a similar format as the enronemail_1h.txt that you have been using so far. Please pay attend to funky characters and tabs. Check your resulting formated email data in Excel and in Python (e.g., count up the number of fields in each row; the number of SPAM mails and the number of HAM emails). Does each row correspond to an email record with four values? Note: use \"NA\" to denote empty field values."
   ]
  },
  {
   "cell_type": "markdown",
   "metadata": {},
   "source": [
    "## HW2.8 OPTIONAL\n",
    "Using Hadoop Map-Reduce write job(s) to perform the following:\n",
    " -- Train a multinomial Naive Bayes Classifier with Laplace plus one smoothing using the data extracted in HW2.7 (i.e., train-Enron-1.txt). Use all white-space delimitted tokens as independent input variables (assume spaces, fullstops, commas as delimiters). Drop tokens with a frequency of less than three (3).\n",
    " -- Test the learnt classifier using enronemail_1h.txt and report the misclassification error rate. Remember to use all white-space delimitted tokens as independent input variables (assume spaces, fullstops, commas as delimiters). How do we treat tokens in the test set that do not appear in the training set?"
   ]
  },
  {
   "cell_type": "markdown",
   "metadata": {},
   "source": [
    "## HW2.8.1 OPTIONAL\n",
    "—  Run  both the Multinomial Naive Bayes and the Bernoulli Naive Bayes algorithms from SciKit-Learn (using default settings) over the same training data used in HW2.8 and report the misclassification error on both the training set and the testing set\n",
    "- Prepare a table to present your results, where rows correspond to approach used (SciKit-Learn Multinomial NB; SciKit-Learn Bernouili NB; Your Hadoop implementation)  and the columns presents the training misclassification error, and the misclassification error on the test data set\n",
    "-  Discuss the performance differences in terms of misclassification error rates over the test and training datasets by the different implementations. Which approch (Bernouili versus Multinomial) would you recommend for SPAM detection? Justify your selection."
   ]
  },
  {
   "cell_type": "code",
   "execution_count": null,
   "metadata": {
    "collapsed": true
   },
   "outputs": [],
   "source": []
  }
 ],
 "metadata": {
  "kernelspec": {
   "display_name": "Python 2",
   "language": "python",
   "name": "python2"
  },
  "language_info": {
   "codemirror_mode": {
    "name": "ipython",
    "version": 2
   },
   "file_extension": ".py",
   "mimetype": "text/x-python",
   "name": "python",
   "nbconvert_exporter": "python",
   "pygments_lexer": "ipython2",
   "version": "2.7.11"
  }
 },
 "nbformat": 4,
 "nbformat_minor": 0
}
