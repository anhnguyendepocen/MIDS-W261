{
 "cells": [
  {
   "cell_type": "markdown",
   "metadata": {},
   "source": [
    "# MIDS Machine Learning at Scale MidTerm exam, Week 8, Spring, 2016\n",
    "\n",
    "Exam location is at:\n",
    "     https://www.dropbox.com/s/jdkkttnwd88uxkl/MIDS-MLS-MidTerm-2016-Spring-Live.txt?dl=0\n",
    "===Instructions for midterm===\n",
    "\n",
    "Please use your live session time from week 8 to complete this mid term \n",
    "(plus an additional 30 minutes if you need it). \n",
    "This is an open book exam meaning you can consult webpages and textbooks \n",
    "(but not each other or other people). Please complete this exam by yourself.\n",
    "\n",
    "Please submit your solutions and notebooks via the following form:\n",
    "\n",
    "      http://goo.gl/forms/ggNYfRXz0t\n",
    "\n",
    "===Exam durations (All times are in California Time)===\n",
    "\n",
    "Live Session Group #4 4:00 PM - 6:00 PM (Tuesday)\n",
    "Live Session Group #2 4:00 PM - 6:00 PM (Wednesday)\n",
    "Live Session Group #3 6:30 PM - 8:30 PM (Wednesday)"
   ]
  },
  {
   "cell_type": "code",
   "execution_count": 11,
   "metadata": {
    "collapsed": true
   },
   "outputs": [],
   "source": [
    "# take care of Jupyter and MRJob weirdnesses\n",
    "%load_ext autoreload\n",
    "%autoreload 2"
   ]
  },
  {
   "cell_type": "markdown",
   "metadata": {},
   "source": [
    "=====Exam begins here=====\n",
    "\n",
    "===Map-Reduce===\n",
    "\n",
    "## MT0. \n",
    "\n",
    "#### Which of the following statememts about map-reduce are true? Check all that apply\n",
    "\n",
    "\n",
    "(a) If you only have 1 computer with 1 computing core, then map-reduce is unlikely to help  \n",
    "(b) If we run map-reduce using N computers, then we will always get at least an N-Fold speedup compared to using 1 computer  \n",
    "(c) Because of network latency and other overhead associated with map-reduce, if we run map-reduce using N computers, then we will get leas than N-Fold speedup compared to using 1 computer  \n",
    "(d) When using map-reduce with gradient descent, we usually use a single machine that accumulates the gradients from each of the map-reduce machines, in order to compute the paramter update for the iterion  \n",
    "\n",
    "**(a)(c)(d)**\n",
    "\n",
    "\n",
    "===Order inversion===\n",
    "\n",
    "## MT1.\n",
    "\n",
    "#### Suppose you wish to write a MapReduce job that creates normalized word co-occurrence data form a large input text.  To ensure that all (potentially many) reducers receive appropriate normalization factors (denominators) in the correct order in their input streams (so as to minimize memory overhead), the mapper should emit according to which pattern:\n",
    "\n",
    "(a) emit (*,word) count  \n",
    "(b) There is no need to use  order inversion here  \n",
    "(c) emit (word,*) count  \n",
    "(d) None of the above  \n",
    "\n",
    "**(a)**\n",
    "\n",
    "\n",
    "===Apriori principle===\n",
    "\n",
    "## MT2. \n",
    "\n",
    "#### When searching for frequent itemsets with the Apriori algorithm (using a threshold, N), the Apriori principle allows us to avoid  tracking the occurrences of the itemset {A,B,C} provided\n",
    "\n",
    "(a) all subsets of {A,B,C} occur less than N times.  \n",
    "(b) any pair of {A,B,C} occurs less than N times.  \n",
    "(c) any subset of {A,B,C} occurs less than N times.  \n",
    "(d) All of the above  \n",
    "\n",
    "**(c)**\n",
    "\n",
    "===Bayesian document classification===\n",
    "\n",
    "## MT3. \n",
    "\n",
    "#### When building a Bayesian document classifier, Laplace smoothing serves what purpose?\n",
    "\n",
    "(a) It allows you to use your training data as your validation data.  \n",
    "(b) It prevents zero-products in the posterior distribution.  \n",
    "(c) It accounts for words that were missed by regular expressions.   \n",
    "(d) None of the above  \n",
    "\n",
    "**(b)**\n",
    "\n",
    "===Bias-variance tradeoff===\n",
    "\n",
    "## MT4. \n",
    "\n",
    "#### By increasing the complexity of a model regressed on some samples of data, it is likely that the ensemble will exhibit which of the following?\n",
    "\n",
    "(a) Increased variance and bias  \n",
    "(b) Increased variance and decreased bias  \n",
    "(c) Decreased variance and bias  \n",
    "(d) Decreased variance and increased bias  \n",
    "\n",
    "**(b)**\n",
    "\n",
    "===Combiners===\n",
    "\n",
    "## MT5. \n",
    "\n",
    "#### Combiners can be integral to the successful utilization of the Hadoop shuffle. This utility is as a result of\n",
    "\n",
    "(a) minimization of reducer workload  \n",
    "(b) both (a) and (c)  \n",
    "(c) minimization of network traffic  \n",
    "(d) none of the above  \n",
    "\n",
    "**(c)**  Reducer workload doesn't really change; it's the amount of data in the shuffle that changes"
   ]
  },
  {
   "cell_type": "markdown",
   "metadata": {},
   "source": [
    "===Pairwise similarity using K-L divergence===\n",
    "\n",
    "In probability theory and information theory, the Kullback–Leibler divergence (also information divergence, information gain, relative entropy, KLIC, or KL divergence) is a non-symmetric measure of the difference between two probability distributions $P$ and $Q$. Specifically, the Kullback–Leibler divergence of $Q$ from $P$, denoted $DKL(P\\|Q)$, is a measure of the information lost when $Q$ is used to approximate $P$:\n",
    "\n",
    "For discrete probability distributions $P$ and $Q$, the Kullback–Leibler divergence of $Q$ from $P$ is defined to be  \n",
    "\n",
    "$$\\text{KLDistance}(P, Q) = \\sum_{i} P_{i} log\\left(\\frac{P_{i}}{Q_{i}}\\right)$$\n",
    "\n",
    "In the extreme cases, the KL Divergence is 1 when $P$ and $Q$ are maximally different\n",
    "and is 0 when the two distributions are exactly the same (follow the same distribution).\n",
    "\n",
    "For more information on K-L Divergence see:\n",
    "\n",
    "https://en.wikipedia.org/wiki/Kullback%E2%80%93Leibler_divergence\n",
    "\n",
    "For the next three question we will use an MRjob class for calculating pairwise similarity \n",
    "using K-L Divergence as the similarity measure:\n",
    "\n",
    "Job 1: create inverted index (assume just two objects)\n",
    "Job 2: calculate/accumulate the similarity of each pair of objects using K-L Divergence\n",
    "\n",
    "Download the following notebook and then fill in the code for the first reducer to calculate \n",
    "the K-L divergence of objects (letter documents) in line1 and line2, i.e., $KLD(Line1\\|line2)$.\n",
    "\n",
    "Here we ignore characters which are not alphabetical. And all alphabetical characters are lower-cased in the first mapper.\n",
    "\n",
    "http://nbviewer.ipython.org/urls/dl.dropbox.com/s/9onx4c2dujtkgd7/Kullback%E2%80%93Leibler%20divergence-MIDS-Midterm.ipynb\n",
    "https://www.dropbox.com/s/zr9xfhwakrxz9hc/Kullback%E2%80%93Leibler%20divergence-MIDS-Midterm.ipynb?dl=0"
   ]
  },
  {
   "cell_type": "markdown",
   "metadata": {},
   "source": [
    "## Using the MRJob Class below calculate the KL divergence of the following two objects."
   ]
  },
  {
   "cell_type": "code",
   "execution_count": 1,
   "metadata": {
    "collapsed": false
   },
   "outputs": [
    {
     "name": "stdout",
     "output_type": "stream",
     "text": [
      "Writing kltext.txt\n"
     ]
    }
   ],
   "source": [
    "%%writefile kltext.txt\n",
    "1.Data Science is an interdisciplinary field about processes and systems to extract knowledge or insights from large volumes of data in various forms (data in various forms, data in various forms, data in various forms), either structured or unstructured,[1][2] which is a continuation of some of the data analysis fields such as statistics, data mining and predictive analytics, as well as Knowledge Discovery in Databases.\n",
    "2.Machine learning is a subfield of computer science[1] that evolved from the study of pattern recognition and computational learning theory in artificial intelligence.[1] Machine learning explores the study and construction of algorithms that can learn from and make predictions on data.[2] Such algorithms operate by building a model from example inputs in order to make data-driven predictions or decisions,[3]:2 rather than following strictly static program instructions."
   ]
  },
  {
   "cell_type": "markdown",
   "metadata": {},
   "source": [
    "## MRjob class for calculating pairwise similarity using K-L Divergence as the similarity measure\n",
    "\n",
    "Job 1: create inverted index (assume just two objects)\n",
    "\n",
    "Job 2: calculate the similarity of each pair of objects"
   ]
  },
  {
   "cell_type": "code",
   "execution_count": 2,
   "metadata": {
    "collapsed": false
   },
   "outputs": [
    {
     "data": {
      "text/plain": [
       "1.0986122886681098"
      ]
     },
     "execution_count": 2,
     "metadata": {},
     "output_type": "execute_result"
    }
   ],
   "source": [
    "import numpy as np\n",
    "np.log(3)"
   ]
  },
  {
   "cell_type": "code",
   "execution_count": 32,
   "metadata": {
    "collapsed": false
   },
   "outputs": [
    {
     "name": "stdout",
     "output_type": "stream",
     "text": [
      "Overwriting kldivergence.py\n"
     ]
    }
   ],
   "source": [
    "%%writefile kldivergence.py\n",
    "from mrjob.job import MRJob, MRStep\n",
    "import re\n",
    "import numpy as np\n",
    "class kldivergence(MRJob):\n",
    "    def mapper1(self, _, line):\n",
    "        index = int(line.split('.',1)[0])\n",
    "        letter_list = re.sub(r\"[^A-Za-z]+\", '', line).lower()\n",
    "        count = {}\n",
    "        for l in letter_list:\n",
    "            if count.has_key(l):\n",
    "                count[l] += 1\n",
    "            else:\n",
    "                count[l] = 1\n",
    "        for key in count:\n",
    "            yield key, [index, (count[key] + 1)*1.0/len(letter_list)+24]  # smoothing\n",
    "#            yield key, [index, (count[key])*1.0/len(letter_list)]       # no smoothing\n",
    "\n",
    "\n",
    "    def reducer1(self, key, values):\n",
    "        # assuming 2 objects, '1' and '2' where P => 1 and Q => 2\n",
    "        # need to handle getting P or Q first\n",
    "        obj = {}\n",
    "        for val in values:\n",
    "            obj[val[0]] = val[1]\n",
    "            \n",
    "        if obj[1]:\n",
    "            yield None, float(obj[1])*np.log(float(obj[1])/float(obj[2]))            \n",
    "    \n",
    "    def reducer2(self, key, values):\n",
    "        kl_sum = 0\n",
    "        for value in values:\n",
    "            kl_sum = kl_sum + value\n",
    "        yield None, kl_sum\n",
    "            \n",
    "    def steps(self):\n",
    "        return [MRStep(mapper=self.mapper1,\n",
    "                        reducer=self.reducer1),\n",
    "                MRStep(reducer=self.reducer2)]\n",
    "\n",
    "if __name__ == '__main__':\n",
    "    kldivergence.run()"
   ]
  },
  {
   "cell_type": "code",
   "execution_count": 33,
   "metadata": {
    "collapsed": false
   },
   "outputs": [
    {
     "name": "stderr",
     "output_type": "stream",
     "text": [
      "WARNING:mrjob.runner:\n",
      "WARNING:mrjob.runner:PLEASE NOTE: Starting in mrjob v0.5.0, protocols will be strict by default. It's recommended you run your job with --strict-protocols or set up mrjob.conf as described at https://pythonhosted.org/mrjob/whats-new.html#ready-for-strict-protocols\n",
      "WARNING:mrjob.runner:\n"
     ]
    },
    {
     "name": "stdout",
     "output_type": "stream",
     "text": [
      "(None, 0.008081913888434489)\n"
     ]
    }
   ],
   "source": [
    "from kldivergence import kldivergence\n",
    "mr_job = kldivergence(args=['kltext.txt'])\n",
    "with mr_job.make_runner() as runner: \n",
    "    runner.run()\n",
    "    # stream_output: get access of the output \n",
    "    for line in runner.stream_output():\n",
    "        print mr_job.parse_output_line(line)"
   ]
  },
  {
   "cell_type": "markdown",
   "metadata": {},
   "source": [
    "Questions:\n",
    "\n",
    "## MT6. \n",
    "\n",
    "#### Which number below is the closest to the result you get for KLD(Line1||line2)?\n",
    "(a) 0.7  \n",
    "(b) 0.5  \n",
    "(c) 0.2  \n",
    "(d) 0.1  \n",
    "\n",
    "**(d)**  0.08088278445318145\n",
    "\n",
    "## MT7. \n",
    "\n",
    "#### Which of the following letters are missing from these character vectors?\n",
    "(a) p and t  \n",
    "(b) k and q  \n",
    "(c) j and q  \n",
    "(d) j and f  \n",
    "\n",
    "**(c)**  also z is missing\n",
    "\n",
    "## MT8. \n",
    "\n",
    "#### The KL divergence on multinomials is defined only when they have nonzero entries. \n",
    "For zero entries, we have to smooth distributions. Suppose we smooth in this way: \n",
    "\n",
    "(ni+1)/(n+24)\n",
    "\n",
    "where ni is the count for letter i and n is the total count of all letters. \n",
    "After smoothing, which number below is the closest to the result you get for KLD(Line1||line2)??\n",
    "\n",
    "(a) 0.08\n",
    "(b) 0.71\n",
    "(c) 0.02\n",
    "(d) 0.11\n",
    "\n",
    "**(c)**  0.008081913888434489"
   ]
  },
  {
   "cell_type": "markdown",
   "metadata": {},
   "source": [
    "===Gradient descent===\n",
    "\n",
    "## MT9. \n",
    "\n",
    "#### Which of the following are true statements with respect to gradient descent for machine learning, where alpha is the learning rate. Select all that apply\n",
    "\n",
    "(a) To make gradient descent converge, we must slowly decrease alpha over time and use a combiner in the context of Hadoop.  \n",
    "(b) Gradient descent is guaranteed to find the global minimum for any function J() regardless of using a combiner or not in the context of Hadoop  \n",
    "(c) Gradient descent can converge even if alpha is kept fixed. (But alpha cannot be too large, or else it may fail to converge.) Combiners will help speed up the process.  \n",
    "(d) For the specific choice of cost function J() used in linear regression, there is no local optima (other than the global optimum).  \n",
    "\n",
    "**(c)(d)**\n",
    "\n",
    "===Weighted K-means===\n",
    "\n",
    "Write a MapReduce job in MRJob to do the training at scale of a weighted K-means algorithm.\n",
    "\n",
    "You can write your own code or you can use most of the code from the following notebook:\n",
    "\n",
    "http://nbviewer.ipython.org/urls/dl.dropbox.com/s/kjtdyi10nwmk4ko/MrJobKmeans-MIDS-Midterm.ipynb\n",
    "https://www.dropbox.com/s/kjtdyi10nwmk4ko/MrJobKmeans-MIDS-Midterm.ipynb?dl=0\n",
    "\n",
    "Weight each example as follows using the inverse vector length (Euclidean norm): \n",
    "\n",
    "weight(X)= 1/||X||, \n",
    "\n",
    "where ||X|| = SQRT(X.X)= SQRT(X1^2 + X2^2)\n",
    "\n",
    "Here X is vector made up of X1 and X2.\n",
    "\n",
    "Using the following data answer the following questions:\n",
    "\n",
    "https://www.dropbox.com/s/ai1uc3q2ucverly/Kmeandata.csv?dl=0"
   ]
  },
  {
   "cell_type": "code",
   "execution_count": null,
   "metadata": {
    "collapsed": true
   },
   "outputs": [],
   "source": []
  },
  {
   "cell_type": "code",
   "execution_count": 61,
   "metadata": {
    "collapsed": false
   },
   "outputs": [
    {
     "name": "stdout",
     "output_type": "stream",
     "text": [
      "Overwriting Kmeans.py\n"
     ]
    }
   ],
   "source": [
    "%%writefile Kmeans.py\n",
    "from numpy import argmin, array, random, sqrt\n",
    "from mrjob.job import MRJob\n",
    "from mrjob.step import MRJobStep\n",
    "from itertools import chain\n",
    "\n",
    "#Calculate find the nearest centroid for data point \n",
    "def MinDist(datapoint, centroid_points):\n",
    "    datapoint = array(datapoint)\n",
    "    centroid_points = array(centroid_points)\n",
    "    diff = datapoint - centroid_points \n",
    "    diffsq = diff**2\n",
    "    \n",
    "    distances = (diffsq.sum(axis = 1))**0.5\n",
    "    # Get the nearest centroid for each instance\n",
    "    min_idx = argmin(distances)\n",
    "    return min_idx\n",
    "\n",
    "#Check whether centroids converge\n",
    "def stop_criterion(centroid_points_old, centroid_points_new,T):\n",
    "    oldvalue = list(chain(*centroid_points_old))\n",
    "    newvalue = list(chain(*centroid_points_new))\n",
    "    Diff = [abs(x-y) for x, y in zip(oldvalue, newvalue)]\n",
    "    Flag = True\n",
    "    for i in Diff:\n",
    "        if(i>T):\n",
    "            Flag = False\n",
    "            break\n",
    "    return Flag\n",
    "\n",
    "\n",
    "class MRKmeans(MRJob):\n",
    "    centroid_points=[]\n",
    "    k=3    \n",
    "    def steps(self):\n",
    "        return [\n",
    "            MRJobStep(mapper_init = self.mapper_init, \n",
    "                      mapper=self.mapper,\n",
    "                      combiner = self.combiner,\n",
    "                      reducer=self.reducer)\n",
    "               ]\n",
    "    #load centroids info from file\n",
    "    def mapper_init(self):\n",
    "        self.centroid_points = \\\n",
    "        [map(float,s.split('\\n')[0].split(',')) for s in open(\"/Users/rcordell/Documents/MIDS/W261/centroids.txt\").readlines()]\n",
    "        open('/Users/rcordell/Documents/MIDS/W261/centroids.txt', 'w').close()\n",
    "    #load data and output the nearest centroid index and data point \n",
    "    def mapper(self, _, line):\n",
    "        D = (map(float,line.split(',')))\n",
    "        idx = MinDist(D,self.centroid_points)\n",
    "        yield int(idx), (D[0],D[1],1)\n",
    "    #Combine sum of data points locally\n",
    "    def combiner(self, idx, inputdata):\n",
    "        sumx = sumy = num = 0\n",
    "        for x,y,n in inputdata:\n",
    "            num = num + n\n",
    "            sumx = sumx + x\n",
    "            sumy = sumy + y\n",
    "        yield int(idx),(sumx,sumy,num)\n",
    "    #Aggregate sum for each cluster and then calculate the new centroids\n",
    "    def reducer(self, idx, inputdata): \n",
    "        centroids = []\n",
    "        num = [0]*self.k \n",
    "        distances = 0\n",
    "        for i in range(self.k):\n",
    "            centroids.append([0,0])\n",
    "        for x, y, n in inputdata:\n",
    "            num[idx] = num[idx] + n\n",
    "            # compute the weights\n",
    "            w = 1.0/(sqrt(x**2+y**2))\n",
    "            # compute the center of the centroid with the weighting\n",
    "            centroids[idx][0] = centroids[idx][0] + x*w\n",
    "            centroids[idx][1] = centroids[idx][1] + y*w\n",
    "        centroids[idx][0] = centroids[idx][0]/num[idx]\n",
    "        centroids[idx][1] = centroids[idx][1]/num[idx]\n",
    "        with open('/Users/rcordell/Documents/MIDS/W261/centroids.txt', 'a') as f:\n",
    "            f.writelines(str(centroids[idx][0]) + ',' + str(centroids[idx][1]) + '\\n')\n",
    "        yield idx,(centroids[idx][0],centroids[idx][1])\n",
    "        \n",
    "if __name__ == '__main__':\n",
    "    MRKmeans.run()"
   ]
  },
  {
   "cell_type": "markdown",
   "metadata": {},
   "source": [
    "## Driver:\n",
    "\n",
    "Generate random initial centroids\n",
    "\n",
    "New Centroids = initial centroids\n",
    "\n",
    "    While(1)：\n",
    "      Cacluate new centroids\n",
    "      stop if new centroids close to old centroids\n",
    "      Updates centroids"
   ]
  },
  {
   "cell_type": "code",
   "execution_count": 62,
   "metadata": {
    "collapsed": false,
    "scrolled": false
   },
   "outputs": [
    {
     "name": "stderr",
     "output_type": "stream",
     "text": [
      "WARNING:mrjob.runner:\n",
      "WARNING:mrjob.runner:PLEASE NOTE: Starting in mrjob v0.5.0, protocols will be strict by default. It's recommended you run your job with --strict-protocols or set up mrjob.conf as described at https://pythonhosted.org/mrjob/whats-new.html#ready-for-strict-protocols\n",
      "WARNING:mrjob.runner:\n",
      "WARNING:mrjob.step:MRJobStep has been renamed to MRStep. The old name will be removed in v0.5.0.\n",
      "WARNING:mrjob.step:MRJobStep has been renamed to MRStep. The old name will be removed in v0.5.0.\n",
      "WARNING:mrjob.step:MRJobStep has been renamed to MRStep. The old name will be removed in v0.5.0.\n",
      "WARNING:mrjob.step:MRJobStep has been renamed to MRStep. The old name will be removed in v0.5.0.\n",
      "WARNING:mrjob.step:MRJobStep has been renamed to MRStep. The old name will be removed in v0.5.0.\n",
      "WARNING:mrjob.step:MRJobStep has been renamed to MRStep. The old name will be removed in v0.5.0.\n",
      "WARNING:mrjob.step:MRJobStep has been renamed to MRStep. The old name will be removed in v0.5.0.\n"
     ]
    },
    {
     "name": "stdout",
     "output_type": "stream",
     "text": [
      "iteration1:\n",
      "0"
     ]
    },
    {
     "name": "stderr",
     "output_type": "stream",
     "text": [
      "WARNING:mrjob.runner:\n",
      "WARNING:mrjob.runner:PLEASE NOTE: Starting in mrjob v0.5.0, protocols will be strict by default. It's recommended you run your job with --strict-protocols or set up mrjob.conf as described at https://pythonhosted.org/mrjob/whats-new.html#ready-for-strict-protocols\n",
      "WARNING:mrjob.runner:\n",
      "WARNING:mrjob.step:MRJobStep has been renamed to MRStep. The old name will be removed in v0.5.0.\n",
      "WARNING:mrjob.step:MRJobStep has been renamed to MRStep. The old name will be removed in v0.5.0.\n",
      "WARNING:mrjob.step:MRJobStep has been renamed to MRStep. The old name will be removed in v0.5.0.\n",
      "WARNING:mrjob.step:MRJobStep has been renamed to MRStep. The old name will be removed in v0.5.0.\n",
      "WARNING:mrjob.step:MRJobStep has been renamed to MRStep. The old name will be removed in v0.5.0.\n",
      "WARNING:mrjob.step:MRJobStep has been renamed to MRStep. The old name will be removed in v0.5.0.\n",
      "WARNING:mrjob.step:MRJobStep has been renamed to MRStep. The old name will be removed in v0.5.0.\n"
     ]
    },
    {
     "name": "stdout",
     "output_type": "stream",
     "text": [
      " [-0.0007331943253071409, 7.400466102054529e-05]\n",
      "1 [0.0012130921552015385, 3.483577198768393e-05]\n",
      "2 [5.536940612443592e-05, 0.0012197451416389817]\n",
      "\n",
      "\n",
      "iteration2:\n",
      "0"
     ]
    },
    {
     "name": "stderr",
     "output_type": "stream",
     "text": [
      "WARNING:mrjob.runner:\n",
      "WARNING:mrjob.runner:PLEASE NOTE: Starting in mrjob v0.5.0, protocols will be strict by default. It's recommended you run your job with --strict-protocols or set up mrjob.conf as described at https://pythonhosted.org/mrjob/whats-new.html#ready-for-strict-protocols\n",
      "WARNING:mrjob.runner:\n",
      "WARNING:mrjob.step:MRJobStep has been renamed to MRStep. The old name will be removed in v0.5.0.\n",
      "WARNING:mrjob.step:MRJobStep has been renamed to MRStep. The old name will be removed in v0.5.0.\n",
      "WARNING:mrjob.step:MRJobStep has been renamed to MRStep. The old name will be removed in v0.5.0.\n",
      "WARNING:mrjob.step:MRJobStep has been renamed to MRStep. The old name will be removed in v0.5.0.\n",
      "WARNING:mrjob.step:MRJobStep has been renamed to MRStep. The old name will be removed in v0.5.0.\n",
      "WARNING:mrjob.step:MRJobStep has been renamed to MRStep. The old name will be removed in v0.5.0.\n",
      "WARNING:mrjob.step:MRJobStep has been renamed to MRStep. The old name will be removed in v0.5.0.\n"
     ]
    },
    {
     "name": "stdout",
     "output_type": "stream",
     "text": [
      " [-0.0010111032671444866, -6.211389024194747e-06]\n",
      "1 [0.001001990373166972, -5.227251754464414e-06]\n",
      "2 [2.6800371010696545e-06, 0.000987163193201444]\n",
      "\n",
      "\n",
      "iteration3:\n",
      "0"
     ]
    },
    {
     "name": "stderr",
     "output_type": "stream",
     "text": [
      "WARNING:mrjob.runner:\n",
      "WARNING:mrjob.runner:PLEASE NOTE: Starting in mrjob v0.5.0, protocols will be strict by default. It's recommended you run your job with --strict-protocols or set up mrjob.conf as described at https://pythonhosted.org/mrjob/whats-new.html#ready-for-strict-protocols\n",
      "WARNING:mrjob.runner:\n",
      "WARNING:mrjob.step:MRJobStep has been renamed to MRStep. The old name will be removed in v0.5.0.\n",
      "WARNING:mrjob.step:MRJobStep has been renamed to MRStep. The old name will be removed in v0.5.0.\n",
      "WARNING:mrjob.step:MRJobStep has been renamed to MRStep. The old name will be removed in v0.5.0.\n",
      "WARNING:mrjob.step:MRJobStep has been renamed to MRStep. The old name will be removed in v0.5.0.\n",
      "WARNING:mrjob.step:MRJobStep has been renamed to MRStep. The old name will be removed in v0.5.0.\n",
      "WARNING:mrjob.step:MRJobStep has been renamed to MRStep. The old name will be removed in v0.5.0.\n",
      "WARNING:mrjob.step:MRJobStep has been renamed to MRStep. The old name will be removed in v0.5.0.\n"
     ]
    },
    {
     "name": "stdout",
     "output_type": "stream",
     "text": [
      " [-0.0009990009813361815, 1.8786788043542625e-07]\n",
      "1 [0.0010009890561472592, -4.890140941246349e-06]\n",
      "2 [1.0308682169001185e-05, 0.0009999468641242585]\n",
      "\n",
      "\n",
      "iteration4:\n",
      "0"
     ]
    },
    {
     "name": "stderr",
     "output_type": "stream",
     "text": [
      "WARNING:mrjob.runner:\n",
      "WARNING:mrjob.runner:PLEASE NOTE: Starting in mrjob v0.5.0, protocols will be strict by default. It's recommended you run your job with --strict-protocols or set up mrjob.conf as described at https://pythonhosted.org/mrjob/whats-new.html#ready-for-strict-protocols\n",
      "WARNING:mrjob.runner:\n",
      "WARNING:mrjob.step:MRJobStep has been renamed to MRStep. The old name will be removed in v0.5.0.\n",
      "WARNING:mrjob.step:MRJobStep has been renamed to MRStep. The old name will be removed in v0.5.0.\n",
      "WARNING:mrjob.step:MRJobStep has been renamed to MRStep. The old name will be removed in v0.5.0.\n",
      "WARNING:mrjob.step:MRJobStep has been renamed to MRStep. The old name will be removed in v0.5.0.\n",
      "WARNING:mrjob.step:MRJobStep has been renamed to MRStep. The old name will be removed in v0.5.0.\n",
      "WARNING:mrjob.step:MRJobStep has been renamed to MRStep. The old name will be removed in v0.5.0.\n",
      "WARNING:mrjob.step:MRJobStep has been renamed to MRStep. The old name will be removed in v0.5.0.\n"
     ]
    },
    {
     "name": "stdout",
     "output_type": "stream",
     "text": [
      " [-0.0009990009813361815, 1.8786788043542625e-07]\n",
      "1 [0.001001990373166972, -5.227251754464414e-06]\n",
      "2 [1.0627828159704498e-05, 0.0009989444655603243]\n",
      "\n",
      "\n",
      "iteration5:\n",
      "0"
     ]
    },
    {
     "name": "stderr",
     "output_type": "stream",
     "text": [
      "WARNING:mrjob.runner:\n",
      "WARNING:mrjob.runner:PLEASE NOTE: Starting in mrjob v0.5.0, protocols will be strict by default. It's recommended you run your job with --strict-protocols or set up mrjob.conf as described at https://pythonhosted.org/mrjob/whats-new.html#ready-for-strict-protocols\n",
      "WARNING:mrjob.runner:\n",
      "WARNING:mrjob.step:MRJobStep has been renamed to MRStep. The old name will be removed in v0.5.0.\n",
      "WARNING:mrjob.step:MRJobStep has been renamed to MRStep. The old name will be removed in v0.5.0.\n",
      "WARNING:mrjob.step:MRJobStep has been renamed to MRStep. The old name will be removed in v0.5.0.\n",
      "WARNING:mrjob.step:MRJobStep has been renamed to MRStep. The old name will be removed in v0.5.0.\n",
      "WARNING:mrjob.step:MRJobStep has been renamed to MRStep. The old name will be removed in v0.5.0.\n",
      "WARNING:mrjob.step:MRJobStep has been renamed to MRStep. The old name will be removed in v0.5.0.\n",
      "WARNING:mrjob.step:MRJobStep has been renamed to MRStep. The old name will be removed in v0.5.0.\n"
     ]
    },
    {
     "name": "stdout",
     "output_type": "stream",
     "text": [
      " [-0.0009990009813361815, 1.8786788043542625e-07]\n",
      "1 [0.001001990373166972, -5.227251754464414e-06]\n",
      "2 [1.0627828159704498e-05, 0.0009989444655603243]\n",
      "\n",
      "\n",
      "iteration6:\n",
      "0"
     ]
    },
    {
     "name": "stderr",
     "output_type": "stream",
     "text": [
      "WARNING:mrjob.runner:\n",
      "WARNING:mrjob.runner:PLEASE NOTE: Starting in mrjob v0.5.0, protocols will be strict by default. It's recommended you run your job with --strict-protocols or set up mrjob.conf as described at https://pythonhosted.org/mrjob/whats-new.html#ready-for-strict-protocols\n",
      "WARNING:mrjob.runner:\n",
      "WARNING:mrjob.step:MRJobStep has been renamed to MRStep. The old name will be removed in v0.5.0.\n",
      "WARNING:mrjob.step:MRJobStep has been renamed to MRStep. The old name will be removed in v0.5.0.\n",
      "WARNING:mrjob.step:MRJobStep has been renamed to MRStep. The old name will be removed in v0.5.0.\n",
      "WARNING:mrjob.step:MRJobStep has been renamed to MRStep. The old name will be removed in v0.5.0.\n",
      "WARNING:mrjob.step:MRJobStep has been renamed to MRStep. The old name will be removed in v0.5.0.\n",
      "WARNING:mrjob.step:MRJobStep has been renamed to MRStep. The old name will be removed in v0.5.0.\n",
      "WARNING:mrjob.step:MRJobStep has been renamed to MRStep. The old name will be removed in v0.5.0.\n"
     ]
    },
    {
     "name": "stdout",
     "output_type": "stream",
     "text": [
      " [-0.0009990009813361815, 1.8786788043542625e-07]\n",
      "1 [0.001001990373166972, -5.227251754464414e-06]\n",
      "2 [1.0627828159704498e-05, 0.0009989444655603243]\n",
      "\n",
      "\n",
      "iteration7:\n",
      "0"
     ]
    },
    {
     "name": "stderr",
     "output_type": "stream",
     "text": [
      "WARNING:mrjob.runner:\n",
      "WARNING:mrjob.runner:PLEASE NOTE: Starting in mrjob v0.5.0, protocols will be strict by default. It's recommended you run your job with --strict-protocols or set up mrjob.conf as described at https://pythonhosted.org/mrjob/whats-new.html#ready-for-strict-protocols\n",
      "WARNING:mrjob.runner:\n",
      "WARNING:mrjob.step:MRJobStep has been renamed to MRStep. The old name will be removed in v0.5.0.\n",
      "WARNING:mrjob.step:MRJobStep has been renamed to MRStep. The old name will be removed in v0.5.0.\n",
      "WARNING:mrjob.step:MRJobStep has been renamed to MRStep. The old name will be removed in v0.5.0.\n",
      "WARNING:mrjob.step:MRJobStep has been renamed to MRStep. The old name will be removed in v0.5.0.\n",
      "WARNING:mrjob.step:MRJobStep has been renamed to MRStep. The old name will be removed in v0.5.0.\n",
      "WARNING:mrjob.step:MRJobStep has been renamed to MRStep. The old name will be removed in v0.5.0.\n",
      "WARNING:mrjob.step:MRJobStep has been renamed to MRStep. The old name will be removed in v0.5.0.\n"
     ]
    },
    {
     "name": "stdout",
     "output_type": "stream",
     "text": [
      " [-0.0009990009813361815, 1.8786788043542625e-07]\n",
      "1 [0.001001990373166972, -5.227251754464414e-06]\n",
      "2 [1.0627828159704498e-05, 0.0009989444655603243]\n",
      "\n",
      "\n",
      "iteration8:\n",
      "0"
     ]
    },
    {
     "name": "stderr",
     "output_type": "stream",
     "text": [
      "WARNING:mrjob.runner:\n",
      "WARNING:mrjob.runner:PLEASE NOTE: Starting in mrjob v0.5.0, protocols will be strict by default. It's recommended you run your job with --strict-protocols or set up mrjob.conf as described at https://pythonhosted.org/mrjob/whats-new.html#ready-for-strict-protocols\n",
      "WARNING:mrjob.runner:\n",
      "WARNING:mrjob.step:MRJobStep has been renamed to MRStep. The old name will be removed in v0.5.0.\n",
      "WARNING:mrjob.step:MRJobStep has been renamed to MRStep. The old name will be removed in v0.5.0.\n",
      "WARNING:mrjob.step:MRJobStep has been renamed to MRStep. The old name will be removed in v0.5.0.\n",
      "WARNING:mrjob.step:MRJobStep has been renamed to MRStep. The old name will be removed in v0.5.0.\n",
      "WARNING:mrjob.step:MRJobStep has been renamed to MRStep. The old name will be removed in v0.5.0.\n",
      "WARNING:mrjob.step:MRJobStep has been renamed to MRStep. The old name will be removed in v0.5.0.\n",
      "WARNING:mrjob.step:MRJobStep has been renamed to MRStep. The old name will be removed in v0.5.0.\n"
     ]
    },
    {
     "name": "stdout",
     "output_type": "stream",
     "text": [
      " [-0.0009990009813361815, 1.8786788043542625e-07]\n",
      "1 [0.001001990373166972, -5.227251754464414e-06]\n",
      "2 [1.0627828159704498e-05, 0.0009989444655603243]\n",
      "\n",
      "\n",
      "iteration9:\n",
      "0"
     ]
    },
    {
     "name": "stderr",
     "output_type": "stream",
     "text": [
      "WARNING:mrjob.runner:\n",
      "WARNING:mrjob.runner:PLEASE NOTE: Starting in mrjob v0.5.0, protocols will be strict by default. It's recommended you run your job with --strict-protocols or set up mrjob.conf as described at https://pythonhosted.org/mrjob/whats-new.html#ready-for-strict-protocols\n",
      "WARNING:mrjob.runner:\n",
      "WARNING:mrjob.step:MRJobStep has been renamed to MRStep. The old name will be removed in v0.5.0.\n",
      "WARNING:mrjob.step:MRJobStep has been renamed to MRStep. The old name will be removed in v0.5.0.\n",
      "WARNING:mrjob.step:MRJobStep has been renamed to MRStep. The old name will be removed in v0.5.0.\n",
      "WARNING:mrjob.step:MRJobStep has been renamed to MRStep. The old name will be removed in v0.5.0.\n",
      "WARNING:mrjob.step:MRJobStep has been renamed to MRStep. The old name will be removed in v0.5.0.\n",
      "WARNING:mrjob.step:MRJobStep has been renamed to MRStep. The old name will be removed in v0.5.0.\n",
      "WARNING:mrjob.step:MRJobStep has been renamed to MRStep. The old name will be removed in v0.5.0.\n"
     ]
    },
    {
     "name": "stdout",
     "output_type": "stream",
     "text": [
      " [-0.0009990009813361815, 1.8786788043542625e-07]\n",
      "1 [0.001001990373166972, -5.227251754464414e-06]\n",
      "2 [1.0627828159704498e-05, 0.0009989444655603243]\n",
      "\n",
      "\n",
      "iteration10:\n",
      "0 [-0.0009990009813361815, 1.8786788043542625e-07]\n",
      "1 [0.001001990373166972, -5.227251754464414e-06]\n",
      "2 [1.0627828159704498e-05, 0.0009989444655603243]\n",
      "\n",
      "\n",
      "Centroids\n",
      "\n",
      "[[-0.0009990009813361815, 1.8786788043542625e-07], [0.001001990373166972, -5.227251754464414e-06], [1.0627828159704498e-05, 0.0009989444655603243]]\n"
     ]
    }
   ],
   "source": [
    "from numpy import random, array\n",
    "from Kmeans import MRKmeans, stop_criterion\n",
    "mr_job = MRKmeans(args=['Kmeandata.csv'])\n",
    "\n",
    "#Geneate initial centroids\n",
    "centroid_points = [[0,0],[6,3],[3,6]]\n",
    "k = 3\n",
    "with open('centroids.txt', 'w+') as f:\n",
    "        f.writelines(','.join(str(j) for j in i) + '\\n' for i in centroid_points)\n",
    "\n",
    "# Update centroids iteratively\n",
    "for i in range(10):\n",
    "    # save previous centoids to check convergency\n",
    "    centroid_points_old = centroid_points[:]\n",
    "    print \"iteration\"+str(i+1)+\":\"\n",
    "    with mr_job.make_runner() as runner: \n",
    "        runner.run()\n",
    "        # stream_output: get access of the output \n",
    "        for line in runner.stream_output():\n",
    "            key,value =  mr_job.parse_output_line(line)\n",
    "            print key, value\n",
    "            centroid_points[key] = value\n",
    "    print \"\\n\"\n",
    "    i = i + 1\n",
    "print \"Centroids\\n\"\n",
    "print centroid_points"
   ]
  },
  {
   "cell_type": "markdown",
   "metadata": {},
   "source": [
    "**I am unable to complete these questions because I was unable to get the python notebook working on my local machine\n",
    "and ran out of time.**"
   ]
  },
  {
   "cell_type": "markdown",
   "metadata": {},
   "source": [
    "Questions:\n",
    "\n",
    "## MT10. \n",
    "Which result below is the closest to the centroids you got after running your weighted K-means code for 10 iterations?\n",
    "\n",
    "(a) (-4.0,0.0), (4.0,0.0), (6.0,6.0)  \n",
    "(b) (-4.5,0.0), (4.5,0.0), (0.0,4.5)  \n",
    "(c) (-5.5,0.0), (0.0,0.0), (3.0,3.0)  \n",
    "(d) (-4.5,0.0), (-4.0,0.0), (0.0,4.5)  \n",
    "\n",
    "## MT11. \n",
    "\n",
    "Using the result of the previous question, which number below is the closest \n",
    "to the average weighted distance between each example and its assigned (closest) centroid?\n",
    "The average weighted distance is defined as \n",
    "sum over i  (weighted_distance_i)     /  sum over i (weight_i)\n",
    "\n",
    "(a) 2.5  \n",
    "(b) 1.5  \n",
    "(c) 0.5  \n",
    "(d) 4.0  "
   ]
  },
  {
   "cell_type": "markdown",
   "metadata": {},
   "source": [
    "## MT12. \n",
    "Which of the following statements are true? Select all that apply. \n",
    "a)\t  Since K-Means is an unsupervised learning algorithm, it cannot overfit the data, and thus it is always better to have as large a number of clusters as is computationally feasible.   \n",
    "b)\t  The standard way of initializing K-means is setting μ1=⋯=μk to be equal to a vector of zeros.   \n",
    "c)\t  For some datasets, the \"right\" or \"correct\" value of K (the number of clusters) can be ambiguous, and hard even for a human expert looking carefully at the data to decide.   \n",
    "d)\t  A good way to initialize K-means is to select K (distinct) examples from the training set and set the cluster centroids equal to these selected examples.   \n",
    "\n",
    "**(c)(d)**"
   ]
  },
  {
   "cell_type": "markdown",
   "metadata": {},
   "source": []
  }
 ],
 "metadata": {
  "kernelspec": {
   "display_name": "Python 2",
   "language": "python",
   "name": "python2"
  },
  "language_info": {
   "codemirror_mode": {
    "name": "ipython",
    "version": 2
   },
   "file_extension": ".py",
   "mimetype": "text/x-python",
   "name": "python",
   "nbconvert_exporter": "python",
   "pygments_lexer": "ipython2",
   "version": "2.7.11"
  }
 },
 "nbformat": 4,
 "nbformat_minor": 0
}
