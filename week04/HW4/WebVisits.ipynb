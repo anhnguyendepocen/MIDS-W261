{
 "cells": [
  {
   "cell_type": "markdown",
   "metadata": {},
   "source": [
    "We created the data by sampling and processing the www.microsoft.com logs. The data records the use of www.microsoft.com by 38000 anonymous, randomly-selected users. For each user, the data lists all the areas of the web site (Vroots) that user visited in a one week timeframe.\n",
    "\n",
    "Users are identified only by a sequential number, for example, User #14988, User #14989, etc. The file contains no personally identifiable information. The 294 Vroots arc identified by their title (e.g. \"NetShow for PowerPoint\") and URL (e.g. \"/stream\"). The data comes from one week in February, 1998.\n",
    "\n",
    "Dataset format:\n",
    "\n",
    "  -- The data is in an ASCII-based sparse-data format called \"DST\".\n",
    "     Each line of the data file starts with a letter which tells the line's type.\n",
    "     The three line types of interest arc:\n",
    "         -- Attribute lines:\n",
    "             For example, 'A,1277,1,\"NetShow for PowerPoint\",\"/stream\"\n",
    "             Where:\n",
    "               'A' marks this as an attribute line,\n",
    "               '1277' is the attribute ID number for an area of the website\n",
    "                     (called a Vroot),\n",
    "               '1' may be ignored,\n",
    "               \"NetShow for PowerPoint\"' is the title of the vroot\n",
    "               1n/stream\"' is the URL relative to \"http://www.microsoft.com\"\n",
    "         -- Case and Vote Lines:\n",
    "             For each user, there is a case line followed by zero or more vote lines.\n",
    "              For example:\n",
    "                  C,\"10164\",10164\n",
    "                  V,1123,1\n",
    "                  V,1009,1\n",
    "                  V,1052,1\n",
    "              Where:\n",
    "                  'C' marks this as a case line,\n",
    "                   '10164' is the case ID number of a user,\n",
    "                  'V' marks the vote lines for this case,\n",
    "                  '1123', 1009', 1052' are the attributes ID's of Vroots that a\n",
    "                       user visited.\n",
    "                   '1' may be ignored."
   ]
  },
  {
   "cell_type": "code",
   "execution_count": 2,
   "metadata": {
    "collapsed": false
   },
   "outputs": [
    {
     "name": "stdout",
     "output_type": "stream",
     "text": [
      "Overwriting top_pages.py\n"
     ]
    }
   ],
   "source": [
    "%%writefile top_pages.py\n",
    "\"\"\"Find Vroots with more than 400 visits.\n",
    "\n",
    "This program will take a CSV data file and output tab-seperated lines of\n",
    "\n",
    "    Vroot -> number of visits\n",
    "\n",
    "To run:\n",
    "\n",
    "    python top_pages.py anonymous-msweb.data\n",
    "\n",
    "To store output:\n",
    "\n",
    "    python top_pages.py anonymous-msweb.data > top_pages.out\n",
    "\"\"\"\n",
    "from mrjob.job import MRJob\n",
    "import csv\n",
    "\n",
    "def csv_readline(line):\n",
    "    \"\"\"Given a sting CSV line, return a list of strings.\"\"\"\n",
    "    for row in csv.reader([line]):\n",
    "        return row\n",
    "\n",
    "class TopPages(MRJob):\n",
    "\n",
    "    def mapper(self, line_no, line):\n",
    "        \"\"\"Extracts the Vroot that was visited\"\"\"\n",
    "        cell = csv_readline(line)\n",
    "        if cell[0] == 'V':\n",
    "            yield cell[1],1\n",
    "                  # What  Key, Value  do we want to output?\n",
    "\n",
    "    def reducer(self, vroot, visit_counts):\n",
    "        \"\"\"Sumarizes the visit counts by adding them together.  If total visits\n",
    "        is more than 400, yield the results\"\"\"\n",
    "        total = sum(i for i in visit_counts)\n",
    "        if total > 400:\n",
    "            yield vroot, total\n",
    "        \n",
    "if __name__ == '__main__':\n",
    "    TopPages.run()"
   ]
  },
  {
   "cell_type": "code",
   "execution_count": 3,
   "metadata": {
    "collapsed": true
   },
   "outputs": [],
   "source": [
    "!chmod a+x top_pages.py"
   ]
  },
  {
   "cell_type": "code",
   "execution_count": 4,
   "metadata": {
    "collapsed": false
   },
   "outputs": [
    {
     "name": "stdout",
     "output_type": "stream",
     "text": [
      "no configs found; falling back on auto-configuration\n",
      "no configs found; falling back on auto-configuration\n",
      "creating tmp directory /var/folders/z_/rfp5q2cd6db13d19v6yw0n8w0000gn/T/top_pages.rcordell.20160202.224559.802192\n",
      "\n",
      "PLEASE NOTE: Starting in mrjob v0.5.0, protocols will be strict by default. It's recommended you run your job with --strict-protocols or set up mrjob.conf as described at https://pythonhosted.org/mrjob/whats-new.html#ready-for-strict-protocols\n",
      "\n",
      "writing to /var/folders/z_/rfp5q2cd6db13d19v6yw0n8w0000gn/T/top_pages.rcordell.20160202.224559.802192/step-0-mapper_part-00000\n",
      "Counters from step 1:\n",
      "  (no counters found)\n",
      "writing to /var/folders/z_/rfp5q2cd6db13d19v6yw0n8w0000gn/T/top_pages.rcordell.20160202.224559.802192/step-0-mapper-sorted\n",
      "> sort /var/folders/z_/rfp5q2cd6db13d19v6yw0n8w0000gn/T/top_pages.rcordell.20160202.224559.802192/step-0-mapper_part-00000\n",
      "writing to /var/folders/z_/rfp5q2cd6db13d19v6yw0n8w0000gn/T/top_pages.rcordell.20160202.224559.802192/step-0-reducer_part-00000\n",
      "Counters from step 1:\n",
      "  (no counters found)\n",
      "Moving /var/folders/z_/rfp5q2cd6db13d19v6yw0n8w0000gn/T/top_pages.rcordell.20160202.224559.802192/step-0-reducer_part-00000 -> /var/folders/z_/rfp5q2cd6db13d19v6yw0n8w0000gn/T/top_pages.rcordell.20160202.224559.802192/output/part-00000\n",
      "Streaming final output from /var/folders/z_/rfp5q2cd6db13d19v6yw0n8w0000gn/T/top_pages.rcordell.20160202.224559.802192/output\n",
      "\"1000\"\t912\n",
      "\"1001\"\t4451\n",
      "\"1002\"\t749\n",
      "\"1003\"\t2968\n",
      "\"1004\"\t8463\n",
      "\"1007\"\t865\n",
      "\"1008\"\t10836\n",
      "\"1009\"\t4628\n",
      "\"1010\"\t698\n",
      "\"1014\"\t728\n",
      "\"1017\"\t5108\n",
      "\"1018\"\t5330\n",
      "\"1020\"\t1087\n",
      "\"1024\"\t521\n",
      "\"1025\"\t2123\n",
      "\"1026\"\t3220\n",
      "\"1027\"\t507\n",
      "\"1030\"\t1115\n",
      "\"1031\"\t574\n",
      "\"1032\"\t1446\n",
      "\"1034\"\t9383\n",
      "\"1035\"\t1791\n",
      "\"1036\"\t759\n",
      "\"1037\"\t1160\n",
      "\"1038\"\t1110\n",
      "\"1040\"\t1506\n",
      "\"1041\"\t1500\n",
      "\"1045\"\t474\n",
      "\"1046\"\t636\n",
      "\"1052\"\t842\n",
      "\"1053\"\t670\n",
      "\"1058\"\t672\n",
      "\"1067\"\t548\n",
      "\"1070\"\t602\n",
      "\"1074\"\t584\n",
      "\"1076\"\t444\n",
      "\"1078\"\t462\n",
      "\"1295\"\t716\n",
      "removing tmp directory /var/folders/z_/rfp5q2cd6db13d19v6yw0n8w0000gn/T/top_pages.rcordell.20160202.224559.802192\n"
     ]
    }
   ],
   "source": [
    "!python top_pages.py anonymous-msweb.data"
   ]
  },
  {
   "cell_type": "code",
   "execution_count": 5,
   "metadata": {
    "collapsed": false
   },
   "outputs": [
    {
     "name": "stderr",
     "output_type": "stream",
     "text": [
      "WARNING:mrjob.runner:\n",
      "WARNING:mrjob.runner:PLEASE NOTE: Starting in mrjob v0.5.0, protocols will be strict by default. It's recommended you run your job with --strict-protocols or set up mrjob.conf as described at https://pythonhosted.org/mrjob/whats-new.html#ready-for-strict-protocols\n",
      "WARNING:mrjob.runner:\n"
     ]
    },
    {
     "name": "stdout",
     "output_type": "stream",
     "text": [
      "('1000', 912)\n",
      "('1001', 4451)\n",
      "('1002', 749)\n",
      "('1003', 2968)\n",
      "('1004', 8463)\n",
      "('1007', 865)\n",
      "('1008', 10836)\n",
      "('1009', 4628)\n",
      "('1010', 698)\n",
      "('1014', 728)\n",
      "('1017', 5108)\n",
      "('1018', 5330)\n",
      "('1020', 1087)\n",
      "('1024', 521)\n",
      "('1025', 2123)\n",
      "('1026', 3220)\n",
      "('1027', 507)\n",
      "('1030', 1115)\n",
      "('1031', 574)\n",
      "('1032', 1446)\n",
      "('1034', 9383)\n",
      "('1035', 1791)\n",
      "('1036', 759)\n",
      "('1037', 1160)\n",
      "('1038', 1110)\n",
      "('1040', 1506)\n",
      "('1041', 1500)\n",
      "('1045', 474)\n",
      "('1046', 636)\n",
      "('1052', 842)\n",
      "('1053', 670)\n",
      "('1058', 672)\n",
      "('1067', 548)\n",
      "('1070', 602)\n",
      "('1074', 584)\n",
      "('1076', 444)\n",
      "('1078', 462)\n",
      "('1295', 716)\n"
     ]
    }
   ],
   "source": [
    "from top_pages import TopPages\n",
    "import csv\n",
    "\n",
    "mr_job = TopPages(args=['anonymous-msweb.data'])\n",
    "with mr_job.make_runner() as runner:\n",
    "    runner.run()\n",
    "    for line in runner.stream_output():\n",
    "        print mr_job.parse_output_line(line)"
   ]
  },
  {
   "cell_type": "code",
   "execution_count": null,
   "metadata": {
    "collapsed": true
   },
   "outputs": [],
   "source": []
  }
 ],
 "metadata": {
  "kernelspec": {
   "display_name": "Python 2",
   "language": "python",
   "name": "python2"
  },
  "language_info": {
   "codemirror_mode": {
    "name": "ipython",
    "version": 2
   },
   "file_extension": ".py",
   "mimetype": "text/x-python",
   "name": "python",
   "nbconvert_exporter": "python",
   "pygments_lexer": "ipython2",
   "version": "2.7.11"
  }
 },
 "nbformat": 4,
 "nbformat_minor": 0
}
